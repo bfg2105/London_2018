{
 "cells": [
  {
   "cell_type": "markdown",
   "metadata": {},
   "source": [
    "- exploring traffic data"
   ]
  },
  {
   "cell_type": "code",
   "execution_count": 1,
   "metadata": {},
   "outputs": [
    {
     "name": "stdout",
     "output_type": "stream",
     "text": [
      "Populating the interactive namespace from numpy and matplotlib\n"
     ]
    }
   ],
   "source": [
    "import pandas as pd\n",
    "import numpy as np\n",
    "import pylab as pl\n",
    "%pylab inline"
   ]
  },
  {
   "cell_type": "code",
   "execution_count": 62,
   "metadata": {},
   "outputs": [
    {
     "data": {
      "text/html": [
       "<div>\n",
       "<style>\n",
       "    .dataframe thead tr:only-child th {\n",
       "        text-align: right;\n",
       "    }\n",
       "\n",
       "    .dataframe thead th {\n",
       "        text-align: left;\n",
       "    }\n",
       "\n",
       "    .dataframe tbody tr th {\n",
       "        vertical-align: top;\n",
       "    }\n",
       "</style>\n",
       "<table border=\"1\" class=\"dataframe\">\n",
       "  <thead>\n",
       "    <tr style=\"text-align: right;\">\n",
       "      <th></th>\n",
       "      <th>TfL Reference (TADS area)</th>\n",
       "      <th>Camera Head Reference</th>\n",
       "      <th>Borough</th>\n",
       "      <th>Easting</th>\n",
       "      <th>Northing</th>\n",
       "      <th>Speed limit</th>\n",
       "      <th>Location</th>\n",
       "      <th>Fixed Camera Type</th>\n",
       "      <th>Site monitoring start date</th>\n",
       "      <th>Collisions;Fatal;1990</th>\n",
       "      <th>...</th>\n",
       "      <th>Casualties;Slight;2009</th>\n",
       "      <th>Casualties;Fatal;2010</th>\n",
       "      <th>Casualties;Serious;2010</th>\n",
       "      <th>Casualties;Slight;2010</th>\n",
       "      <th>Casualties;Fatal;2011</th>\n",
       "      <th>Casualties;Serious;2011</th>\n",
       "      <th>Casualties;Slight;2011</th>\n",
       "      <th>Casualties;Fatal;2012</th>\n",
       "      <th>Casualties;Serious;2012</th>\n",
       "      <th>Casualties;Slight;2012</th>\n",
       "    </tr>\n",
       "  </thead>\n",
       "  <tbody>\n",
       "    <tr>\n",
       "      <th>0</th>\n",
       "      <td>CR-B-16012</td>\n",
       "      <td>16/802013</td>\n",
       "      <td>Barking</td>\n",
       "      <td>547752</td>\n",
       "      <td>186619</td>\n",
       "      <td>30mph</td>\n",
       "      <td>-  Valence Avenue  -  Becontree Avenue</td>\n",
       "      <td>Red Light</td>\n",
       "      <td>01/09/1994</td>\n",
       "      <td>0</td>\n",
       "      <td>...</td>\n",
       "      <td>2</td>\n",
       "      <td>0</td>\n",
       "      <td>0</td>\n",
       "      <td>4</td>\n",
       "      <td>0</td>\n",
       "      <td>0</td>\n",
       "      <td>1</td>\n",
       "      <td>0</td>\n",
       "      <td>0</td>\n",
       "      <td>3</td>\n",
       "    </tr>\n",
       "    <tr>\n",
       "      <th>1</th>\n",
       "      <td>CR-B-16011</td>\n",
       "      <td>16/802014</td>\n",
       "      <td>Barking</td>\n",
       "      <td>545310</td>\n",
       "      <td>185088</td>\n",
       "      <td>30mph</td>\n",
       "      <td>A124  Longbridge Road  -  Upney Lane</td>\n",
       "      <td>Red Light</td>\n",
       "      <td>01/09/1994</td>\n",
       "      <td>0</td>\n",
       "      <td>...</td>\n",
       "      <td>4</td>\n",
       "      <td>0</td>\n",
       "      <td>0</td>\n",
       "      <td>5</td>\n",
       "      <td>0</td>\n",
       "      <td>0</td>\n",
       "      <td>4</td>\n",
       "      <td>0</td>\n",
       "      <td>1</td>\n",
       "      <td>7</td>\n",
       "    </tr>\n",
       "    <tr>\n",
       "      <th>2</th>\n",
       "      <td>CR-B-16005</td>\n",
       "      <td>16/802015</td>\n",
       "      <td>Barking</td>\n",
       "      <td>549067</td>\n",
       "      <td>184517</td>\n",
       "      <td>20mph</td>\n",
       "      <td>A1240  Heathway  -  Church Elm Lane</td>\n",
       "      <td>Red Light</td>\n",
       "      <td>01/10/1994</td>\n",
       "      <td>0</td>\n",
       "      <td>...</td>\n",
       "      <td>5</td>\n",
       "      <td>0</td>\n",
       "      <td>0</td>\n",
       "      <td>2</td>\n",
       "      <td>0</td>\n",
       "      <td>0</td>\n",
       "      <td>2</td>\n",
       "      <td>0</td>\n",
       "      <td>0</td>\n",
       "      <td>0</td>\n",
       "    </tr>\n",
       "    <tr>\n",
       "      <th>3</th>\n",
       "      <td>CRTH-16003</td>\n",
       "      <td>16/802016</td>\n",
       "      <td>Barking</td>\n",
       "      <td>548860</td>\n",
       "      <td>183545</td>\n",
       "      <td>30mph</td>\n",
       "      <td>A1306  Ripple Road  -  Merrielands Crescent</td>\n",
       "      <td>Red Light</td>\n",
       "      <td>01/07/1995</td>\n",
       "      <td>0</td>\n",
       "      <td>...</td>\n",
       "      <td>2</td>\n",
       "      <td>0</td>\n",
       "      <td>0</td>\n",
       "      <td>4</td>\n",
       "      <td>0</td>\n",
       "      <td>0</td>\n",
       "      <td>3</td>\n",
       "      <td>0</td>\n",
       "      <td>0</td>\n",
       "      <td>10</td>\n",
       "    </tr>\n",
       "    <tr>\n",
       "      <th>4</th>\n",
       "      <td>CR-B-16008</td>\n",
       "      <td>16/802019</td>\n",
       "      <td>Barking</td>\n",
       "      <td>548987</td>\n",
       "      <td>185794</td>\n",
       "      <td>30mph</td>\n",
       "      <td>A1240  Heathway  -  Oxlow Lane</td>\n",
       "      <td>Red Light</td>\n",
       "      <td>01/03/1996</td>\n",
       "      <td>0</td>\n",
       "      <td>...</td>\n",
       "      <td>1</td>\n",
       "      <td>0</td>\n",
       "      <td>0</td>\n",
       "      <td>1</td>\n",
       "      <td>0</td>\n",
       "      <td>0</td>\n",
       "      <td>1</td>\n",
       "      <td>0</td>\n",
       "      <td>0</td>\n",
       "      <td>2</td>\n",
       "    </tr>\n",
       "  </tbody>\n",
       "</table>\n",
       "<p>5 rows × 147 columns</p>\n",
       "</div>"
      ],
      "text/plain": [
       "  TfL Reference (TADS area) Camera Head Reference  Borough  Easting  Northing  \\\n",
       "0                CR-B-16012             16/802013  Barking   547752    186619   \n",
       "1                CR-B-16011             16/802014  Barking   545310    185088   \n",
       "2                CR-B-16005             16/802015  Barking   549067    184517   \n",
       "3                CRTH-16003             16/802016  Barking   548860    183545   \n",
       "4                CR-B-16008             16/802019  Barking   548987    185794   \n",
       "\n",
       "  Speed limit                                     Location Fixed Camera Type  \\\n",
       "0       30mph       -  Valence Avenue  -  Becontree Avenue         Red Light   \n",
       "1       30mph         A124  Longbridge Road  -  Upney Lane         Red Light   \n",
       "2       20mph          A1240  Heathway  -  Church Elm Lane         Red Light   \n",
       "3       30mph  A1306  Ripple Road  -  Merrielands Crescent         Red Light   \n",
       "4       30mph               A1240  Heathway  -  Oxlow Lane         Red Light   \n",
       "\n",
       "  Site monitoring start date  Collisions;Fatal;1990           ...            \\\n",
       "0                 01/09/1994                      0           ...             \n",
       "1                 01/09/1994                      0           ...             \n",
       "2                 01/10/1994                      0           ...             \n",
       "3                 01/07/1995                      0           ...             \n",
       "4                 01/03/1996                      0           ...             \n",
       "\n",
       "   Casualties;Slight;2009  Casualties;Fatal;2010  Casualties;Serious;2010  \\\n",
       "0                       2                      0                        0   \n",
       "1                       4                      0                        0   \n",
       "2                       5                      0                        0   \n",
       "3                       2                      0                        0   \n",
       "4                       1                      0                        0   \n",
       "\n",
       "   Casualties;Slight;2010  Casualties;Fatal;2011  Casualties;Serious;2011  \\\n",
       "0                       4                      0                        0   \n",
       "1                       5                      0                        0   \n",
       "2                       2                      0                        0   \n",
       "3                       4                      0                        0   \n",
       "4                       1                      0                        0   \n",
       "\n",
       "   Casualties;Slight;2011  Casualties;Fatal;2012  Casualties;Serious;2012  \\\n",
       "0                       1                      0                        0   \n",
       "1                       4                      0                        1   \n",
       "2                       2                      0                        0   \n",
       "3                       3                      0                        0   \n",
       "4                       1                      0                        0   \n",
       "\n",
       "   Casualties;Slight;2012  \n",
       "0                       3  \n",
       "1                       7  \n",
       "2                       0  \n",
       "3                      10  \n",
       "4                       2  \n",
       "\n",
       "[5 rows x 147 columns]"
      ]
     },
     "execution_count": 62,
     "metadata": {},
     "output_type": "execute_result"
    }
   ],
   "source": [
    "df_ = pd.read_csv('./data/safety-camera-data.csv')\n",
    "df_.head()\n"
   ]
  },
  {
   "cell_type": "code",
   "execution_count": 6,
   "metadata": {},
   "outputs": [
    {
     "data": {
      "text/plain": [
       "<matplotlib.axes._subplots.AxesSubplot at 0x1018f1320>"
      ]
     },
     "execution_count": 6,
     "metadata": {},
     "output_type": "execute_result"
    },
    {
     "data": {
      "image/png": "[encoded data removed]",
      "text/plain": [
       "<matplotlib.figure.Figure at 0x1018f1748>"
      ]
     },
     "metadata": {},
     "output_type": "display_data"
    }
   ],
   "source": [
    "df_['Casualties;Serious;2012'].hist()"
   ]
  },
  {
   "cell_type": "code",
   "execution_count": 9,
   "metadata": {},
   "outputs": [
    {
     "data": {
      "text/plain": [
       "Index(['TfL Reference (TADS area)', 'Camera Head Reference', 'Borough',\n",
       "       'Easting', 'Northing', 'Speed limit', 'Location', 'Fixed Camera Type',\n",
       "       'Site monitoring start date', 'Collisions;Fatal;1990',\n",
       "       ...\n",
       "       'Casualties;Slight;2009', 'Casualties;Fatal;2010',\n",
       "       'Casualties;Serious;2010', 'Casualties;Slight;2010',\n",
       "       'Casualties;Fatal;2011', 'Casualties;Serious;2011',\n",
       "       'Casualties;Slight;2011', 'Casualties;Fatal;2012',\n",
       "       'Casualties;Serious;2012', 'Casualties;Slight;2012'],\n",
       "      dtype='object', length=147)"
      ]
     },
     "execution_count": 9,
     "metadata": {},
     "output_type": "execute_result"
    }
   ],
   "source": [
    "df_.columns"
   ]
  },
  {
   "cell_type": "code",
   "execution_count": 54,
   "metadata": {},
   "outputs": [
    {
     "data": {
      "text/plain": [
       "[<matplotlib.lines.Line2D at 0x1159bc1d0>]"
      ]
     },
     "execution_count": 54,
     "metadata": {},
     "output_type": "execute_result"
    },
    {
     "data": {
      "image/png": "[encoded data removed]",
      "text/plain": [
       "<matplotlib.figure.Figure at 0x11172fe80>"
      ]
     },
     "metadata": {},
     "output_type": "display_data"
    }
   ],
   "source": [
    "pl.plot(df_.Easting, df_.Northing, '.')"
   ]
  },
  {
   "cell_type": "code",
   "execution_count": 63,
   "metadata": {},
   "outputs": [],
   "source": [
    "df_ = df_[df_.Easting >=400000]"
   ]
  },
  {
   "cell_type": "code",
   "execution_count": 65,
   "metadata": {},
   "outputs": [
    {
     "data": {
      "text/plain": [
       "[<matplotlib.lines.Line2D at 0x114ee8438>]"
      ]
     },
     "execution_count": 65,
     "metadata": {},
     "output_type": "execute_result"
    },
    {
     "data": {
      "image/png": "[encoded data removed]",
      "text/plain": [
       "<matplotlib.figure.Figure at 0x1115955f8>"
      ]
     },
     "metadata": {},
     "output_type": "display_data"
    }
   ],
   "source": [
    "pl.plot(df_.Easting, df_.Northing, '.')"
   ]
  },
  {
   "cell_type": "markdown",
   "metadata": {},
   "source": [
    "Casaulty data"
   ]
  },
  {
   "cell_type": "code",
   "execution_count": 10,
   "metadata": {},
   "outputs": [
    {
     "data": {
      "text/html": [
       "<div>\n",
       "<style>\n",
       "    .dataframe thead tr:only-child th {\n",
       "        text-align: right;\n",
       "    }\n",
       "\n",
       "    .dataframe thead th {\n",
       "        text-align: left;\n",
       "    }\n",
       "\n",
       "    .dataframe tbody tr th {\n",
       "        vertical-align: top;\n",
       "    }\n",
       "</style>\n",
       "<table border=\"1\" class=\"dataframe\">\n",
       "  <thead>\n",
       "    <tr style=\"text-align: right;\">\n",
       "      <th></th>\n",
       "      <th>AREFNO</th>\n",
       "      <th>Borough</th>\n",
       "      <th>Boro</th>\n",
       "      <th>Easting</th>\n",
       "      <th>Northing</th>\n",
       "      <th>CREFNO</th>\n",
       "      <th>Casualty_Class</th>\n",
       "      <th>Casualty_Sex</th>\n",
       "      <th>Casualty_Age__Banded_</th>\n",
       "      <th>Casualty_Age</th>\n",
       "      <th>...</th>\n",
       "      <th>Casualty_Severity</th>\n",
       "      <th>Ped__Location</th>\n",
       "      <th>Ped__Movement</th>\n",
       "      <th>Mode_of_Travel</th>\n",
       "      <th>Year</th>\n",
       "      <th>LSOA11CD</th>\n",
       "      <th>MSOA11CD_2</th>\n",
       "      <th>Ward13CD</th>\n",
       "      <th>Ward14CD</th>\n",
       "      <th>Borough-name-geocode</th>\n",
       "    </tr>\n",
       "  </thead>\n",
       "  <tbody>\n",
       "    <tr>\n",
       "      <th>0</th>\n",
       "      <td>0105CP00001</td>\n",
       "      <td>CITY OF LONDON</td>\n",
       "      <td>0</td>\n",
       "      <td>533230</td>\n",
       "      <td>181490</td>\n",
       "      <td>1</td>\n",
       "      <td>2 Passenger</td>\n",
       "      <td>2 Female</td>\n",
       "      <td>25-59</td>\n",
       "      <td>28</td>\n",
       "      <td>...</td>\n",
       "      <td>3 Slight</td>\n",
       "      <td>-2 Unknown</td>\n",
       "      <td>-2 N/A</td>\n",
       "      <td>4 Car</td>\n",
       "      <td>2005</td>\n",
       "      <td>E01032739</td>\n",
       "      <td>E02000001</td>\n",
       "      <td>E09000001</td>\n",
       "      <td>E05009292</td>\n",
       "      <td>City of London</td>\n",
       "    </tr>\n",
       "    <tr>\n",
       "      <th>1</th>\n",
       "      <td>0105CP00002</td>\n",
       "      <td>CITY OF LONDON</td>\n",
       "      <td>0</td>\n",
       "      <td>533740</td>\n",
       "      <td>180550</td>\n",
       "      <td>1</td>\n",
       "      <td>3 Pedestrian</td>\n",
       "      <td>1 Male</td>\n",
       "      <td>Unknown</td>\n",
       "      <td>Unknown</td>\n",
       "      <td>...</td>\n",
       "      <td>3 Slight</td>\n",
       "      <td>09 In Road - Not Crossing</td>\n",
       "      <td>5 In Rd Not Crossing</td>\n",
       "      <td>1 Pedestrian</td>\n",
       "      <td>2005</td>\n",
       "      <td>E01004293</td>\n",
       "      <td>E02000890</td>\n",
       "      <td>E05000585</td>\n",
       "      <td>E05009330</td>\n",
       "      <td>Tower Hamlets</td>\n",
       "    </tr>\n",
       "    <tr>\n",
       "      <th>2</th>\n",
       "      <td>0105CP00003</td>\n",
       "      <td>CITY OF LONDON</td>\n",
       "      <td>0</td>\n",
       "      <td>533230</td>\n",
       "      <td>181500</td>\n",
       "      <td>1</td>\n",
       "      <td>1 Driver/Rider</td>\n",
       "      <td>1 Male</td>\n",
       "      <td>60+</td>\n",
       "      <td>63</td>\n",
       "      <td>...</td>\n",
       "      <td>3 Slight</td>\n",
       "      <td>-2 Unknown</td>\n",
       "      <td>-2 N/A</td>\n",
       "      <td>5 Taxi</td>\n",
       "      <td>2005</td>\n",
       "      <td>E01032739</td>\n",
       "      <td>E02000001</td>\n",
       "      <td>E09000001</td>\n",
       "      <td>E05009292</td>\n",
       "      <td>City of London</td>\n",
       "    </tr>\n",
       "    <tr>\n",
       "      <th>3</th>\n",
       "      <td>0105CP00004</td>\n",
       "      <td>CITY OF LONDON</td>\n",
       "      <td>0</td>\n",
       "      <td>531750</td>\n",
       "      <td>180830</td>\n",
       "      <td>2</td>\n",
       "      <td>2 Passenger</td>\n",
       "      <td>1 Male</td>\n",
       "      <td>25-59</td>\n",
       "      <td>28</td>\n",
       "      <td>...</td>\n",
       "      <td>3 Slight</td>\n",
       "      <td>-2 Unknown</td>\n",
       "      <td>-2 N/A</td>\n",
       "      <td>4 Car</td>\n",
       "      <td>2005</td>\n",
       "      <td>E01032739</td>\n",
       "      <td>E02000001</td>\n",
       "      <td>E09000001</td>\n",
       "      <td>E05009297</td>\n",
       "      <td>City of London</td>\n",
       "    </tr>\n",
       "    <tr>\n",
       "      <th>4</th>\n",
       "      <td>0105CP00004</td>\n",
       "      <td>CITY OF LONDON</td>\n",
       "      <td>0</td>\n",
       "      <td>531750</td>\n",
       "      <td>180830</td>\n",
       "      <td>1</td>\n",
       "      <td>1 Driver/Rider</td>\n",
       "      <td>1 Male</td>\n",
       "      <td>Unknown</td>\n",
       "      <td>Unknown</td>\n",
       "      <td>...</td>\n",
       "      <td>3 Slight</td>\n",
       "      <td>-2 Unknown</td>\n",
       "      <td>-2 N/A</td>\n",
       "      <td>4 Car</td>\n",
       "      <td>2005</td>\n",
       "      <td>E01032739</td>\n",
       "      <td>E02000001</td>\n",
       "      <td>E09000001</td>\n",
       "      <td>E05009297</td>\n",
       "      <td>City of London</td>\n",
       "    </tr>\n",
       "  </tbody>\n",
       "</table>\n",
       "<p>5 rows × 21 columns</p>\n",
       "</div>"
      ],
      "text/plain": [
       "        AREFNO         Borough  Boro  Easting  Northing  CREFNO  \\\n",
       "0  0105CP00001  CITY OF LONDON     0   533230    181490       1   \n",
       "1  0105CP00002  CITY OF LONDON     0   533740    180550       1   \n",
       "2  0105CP00003  CITY OF LONDON     0   533230    181500       1   \n",
       "3  0105CP00004  CITY OF LONDON     0   531750    180830       2   \n",
       "4  0105CP00004  CITY OF LONDON     0   531750    180830       1   \n",
       "\n",
       "   Casualty_Class Casualty_Sex Casualty_Age__Banded_ Casualty_Age  \\\n",
       "0     2 Passenger     2 Female                 25-59           28   \n",
       "1    3 Pedestrian       1 Male               Unknown      Unknown   \n",
       "2  1 Driver/Rider       1 Male                   60+           63   \n",
       "3     2 Passenger       1 Male                 25-59           28   \n",
       "4  1 Driver/Rider       1 Male               Unknown      Unknown   \n",
       "\n",
       "          ...           Casualty_Severity              Ped__Location  \\\n",
       "0         ...                    3 Slight                 -2 Unknown   \n",
       "1         ...                    3 Slight  09 In Road - Not Crossing   \n",
       "2         ...                    3 Slight                 -2 Unknown   \n",
       "3         ...                    3 Slight                 -2 Unknown   \n",
       "4         ...                    3 Slight                 -2 Unknown   \n",
       "\n",
       "          Ped__Movement Mode_of_Travel  Year   LSOA11CD MSOA11CD_2   Ward13CD  \\\n",
       "0                -2 N/A          4 Car  2005  E01032739  E02000001  E09000001   \n",
       "1  5 In Rd Not Crossing   1 Pedestrian  2005  E01004293  E02000890  E05000585   \n",
       "2                -2 N/A         5 Taxi  2005  E01032739  E02000001  E09000001   \n",
       "3                -2 N/A          4 Car  2005  E01032739  E02000001  E09000001   \n",
       "4                -2 N/A          4 Car  2005  E01032739  E02000001  E09000001   \n",
       "\n",
       "    Ward14CD Borough-name-geocode  \n",
       "0  E05009292       City of London  \n",
       "1  E05009330        Tower Hamlets  \n",
       "2  E05009292       City of London  \n",
       "3  E05009297       City of London  \n",
       "4  E05009297       City of London  \n",
       "\n",
       "[5 rows x 21 columns]"
      ]
     },
     "execution_count": 10,
     "metadata": {},
     "output_type": "execute_result"
    }
   ],
   "source": [
    "df_cas = pd.read_csv('./data/TFL-road-casualty-data-since-2005.csv')\n",
    "df_cas.head()"
   ]
  },
  {
   "cell_type": "code",
   "execution_count": 11,
   "metadata": {},
   "outputs": [
    {
     "data": {
      "text/plain": [
       "Index(['AREFNO', 'Borough', 'Boro', 'Easting', 'Northing', 'CREFNO',\n",
       "       'Casualty_Class', 'Casualty_Sex', 'Casualty_Age__Banded_',\n",
       "       'Casualty_Age', 'No__of_Casualties', 'Casualty_Severity',\n",
       "       'Ped__Location', 'Ped__Movement', 'Mode_of_Travel', 'Year', 'LSOA11CD',\n",
       "       'MSOA11CD_2', 'Ward13CD', 'Ward14CD', 'Borough-name-geocode'],\n",
       "      dtype='object')"
      ]
     },
     "execution_count": 11,
     "metadata": {},
     "output_type": "execute_result"
    }
   ],
   "source": [
    "df_cas.columns"
   ]
  },
  {
   "cell_type": "code",
   "execution_count": 15,
   "metadata": {},
   "outputs": [
    {
     "data": {
      "text/plain": [
       "<matplotlib.axes._subplots.AxesSubplot at 0x10806ea20>"
      ]
     },
     "execution_count": 15,
     "metadata": {},
     "output_type": "execute_result"
    },
    {
     "data": {
      "image/png": "[encoded data removed]",
      "text/plain": [
       "<matplotlib.figure.Figure at 0x1082bbb38>"
      ]
     },
     "metadata": {},
     "output_type": "display_data"
    }
   ],
   "source": [
    "df_cas.Ped__Location.value_counts().plot(kind='bar')"
   ]
  },
  {
   "cell_type": "code",
   "execution_count": 37,
   "metadata": {},
   "outputs": [
    {
     "data": {
      "text/plain": [
       "array(['-2 Unknown', '09 In Road - Not Crossing',\n",
       "       '04 Crossing Road Within 50m Xing',\n",
       "       '05 Crossing Road (Not On Xing)', '08 In Centre Of Carriageway',\n",
       "       '06 On Footpath - Verge', '01 Crossing Road On Ped Xing',\n",
       "       '07 On Refuge', '10 Unknown', '03 Crossing Road In Zig-Zag Exit',\n",
       "       '02 Crossing Road In Zig-Zag App'], dtype=object)"
      ]
     },
     "execution_count": 37,
     "metadata": {},
     "output_type": "execute_result"
    }
   ],
   "source": [
    "(df_cas.Ped__Location.unique())"
   ]
  },
  {
   "cell_type": "code",
   "execution_count": 38,
   "metadata": {},
   "outputs": [],
   "source": [
    "colors = dict(zip(df_cas.Ped__Location.unique(), ['r', 'b', 'g', 'orange', 'y', \n",
    "                                                  'purple', 'gray', 'm', 'pink', 'k', \n",
    "                                                  'c', 'mediumpurple']))"
   ]
  },
  {
   "cell_type": "code",
   "execution_count": 39,
   "metadata": {},
   "outputs": [
    {
     "data": {
      "text/plain": [
       "{'-2 Unknown': 'r',\n",
       " '01 Crossing Road On Ped Xing': 'gray',\n",
       " '02 Crossing Road In Zig-Zag App': 'c',\n",
       " '03 Crossing Road In Zig-Zag Exit': 'k',\n",
       " '04 Crossing Road Within 50m Xing': 'g',\n",
       " '05 Crossing Road (Not On Xing)': 'orange',\n",
       " '06 On Footpath - Verge': 'purple',\n",
       " '07 On Refuge': 'm',\n",
       " '08 In Centre Of Carriageway': 'y',\n",
       " '09 In Road - Not Crossing': 'b',\n",
       " '10 Unknown': 'pink'}"
      ]
     },
     "execution_count": 39,
     "metadata": {},
     "output_type": "execute_result"
    }
   ],
   "source": [
    "colors"
   ]
  },
  {
   "cell_type": "code",
   "execution_count": 29,
   "metadata": {},
   "outputs": [],
   "source": [
    "df_cas.Casualty_Age.replace('Unknown', 0, inplace=True)"
   ]
  },
  {
   "cell_type": "code",
   "execution_count": 45,
   "metadata": {},
   "outputs": [
    {
     "data": {
      "text/plain": [
       "array(['r', 'b', 'r', ..., 'r', 'r', 'r'], dtype=object)"
      ]
     },
     "execution_count": 45,
     "metadata": {},
     "output_type": "execute_result"
    }
   ],
   "source": [
    "np.array(df_cas.Ped__Location.replace(colors))"
   ]
  },
  {
   "cell_type": "markdown",
   "metadata": {},
   "source": [
    "Multivariate Model  \n",
    "- number of accidents by type per ward, compared to all the other features\n",
    "- make a dataset that has 1) unique indentifier 2) ward 3) the number of each of the types of accident 4) features"
   ]
  },
  {
   "cell_type": "code",
   "execution_count": 66,
   "metadata": {},
   "outputs": [
    {
     "data": {
      "text/html": [
       "<div>\n",
       "<style>\n",
       "    .dataframe thead tr:only-child th {\n",
       "        text-align: right;\n",
       "    }\n",
       "\n",
       "    .dataframe thead th {\n",
       "        text-align: left;\n",
       "    }\n",
       "\n",
       "    .dataframe tbody tr th {\n",
       "        vertical-align: top;\n",
       "    }\n",
       "</style>\n",
       "<table border=\"1\" class=\"dataframe\">\n",
       "  <thead>\n",
       "    <tr style=\"text-align: right;\">\n",
       "      <th></th>\n",
       "      <th>AREFNO</th>\n",
       "      <th>Borough</th>\n",
       "      <th>Boro</th>\n",
       "      <th>Easting</th>\n",
       "      <th>Northing</th>\n",
       "      <th>Location</th>\n",
       "      <th>Accident Severity</th>\n",
       "      <th>No. of Casualties in Acc.</th>\n",
       "      <th>No. of Vehicles in Acc.</th>\n",
       "      <th>Accident Date</th>\n",
       "      <th>...</th>\n",
       "      <th>Junction Detail</th>\n",
       "      <th>Junction Control</th>\n",
       "      <th>Road Class 2</th>\n",
       "      <th>Road No. 2</th>\n",
       "      <th>Ped. Crossing Decoded</th>\n",
       "      <th>Light Conditions (Banded)</th>\n",
       "      <th>Weather</th>\n",
       "      <th>Road Surface</th>\n",
       "      <th>Special Conditions</th>\n",
       "      <th>C/W Hazard</th>\n",
       "    </tr>\n",
       "  </thead>\n",
       "  <tbody>\n",
       "    <tr>\n",
       "      <th>0</th>\n",
       "      <td>0114CP00001</td>\n",
       "      <td>CITY OF LONDON</td>\n",
       "      <td>0</td>\n",
       "      <td>533540</td>\n",
       "      <td>181230</td>\n",
       "      <td>ST BOTOLPH STREET J/W HOUNDSDITCH</td>\n",
       "      <td>3 Slight</td>\n",
       "      <td>1</td>\n",
       "      <td>1</td>\n",
       "      <td>01-Jan-14</td>\n",
       "      <td>...</td>\n",
       "      <td>3 T/Stag Jun</td>\n",
       "      <td>4 Give Way/Uncontrolled</td>\n",
       "      <td>A</td>\n",
       "      <td>1211</td>\n",
       "      <td>0 No Xing Facility In 50m</td>\n",
       "      <td>2 Dark</td>\n",
       "      <td>1 Fine</td>\n",
       "      <td>2 Road-Wet</td>\n",
       "      <td>0 None</td>\n",
       "      <td>0 None</td>\n",
       "    </tr>\n",
       "    <tr>\n",
       "      <th>1</th>\n",
       "      <td>0114CP00002</td>\n",
       "      <td>CITY OF LONDON</td>\n",
       "      <td>0</td>\n",
       "      <td>532680</td>\n",
       "      <td>181430</td>\n",
       "      <td>MOORGATE J/W GREAT SWAN ALLEY</td>\n",
       "      <td>3 Slight</td>\n",
       "      <td>1</td>\n",
       "      <td>1</td>\n",
       "      <td>08-Jan-14</td>\n",
       "      <td>...</td>\n",
       "      <td>3 T/Stag Jun</td>\n",
       "      <td>4 Give Way/Uncontrolled</td>\n",
       "      <td>C</td>\n",
       "      <td>0</td>\n",
       "      <td>0 No Xing Facility In 50m</td>\n",
       "      <td>1 Daylight</td>\n",
       "      <td>1 Fine</td>\n",
       "      <td>1 Road-Dry</td>\n",
       "      <td>0 None</td>\n",
       "      <td>0 None</td>\n",
       "    </tr>\n",
       "    <tr>\n",
       "      <th>2</th>\n",
       "      <td>0114CP00003</td>\n",
       "      <td>CITY OF LONDON</td>\n",
       "      <td>0</td>\n",
       "      <td>532090</td>\n",
       "      <td>181830</td>\n",
       "      <td>ALDERGATE STREET J/W LONG LANE</td>\n",
       "      <td>2 Serious</td>\n",
       "      <td>1</td>\n",
       "      <td>1</td>\n",
       "      <td>09-Jan-14</td>\n",
       "      <td>...</td>\n",
       "      <td>3 T/Stag Jun</td>\n",
       "      <td>2 Auto Sig</td>\n",
       "      <td>C</td>\n",
       "      <td>0</td>\n",
       "      <td>5 Pedn Phase At Ats</td>\n",
       "      <td>2 Dark</td>\n",
       "      <td>1 Fine</td>\n",
       "      <td>1 Road-Dry</td>\n",
       "      <td>0 None</td>\n",
       "      <td>0 None</td>\n",
       "    </tr>\n",
       "    <tr>\n",
       "      <th>3</th>\n",
       "      <td>0114CP00004</td>\n",
       "      <td>CITY OF LONDON</td>\n",
       "      <td>0</td>\n",
       "      <td>531770</td>\n",
       "      <td>180950</td>\n",
       "      <td>QUEEN VICTORIA STREET J/W PUDDLE DOCK</td>\n",
       "      <td>2 Serious</td>\n",
       "      <td>1</td>\n",
       "      <td>2</td>\n",
       "      <td>08-Jan-14</td>\n",
       "      <td>...</td>\n",
       "      <td>3 T/Stag Jun</td>\n",
       "      <td>2 Auto Sig</td>\n",
       "      <td>C</td>\n",
       "      <td>0</td>\n",
       "      <td>5 Pedn Phase At Ats</td>\n",
       "      <td>1 Daylight</td>\n",
       "      <td>1 Fine</td>\n",
       "      <td>1 Road-Dry</td>\n",
       "      <td>0 None</td>\n",
       "      <td>0 None</td>\n",
       "    </tr>\n",
       "    <tr>\n",
       "      <th>4</th>\n",
       "      <td>0114CP00005</td>\n",
       "      <td>CITY OF LONDON</td>\n",
       "      <td>0</td>\n",
       "      <td>533130</td>\n",
       "      <td>180920</td>\n",
       "      <td>FENCHURCH STREET J/W ROOD LANE</td>\n",
       "      <td>3 Slight</td>\n",
       "      <td>1</td>\n",
       "      <td>1</td>\n",
       "      <td>15-Jan-14</td>\n",
       "      <td>...</td>\n",
       "      <td>3 T/Stag Jun</td>\n",
       "      <td>4 Give Way/Uncontrolled</td>\n",
       "      <td>C</td>\n",
       "      <td>0</td>\n",
       "      <td>0 No Xing Facility In 50m</td>\n",
       "      <td>1 Daylight</td>\n",
       "      <td>1 Fine</td>\n",
       "      <td>1 Road-Dry</td>\n",
       "      <td>0 None</td>\n",
       "      <td>0 None</td>\n",
       "    </tr>\n",
       "  </tbody>\n",
       "</table>\n",
       "<p>5 rows × 27 columns</p>\n",
       "</div>"
      ],
      "text/plain": [
       "        AREFNO         Borough  Boro  Easting  Northing  \\\n",
       "0  0114CP00001  CITY OF LONDON     0   533540    181230   \n",
       "1  0114CP00002  CITY OF LONDON     0   532680    181430   \n",
       "2  0114CP00003  CITY OF LONDON     0   532090    181830   \n",
       "3  0114CP00004  CITY OF LONDON     0   531770    180950   \n",
       "4  0114CP00005  CITY OF LONDON     0   533130    180920   \n",
       "\n",
       "                                Location Accident Severity  \\\n",
       "0      ST BOTOLPH STREET J/W HOUNDSDITCH          3 Slight   \n",
       "1          MOORGATE J/W GREAT SWAN ALLEY          3 Slight   \n",
       "2         ALDERGATE STREET J/W LONG LANE         2 Serious   \n",
       "3  QUEEN VICTORIA STREET J/W PUDDLE DOCK         2 Serious   \n",
       "4         FENCHURCH STREET J/W ROOD LANE          3 Slight   \n",
       "\n",
       "   No. of Casualties in Acc.  No. of Vehicles in Acc. Accident Date  \\\n",
       "0                          1                        1     01-Jan-14   \n",
       "1                          1                        1     08-Jan-14   \n",
       "2                          1                        1     09-Jan-14   \n",
       "3                          1                        2     08-Jan-14   \n",
       "4                          1                        1     15-Jan-14   \n",
       "\n",
       "     ...     Junction Detail         Junction Control Road Class 2 Road No. 2  \\\n",
       "0    ...        3 T/Stag Jun  4 Give Way/Uncontrolled            A       1211   \n",
       "1    ...        3 T/Stag Jun  4 Give Way/Uncontrolled            C          0   \n",
       "2    ...        3 T/Stag Jun               2 Auto Sig            C          0   \n",
       "3    ...        3 T/Stag Jun               2 Auto Sig            C          0   \n",
       "4    ...        3 T/Stag Jun  4 Give Way/Uncontrolled            C          0   \n",
       "\n",
       "       Ped. Crossing Decoded Light Conditions (Banded) Weather Road Surface  \\\n",
       "0  0 No Xing Facility In 50m                    2 Dark  1 Fine   2 Road-Wet   \n",
       "1  0 No Xing Facility In 50m                1 Daylight  1 Fine   1 Road-Dry   \n",
       "2        5 Pedn Phase At Ats                    2 Dark  1 Fine   1 Road-Dry   \n",
       "3        5 Pedn Phase At Ats                1 Daylight  1 Fine   1 Road-Dry   \n",
       "4  0 No Xing Facility In 50m                1 Daylight  1 Fine   1 Road-Dry   \n",
       "\n",
       "  Special Conditions C/W Hazard  \n",
       "0             0 None     0 None  \n",
       "1             0 None     0 None  \n",
       "2             0 None     0 None  \n",
       "3             0 None     0 None  \n",
       "4             0 None     0 None  \n",
       "\n",
       "[5 rows x 27 columns]"
      ]
     },
     "execution_count": 66,
     "metadata": {},
     "output_type": "execute_result"
    }
   ],
   "source": [
    "df_att = pd.read_csv('./data/2014-gla-data-extract-attendant.csv')\n",
    "df_att.head()"
   ]
  },
  {
   "cell_type": "code",
   "execution_count": 68,
   "metadata": {},
   "outputs": [
    {
     "data": {
      "text/plain": [
       "Index(['AREFNO', 'Borough', 'Boro', 'Easting', 'Northing', 'Location',\n",
       "       'Accident Severity', 'No. of Casualties in Acc.',\n",
       "       'No. of Vehicles in Acc.', 'Accident Date', 'Day', 'Time', 'Highway',\n",
       "       'Road Class 1', 'Road No. 1', 'Road Type', 'Speed Limit',\n",
       "       'Junction Detail', 'Junction Control', 'Road Class 2', 'Road No. 2',\n",
       "       'Ped. Crossing Decoded', 'Light Conditions (Banded)', 'Weather',\n",
       "       'Road Surface', 'Special Conditions', 'C/W Hazard'],\n",
       "      dtype='object')"
      ]
     },
     "execution_count": 68,
     "metadata": {},
     "output_type": "execute_result"
    }
   ],
   "source": [
    "df_att.columns"
   ]
  },
  {
   "cell_type": "code",
   "execution_count": 69,
   "metadata": {},
   "outputs": [
    {
     "data": {
      "text/plain": [
       "array(['ST BOTOLPH STREET J/W HOUNDSDITCH',\n",
       "       'MOORGATE J/W GREAT SWAN ALLEY', 'ALDERGATE STREET J/W LONG LANE',\n",
       "       ..., 'WATERMEAD WAY J/W LEESIDE ROAD',\n",
       "       'NFL WEIR HALL ROAD J/W BARCLAY ROAD',\n",
       "       'MERIDIAN WAY J/W LEESIDE ROAD'], dtype=object)"
      ]
     },
     "execution_count": 69,
     "metadata": {},
     "output_type": "execute_result"
    }
   ],
   "source": [
    "df_att.Location.unique()"
   ]
  },
  {
   "cell_type": "code",
   "execution_count": null,
   "metadata": {
    "collapsed": true
   },
   "outputs": [],
   "source": []
  }
 ],
 "metadata": {
  "kernelspec": {
   "display_name": "Python 3",
   "language": "python",
   "name": "python3"
  },
  "language_info": {
   "codemirror_mode": {
    "name": "ipython",
    "version": 3
   },
   "file_extension": ".py",
   "mimetype": "text/x-python",
   "name": "python",
   "nbconvert_exporter": "python",
   "pygments_lexer": "ipython3",
   "version": "3.6.2"
  }
 },
 "nbformat": 4,
 "nbformat_minor": 2
}
