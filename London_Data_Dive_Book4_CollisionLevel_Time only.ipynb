{
 "cells": [
  {
   "cell_type": "markdown",
   "metadata": {},
   "source": [
    "Goal: create a model that predicts severity of a collision, based on the features of the collision\n",
    "\n",
    "Create a balanced training set of data: look at just accidents happening in the middle of the night\n",
    "\n",
    "\n"
   ]
  },
  {
   "cell_type": "code",
   "execution_count": 1,
   "metadata": {},
   "outputs": [
    {
     "name": "stdout",
     "output_type": "stream",
     "text": [
      "Populating the interactive namespace from numpy and matplotlib\n"
     ]
    }
   ],
   "source": [
    "import pandas as pd\n",
    "import numpy as np\n",
    "import pylab as pl\n",
    "%pylab inline\n",
    "import sklearn\n",
    "from sklearn.ensemble import RandomForestRegressor\n",
    "from sklearn.ensemble import RandomForestClassifier\n",
    "from sklearn.tree import DecisionTreeClassifier\n",
    "from sklearn.model_selection import GridSearchCV \n",
    "from sklearn.model_selection import train_test_split\n",
    "from sklearn import preprocessing\n",
    "from sklearn.datasets import make_classification\n",
    "from sklearn.ensemble import ExtraTreesClassifier\n",
    "\n",
    "from sklearn.linear_model import RandomizedLasso\n",
    "from sklearn.metrics import median_absolute_error\n",
    "from sklearn.linear_model import LinearRegression\n",
    "\n",
    "from sklearn.metrics import confusion_matrix\n",
    "from matplotlib import pyplot as plt"
   ]
  },
  {
   "cell_type": "markdown",
   "metadata": {},
   "source": [
    "1) Load data  \n",
    "    - 2014 attendant, vehicle, and casualty datasets\n",
    "    - Description of data: https://drive.google.com/drive/u/0/folders/1afX9SJzqmO6rQG6FDhpMlzOfoy_NwI7Q\n",
    "    - Merge on AREFNO\n",
    "2) Train, Test split  \n",
    "3) Hyper Paramter tuning for Random Forest Classifier  \n",
    "3) Feature Importance  \n",
    "4) Next: Visualize a decision tree  "
   ]
  },
  {
   "cell_type": "markdown",
   "metadata": {},
   "source": [
    "** * Load Data * **"
   ]
  },
  {
   "cell_type": "code",
   "execution_count": 11,
   "metadata": {},
   "outputs": [
    {
     "data": {
      "text/plain": [
       "3 Slight     52331\n",
       "2 Serious     3838\n",
       "1 Fatal        237\n",
       "Name: Accident Severity, dtype: int64"
      ]
     },
     "execution_count": 11,
     "metadata": {},
     "output_type": "execute_result"
    }
   ],
   "source": [
    "df_att = pd.read_csv('./data/2014-gla-data-extract-attendant.csv')\n",
    "df_cas = pd.read_csv('./data/2014-gla-data-extract-casualty.csv')\n",
    "df_veh = pd.read_csv('./data/2014-gla-data-extract-vehicle.csv')\n",
    "\n",
    "df_crash = pd.merge(df_att, df_cas, on='AREFNO', how='inner')\n",
    "\n",
    "df_crash = pd.merge(df_crash, df_veh, on='AREFNO', how='inner')\n",
    "\n",
    "df_crash.Time = [int(x.strip(\"'\")) for x in df_crash.Time]\n",
    "\n",
    "df_crash['Accident Severity'].value_counts()"
   ]
  },
  {
   "cell_type": "code",
   "execution_count": 13,
   "metadata": {},
   "outputs": [
    {
     "data": {
      "text/plain": [
       "<matplotlib.axes._subplots.AxesSubplot at 0x1a1019c128>"
      ]
     },
     "execution_count": 13,
     "metadata": {},
     "output_type": "execute_result"
    },
    {
     "data": {
      "image/png": "[encoded data removed]",
      "text/plain": [
       "<matplotlib.figure.Figure at 0x1a0f566e10>"
      ]
     },
     "metadata": {},
     "output_type": "display_data"
    }
   ],
   "source": [
    "df_crash[df_crash['Accident Severity'] == '1 Fatal'].Time.hist()"
   ]
  },
  {
   "cell_type": "code",
   "execution_count": 20,
   "metadata": {},
   "outputs": [],
   "source": [
    "df_crash = df_crash[df_crash.Time <= 500]"
   ]
  },
  {
   "cell_type": "code",
   "execution_count": 22,
   "metadata": {},
   "outputs": [
    {
     "data": {
      "text/plain": [
       "([array([ 736.,  155.,  423.,  106.,  344.,   59.,  308.,   93.,  234.,   50.]),\n",
       "  array([ 847.,  190.,  478.,  114.,  359.,   63.,  358.,   97.,  257.,   51.]),\n",
       "  array([ 856.,  190.,  491.,  114.,  372.,   63.,  359.,   98.,  259.,   51.])],\n",
       " array([   1. ,   50.9,  100.8,  150.7,  200.6,  250.5,  300.4,  350.3,\n",
       "         400.2,  450.1,  500. ]),\n",
       " <a list of 3 Lists of Patches objects>)"
      ]
     },
     "execution_count": 22,
     "metadata": {},
     "output_type": "execute_result"
    },
    {
     "data": {
      "image/png": "[encoded data removed]",
      "text/plain": [
       "<matplotlib.figure.Figure at 0x1a10067b00>"
      ]
     },
     "metadata": {},
     "output_type": "display_data"
    }
   ],
   "source": [
    "pl.figure()\n",
    "x1 = df_crash[df_crash['Accident Severity'] == '3 Slight'].Time\n",
    "x2 = df_crash[df_crash['Accident Severity'] == '2 Serious'].Time\n",
    "x3 = df_crash[df_crash['Accident Severity'] == '1 Fatal'].Time\n",
    "pl.hist([x1,x2,x3], stacked=True)\n"
   ]
  },
  {
   "cell_type": "markdown",
   "metadata": {},
   "source": [
    "***2) Train, Test split  ***"
   ]
  },
  {
   "cell_type": "markdown",
   "metadata": {},
   "source": [
    "- repeat the samples in the smallest class --> repeat the observations from the smallest (just do it with the training set) -- to rebalance (maybe add in cross validation)\n",
    "- accuracy \n",
    "    -- how much better than the naive baselines (predict all one class)\n",
    "    -- print confusion matrix (to visuzliae imbalanced problems)"
   ]
  },
  {
   "cell_type": "code",
   "execution_count": 23,
   "metadata": {},
   "outputs": [
    {
     "name": "stdout",
     "output_type": "stream",
     "text": [
      "X shape:  (2853, 30)\n",
      "y shape:  (2853,)\n",
      "X shape:  (2853, 187)\n",
      "\n",
      " shape\n",
      "X: train, test (1711, 187) (1142, 187) \n",
      "\n",
      "y: train, test (1711,) (1142,)\n"
     ]
    }
   ],
   "source": [
    "# Select X and y data\n",
    "\n",
    "y = df_crash['Accident Severity']\n",
    "\n",
    "X = df_crash[[\n",
    "    'Day', 'Time', 'Highway',\n",
    "       'Road Class 1', 'Road Type', 'Speed Limit',\n",
    "       'Junction Detail', 'Junction Control', 'Road Class 2', \n",
    "       'Ped. Crossing Decoded', 'Light Conditions (Banded)', 'Weather',\n",
    "       'Road Surface', 'Special Conditions', 'C/W Hazard', 'Casualty Class',\n",
    "       'No. of Casualties', 'Ped. Location',\n",
    "       'Ped. Movement', 'Mode of Travel', 'Vehicle Type',\n",
    "        'Vehicle Type (Banded)',\n",
    "       'Vehicle Manoeuvres', 'Vehicle Skidding', 'Restricted Lane',\n",
    "       'Junction Location', 'Object in C/W', 'Veh. Leaving C/W',\n",
    "       'Veh. off C/W','VJNYPURP DECODED']]\n",
    "\n",
    "print ('X shape: ', X.shape)\n",
    "print ('y shape: ', y.shape)\n",
    "\n",
    "X=pd.get_dummies(X)\n",
    "print ('X shape: ', X.shape)\n",
    "\n",
    "X_train, X_test, y_train, y_test = train_test_split(\n",
    "    X, y, test_size=0.4, random_state=0, stratify=y)\n",
    "\n",
    "print ('\\n shape')\n",
    "print ('X: train, test', X_train.shape, X_test.shape, '\\n')\n",
    "print ('y: train, test', y_train.shape, y_test.shape)"
   ]
  },
  {
   "cell_type": "markdown",
   "metadata": {},
   "source": [
    "*** 3) Balancing samples in training set ***\n",
    "\n",
    "Code taken from https://www.kaggle.com/rafjaa/resampling-strategies-for-imbalanced-datasets"
   ]
  },
  {
   "cell_type": "code",
   "execution_count": 24,
   "metadata": {},
   "outputs": [
    {
     "data": {
      "image/png": "[encoded data removed]",
      "text/plain": [
       "<matplotlib.figure.Figure at 0x1a10a34a58>"
      ]
     },
     "metadata": {},
     "output_type": "display_data"
    }
   ],
   "source": [
    "df_train = X.loc[X_train.index]\n",
    "df_train['Accident Severity'] = y[y_train.index]\n",
    "df_train['Accident Severity'].value_counts().plot(kind='bar', title='Count (Accident Severity)');"
   ]
  },
  {
   "cell_type": "code",
   "execution_count": 25,
   "metadata": {
    "collapsed": true
   },
   "outputs": [],
   "source": [
    "# Class count\n",
    "count_class_3, count_class_2, count_class_1 = df_train['Accident Severity'].value_counts()\n",
    "\n",
    "# Divide by class\n",
    "df_class_3 = df_train[df_train['Accident Severity'] == '3 Slight']\n",
    "df_class_2 = df_train[df_train['Accident Severity'] == '2 Serious']\n",
    "df_class_1 = df_train[df_train['Accident Severity'] == '1 Fatal']"
   ]
  },
  {
   "cell_type": "code",
   "execution_count": 26,
   "metadata": {
    "scrolled": true
   },
   "outputs": [
    {
     "name": "stdout",
     "output_type": "stream",
     "text": [
      "Random over-sampling:\n",
      "2 Serious    1504\n",
      "1 Fatal      1504\n",
      "3 Slight     1504\n",
      "Name: Accident Severity, dtype: int64\n"
     ]
    },
    {
     "data": {
      "image/png": "[encoded data removed]",
      "text/plain": [
       "<matplotlib.figure.Figure at 0x1a10b12b38>"
      ]
     },
     "metadata": {},
     "output_type": "display_data"
    }
   ],
   "source": [
    "df_class_1_over = df_class_1.sample(count_class_3, replace=True) #take the number of fatal accidents as slight\n",
    "df_class_2_over = df_class_2.sample(count_class_3, replace=True)\n",
    "df_train_over = pd.concat([df_class_3, df_class_2_over, df_class_1_over], axis=0)\n",
    "\n",
    "print('Random over-sampling:')\n",
    "print(df_train_over['Accident Severity'].value_counts())\n",
    "\n",
    "df_train_over['Accident Severity'].value_counts().plot(kind='bar', title='Count (Accident Severity)');"
   ]
  },
  {
   "cell_type": "code",
   "execution_count": 27,
   "metadata": {},
   "outputs": [
    {
     "name": "stdout",
     "output_type": "stream",
     "text": [
      "X shape:  (4512, 187)\n",
      "y shape:  (4512,)\n"
     ]
    }
   ],
   "source": [
    "# split df_train into X and y\n",
    "\n",
    "y_train_over = df_train_over['Accident Severity']\n",
    "\n",
    "X_train_over = df_train_over.drop(['Accident Severity'], axis=1)\n",
    "\n",
    "\n",
    "print ('X shape: ', X_train_over.shape)\n",
    "print ('y shape: ', y_train_over.shape)\n",
    "\n"
   ]
  },
  {
   "cell_type": "markdown",
   "metadata": {},
   "source": [
    "*** Random Forest Modeling ***"
   ]
  },
  {
   "cell_type": "code",
   "execution_count": 28,
   "metadata": {},
   "outputs": [
    {
     "data": {
      "text/plain": [
       "87.91593695271453"
      ]
     },
     "execution_count": 28,
     "metadata": {},
     "output_type": "execute_result"
    }
   ],
   "source": [
    "#Naive predictor accuracy\n",
    "\n",
    "len(y_test[y_test == '3 Slight'])/ len(y_test)*100.00\n"
   ]
  },
  {
   "cell_type": "code",
   "execution_count": 29,
   "metadata": {
    "scrolled": true
   },
   "outputs": [
    {
     "name": "stdout",
     "output_type": "stream",
     "text": [
      "Accuracy: 91.86\n"
     ]
    }
   ],
   "source": [
    "rf = RandomForestClassifier(n_jobs=-1, random_state=0,n_estimators=100)\n",
    "\n",
    "rf=rf.fit(X_train_over,y_train_over)#run predictor with each parameter using training data\n",
    "pred=rf.predict(X_test)\n",
    "\n",
    "print ('Accuracy: %.2f' % ((len(y_test[pred == y_test])/len(y_test))*100))"
   ]
  },
  {
   "cell_type": "code",
   "execution_count": 30,
   "metadata": {},
   "outputs": [
    {
     "name": "stdout",
     "output_type": "stream",
     "text": [
      "Confusion matrix:\n",
      " [[  7   1   8]\n",
      " [  0  51  71]\n",
      " [  0  13 991]]\n"
     ]
    },
    {
     "data": {
      "image/png": "[encoded data removed]",
      "text/plain": [
       "<matplotlib.figure.Figure at 0x10b378e80>"
      ]
     },
     "metadata": {},
     "output_type": "display_data"
    }
   ],
   "source": [
    "# COnfusion matrix code\n",
    "\n",
    "y_pred = rf.predict(X_test)\n",
    "\n",
    "conf_mat = confusion_matrix(y_true=y_test, y_pred=y_pred, labels=['1 Fatal', '2 Serious', '3 Slight'])\n",
    "print('Confusion matrix:\\n', conf_mat)\n",
    "\n",
    "labels = ['Fatal', 'Serious', 'Slight']\n",
    "fig = plt.figure()\n",
    "ax = fig.add_subplot(111)\n",
    "cax = ax.matshow(conf_mat, cmap=plt.cm.Blues)\n",
    "fig.colorbar(cax)\n",
    "ax.set_xticklabels([''] + labels)\n",
    "ax.set_yticklabels([''] + labels)\n",
    "plt.xlabel('Predicted')\n",
    "plt.ylabel('True')\n",
    "plt.show()"
   ]
  },
  {
   "cell_type": "code",
   "execution_count": 31,
   "metadata": {
    "collapsed": true
   },
   "outputs": [],
   "source": [
    "count_cls_3, count_cls_2, count_cls_1 =y_test.value_counts()\n",
    "\n",
    "conf_mat_pct = (np.array(conf_mat.T / np.array([count_cls_1, count_cls_2, count_cls_3])).T)*100.00"
   ]
  },
  {
   "cell_type": "code",
   "execution_count": 32,
   "metadata": {},
   "outputs": [
    {
     "name": "stdout",
     "output_type": "stream",
     "text": [
      "Confusion matrix, (%):\n",
      " [[ 43.75         6.25        50.        ]\n",
      " [  0.          41.80327869  58.19672131]\n",
      " [  0.           1.29482072  98.70517928]]\n"
     ]
    },
    {
     "data": {
      "image/png": "[encoded data removed]",
      "text/plain": [
       "<matplotlib.figure.Figure at 0x1a0e90add8>"
      ]
     },
     "metadata": {},
     "output_type": "display_data"
    }
   ],
   "source": [
    "print('Confusion matrix, (%):\\n', conf_mat_pct)\n",
    "\n",
    "labels = ['Fatal', 'Serious', 'Slight']\n",
    "fig = plt.figure()\n",
    "ax = fig.add_subplot(111)\n",
    "cax = ax.matshow(conf_mat_pct, cmap=plt.cm.Blues)\n",
    "fig.colorbar(cax)\n",
    "ax.set_xticklabels([''] + labels)\n",
    "ax.set_yticklabels([''] + labels)\n",
    "plt.xlabel('Predicted')\n",
    "plt.ylabel('True')\n",
    "plt.show()"
   ]
  },
  {
   "cell_type": "markdown",
   "metadata": {},
   "source": [
    "***4) Feature Importance  ***"
   ]
  },
  {
   "cell_type": "code",
   "execution_count": 35,
   "metadata": {},
   "outputs": [
    {
     "name": "stdout",
     "output_type": "stream",
     "text": [
      "Random Forest Feature ranking:          0                                                1\n",
      "0   0.0853                                             Time\n",
      "1   0.0372       Ped. Crossing Decoded_4 Pelican Or Similar\n",
      "2   0.0242                                    Day_Saturday \n",
      "3   0.0234                                    Highway_3 Bor\n",
      "4   0.0233          Vehicle Manoeuvres_18 Going Ahead Other\n",
      "5   0.0213  Ped. Crossing Decoded_0 No Xing Facility In 50m\n",
      "6   0.0206                                    Day_Sunday   \n",
      "7   0.0195                   Road Class 2_-2 Not Applicable\n",
      "8   0.0195                                   Highway_1 TLRN\n",
      "9   0.0186               Mode of Travel_3 Powered 2 Wheeler\n",
      "10  0.0181                  Junction Detail_0 No Jun In 20m\n",
      "11  0.0176                   Junction Location_0 Not At Jct\n",
      "12  0.0169                      Junction Location_8 Jct Mid\n",
      "13  0.0161                     Mode of Travel_2 Pedal Cycle\n",
      "14  0.0158                             Mode of Travel_4 Car\n"
     ]
    },
    {
     "data": {
      "image/png": "[encoded data removed]",
      "text/plain": [
       "<matplotlib.figure.Figure at 0x1a10a66cf8>"
      ]
     },
     "metadata": {},
     "output_type": "display_data"
    }
   ],
   "source": [
    "names = X_train_over.columns\n",
    "feat_sort = (sorted(zip(map(lambda x: round(x, 4), rf.feature_importances_), names), reverse=True))\n",
    "feat_num=50\n",
    "\n",
    "pl.figure(figsize=(8,6))\n",
    "pl.title(\"Random Forest Feature importance\")\n",
    "pl.bar(np.arange(feat_num), pd.DataFrame(feat_sort)[0][:feat_num], align='center')\n",
    "pl.xticks(np.arange(feat_num))\n",
    "pl.ylabel('Importance Score')\n",
    "\n",
    "print(\"Random Forest Feature ranking:\", pd.DataFrame(feat_sort)[:15])"
   ]
  },
  {
   "cell_type": "markdown",
   "metadata": {},
   "source": [
    "*** Redo Sampling with under sampling of Slight samples ***"
   ]
  },
  {
   "cell_type": "code",
   "execution_count": 36,
   "metadata": {
    "scrolled": true
   },
   "outputs": [
    {
     "name": "stdout",
     "output_type": "stream",
     "text": [
      "Random over-sampling:\n",
      "1 Fatal      184\n",
      "2 Serious    184\n",
      "3 Slight     184\n",
      "Name: Accident Severity, dtype: int64\n",
      "X shape:  (552, 187)\n",
      "y shape:  (552,)\n"
     ]
    },
    {
     "data": {
      "image/png": "[encoded data removed]",
      "text/plain": [
       "<matplotlib.figure.Figure at 0x1a0e8e4748>"
      ]
     },
     "metadata": {},
     "output_type": "display_data"
    }
   ],
   "source": [
    "df_class_1_over = df_class_1.sample(count_class_2, replace=True) #take the number of fatal accidents as slight\n",
    "df_class_3_under = df_class_3.sample(count_class_2, replace=True)\n",
    "df_train_over_under = pd.concat([df_class_3_under, df_class_2, df_class_1_over], axis=0)\n",
    "\n",
    "print('Random over-sampling:')\n",
    "print(df_train_over_under['Accident Severity'].value_counts())\n",
    "\n",
    "df_train_over_under['Accident Severity'].value_counts().plot(kind='bar', title='Count (Accident Severity)');\n",
    "\n",
    "# split df_train into X and y\n",
    "\n",
    "y_train_over_under = df_train_over_under['Accident Severity']\n",
    "\n",
    "X_train_over_under = df_train_over_under.drop(['Accident Severity'], axis=1)\n",
    "\n",
    "\n",
    "print ('X shape: ', X_train_over_under.shape)\n",
    "print ('y shape: ', y_train_over_under.shape)\n"
   ]
  },
  {
   "cell_type": "code",
   "execution_count": 37,
   "metadata": {
    "scrolled": true
   },
   "outputs": [
    {
     "name": "stdout",
     "output_type": "stream",
     "text": [
      "Accuracy: 75.83\n"
     ]
    }
   ],
   "source": [
    "rf = RandomForestClassifier(n_jobs=-1, random_state=0,n_estimators=100)\n",
    "\n",
    "rf=rf.fit(X_train_over_under,y_train_over_under)#run predictor with each parameter using training data\n",
    "pred=rf.predict(X_test)\n",
    "\n",
    "print ('Accuracy: %.2f' % ((len(y_test[pred == y_test])/len(y_test))*100))"
   ]
  },
  {
   "cell_type": "code",
   "execution_count": 38,
   "metadata": {},
   "outputs": [
    {
     "name": "stdout",
     "output_type": "stream",
     "text": [
      "Confusion matrix:\n",
      " [[ 11   3   2]\n",
      " [  0 105  17]\n",
      " [  5 249 750]]\n"
     ]
    },
    {
     "data": {
      "image/png": "[encoded data removed]",
      "text/plain": [
       "<matplotlib.figure.Figure at 0x10cb343c8>"
      ]
     },
     "metadata": {},
     "output_type": "display_data"
    }
   ],
   "source": [
    "# COnfusion matrix code \n",
    "\n",
    "y_pred = rf.predict(X_test)\n",
    "\n",
    "conf_mat = confusion_matrix(y_true=y_test, y_pred=y_pred, labels=['1 Fatal', '2 Serious', '3 Slight'])\n",
    "print('Confusion matrix:\\n', conf_mat)\n",
    "\n",
    "labels = ['Fatal', 'Serious', 'Slight']\n",
    "fig = plt.figure()\n",
    "ax = fig.add_subplot(111)\n",
    "cax = ax.matshow(conf_mat, cmap=plt.cm.Blues)\n",
    "fig.colorbar(cax)\n",
    "ax.set_xticklabels([''] + labels)\n",
    "ax.set_yticklabels([''] + labels)\n",
    "plt.xlabel('Predicted')\n",
    "plt.ylabel('True')\n",
    "plt.show()"
   ]
  },
  {
   "cell_type": "code",
   "execution_count": 39,
   "metadata": {
    "collapsed": true
   },
   "outputs": [],
   "source": [
    "count_cls_3, count_cls_2, count_cls_1 =y_test.value_counts()\n",
    "\n",
    "conf_mat_pct = (np.array(conf_mat.T / np.array([count_cls_1, count_cls_2, count_cls_3])).T)*100.00"
   ]
  },
  {
   "cell_type": "code",
   "execution_count": 40,
   "metadata": {},
   "outputs": [
    {
     "name": "stdout",
     "output_type": "stream",
     "text": [
      "Confusion matrix, (%):\n",
      " [[ 68.75        18.75        12.5       ]\n",
      " [  0.          86.06557377  13.93442623]\n",
      " [  0.49800797  24.80079681  74.70119522]]\n"
     ]
    },
    {
     "data": {
      "image/png": "[encoded data removed]",
      "text/plain": [
       "<matplotlib.figure.Figure at 0x1a0f726898>"
      ]
     },
     "metadata": {},
     "output_type": "display_data"
    }
   ],
   "source": [
    "print('Confusion matrix, (%):\\n', conf_mat_pct)\n",
    "\n",
    "labels = ['Fatal', 'Serious', 'Slight']\n",
    "fig = plt.figure()\n",
    "ax = fig.add_subplot(111)\n",
    "cax = ax.matshow(conf_mat_pct, cmap=plt.cm.Blues)\n",
    "fig.colorbar(cax)\n",
    "ax.set_xticklabels([''] + labels)\n",
    "ax.set_yticklabels([''] + labels)\n",
    "plt.xlabel('Predicted')\n",
    "plt.ylabel('True')\n",
    "plt.show()"
   ]
  },
  {
   "cell_type": "code",
   "execution_count": 41,
   "metadata": {},
   "outputs": [
    {
     "name": "stdout",
     "output_type": "stream",
     "text": [
      "Random Forest Feature ranking:          0                                                1\n",
      "0   0.0791                                             Time\n",
      "1   0.0386       Ped. Crossing Decoded_4 Pelican Or Similar\n",
      "2   0.0234                   Road Class 2_-2 Not Applicable\n",
      "3   0.0219                                    Highway_3 Bor\n",
      "4   0.0214                                    Day_Sunday   \n",
      "5   0.0201          Vehicle Manoeuvres_18 Going Ahead Other\n",
      "6   0.0200               Mode of Travel_3 Powered 2 Wheeler\n",
      "7   0.0197  Ped. Crossing Decoded_0 No Xing Facility In 50m\n",
      "8   0.0197                                    Day_Saturday \n",
      "9   0.0184                             Mode of Travel_4 Car\n",
      "10  0.0184                      Junction Location_8 Jct Mid\n",
      "11  0.0169                                   Road Class 1_A\n",
      "12  0.0169         Junction Control_4 Give Way/Uncontrolled\n",
      "13  0.0165                 Veh. Leaving C/W_0 Did Not Leave\n",
      "14  0.0161                                   Highway_1 TLRN\n"
     ]
    },
    {
     "data": {
      "image/png": "[encoded data removed]",
      "text/plain": [
       "<matplotlib.figure.Figure at 0x1a11096940>"
      ]
     },
     "metadata": {},
     "output_type": "display_data"
    }
   ],
   "source": [
    "names = X_train_over_under.columns\n",
    "feat_sort = (sorted(zip(map(lambda x: round(x, 4), rf.feature_importances_), names), reverse=True))\n",
    "feat_num=50\n",
    "\n",
    "pl.figure(figsize=(8,6))\n",
    "pl.title(\"Random Forest Feature importance\")\n",
    "pl.bar(np.arange(feat_num), pd.DataFrame(feat_sort)[0][:feat_num], align='center')\n",
    "pl.xticks(np.arange(feat_num))\n",
    "pl.ylabel('Importance Score')\n",
    "\n",
    "print(\"Random Forest Feature ranking:\", pd.DataFrame(feat_sort)[:15])"
   ]
  },
  {
   "cell_type": "code",
   "execution_count": null,
   "metadata": {
    "collapsed": true
   },
   "outputs": [],
   "source": []
  }
 ],
 "metadata": {
  "kernelspec": {
   "display_name": "Python 3",
   "language": "python",
   "name": "python3"
  },
  "language_info": {
   "codemirror_mode": {
    "name": "ipython",
    "version": 3
   },
   "file_extension": ".py",
   "mimetype": "text/x-python",
   "name": "python",
   "nbconvert_exporter": "python",
   "pygments_lexer": "ipython3",
   "version": "3.6.2"
  }
 },
 "nbformat": 4,
 "nbformat_minor": 2
}
