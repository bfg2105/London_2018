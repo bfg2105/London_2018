{
 "cells": [
  {
   "cell_type": "markdown",
   "metadata": {},
   "source": [
    "Goal: create a model that predicts severity of a collision, based on the features of the collision"
   ]
  },
  {
   "cell_type": "code",
   "execution_count": 1,
   "metadata": {},
   "outputs": [
    {
     "name": "stdout",
     "output_type": "stream",
     "text": [
      "Populating the interactive namespace from numpy and matplotlib\n"
     ]
    }
   ],
   "source": [
    "import pandas as pd\n",
    "import numpy as np\n",
    "import pylab as pl\n",
    "%pylab inline\n",
    "import sklearn\n",
    "from sklearn.ensemble import RandomForestRegressor\n",
    "from sklearn.model_selection import GridSearchCV \n",
    "from sklearn.model_selection import train_test_split\n",
    "from sklearn import preprocessing"
   ]
  },
  {
   "cell_type": "markdown",
   "metadata": {},
   "source": [
    "1) Load data  \n",
    "    - 2014 attendant, vehicle, and casualty datasets\n",
    "    - Description of data: https://drive.google.com/drive/u/0/folders/1afX9SJzqmO6rQG6FDhpMlzOfoy_NwI7Q\n",
    "    - Merge on AREFNO\n",
    "2) Train, Test split  \n",
    "3) Hyper Paramter tuning for Random Forest Classifier  \n",
    "3) Feature Importance  \n",
    "4) Next: Visualize a decision tree  "
   ]
  },
  {
   "cell_type": "markdown",
   "metadata": {},
   "source": [
    "** * Load Data * **"
   ]
  },
  {
   "cell_type": "code",
   "execution_count": 2,
   "metadata": {},
   "outputs": [
    {
     "data": {
      "text/html": [
       "<div>\n",
       "<style>\n",
       "    .dataframe thead tr:only-child th {\n",
       "        text-align: right;\n",
       "    }\n",
       "\n",
       "    .dataframe thead th {\n",
       "        text-align: left;\n",
       "    }\n",
       "\n",
       "    .dataframe tbody tr th {\n",
       "        vertical-align: top;\n",
       "    }\n",
       "</style>\n",
       "<table border=\"1\" class=\"dataframe\">\n",
       "  <thead>\n",
       "    <tr style=\"text-align: right;\">\n",
       "      <th></th>\n",
       "      <th>AREFNO</th>\n",
       "      <th>Borough</th>\n",
       "      <th>Boro</th>\n",
       "      <th>Easting</th>\n",
       "      <th>Northing</th>\n",
       "      <th>Location</th>\n",
       "      <th>Accident Severity</th>\n",
       "      <th>No. of Casualties in Acc.</th>\n",
       "      <th>No. of Vehicles in Acc.</th>\n",
       "      <th>Accident Date</th>\n",
       "      <th>...</th>\n",
       "      <th>Junction Detail</th>\n",
       "      <th>Junction Control</th>\n",
       "      <th>Road Class 2</th>\n",
       "      <th>Road No. 2</th>\n",
       "      <th>Ped. Crossing Decoded</th>\n",
       "      <th>Light Conditions (Banded)</th>\n",
       "      <th>Weather</th>\n",
       "      <th>Road Surface</th>\n",
       "      <th>Special Conditions</th>\n",
       "      <th>C/W Hazard</th>\n",
       "    </tr>\n",
       "  </thead>\n",
       "  <tbody>\n",
       "    <tr>\n",
       "      <th>0</th>\n",
       "      <td>0114CP00001</td>\n",
       "      <td>CITY OF LONDON</td>\n",
       "      <td>0</td>\n",
       "      <td>533540</td>\n",
       "      <td>181230</td>\n",
       "      <td>ST BOTOLPH STREET J/W HOUNDSDITCH</td>\n",
       "      <td>3 Slight</td>\n",
       "      <td>1</td>\n",
       "      <td>1</td>\n",
       "      <td>01-Jan-14</td>\n",
       "      <td>...</td>\n",
       "      <td>3 T/Stag Jun</td>\n",
       "      <td>4 Give Way/Uncontrolled</td>\n",
       "      <td>A</td>\n",
       "      <td>1211</td>\n",
       "      <td>0 No Xing Facility In 50m</td>\n",
       "      <td>2 Dark</td>\n",
       "      <td>1 Fine</td>\n",
       "      <td>2 Road-Wet</td>\n",
       "      <td>0 None</td>\n",
       "      <td>0 None</td>\n",
       "    </tr>\n",
       "    <tr>\n",
       "      <th>1</th>\n",
       "      <td>0114CP00002</td>\n",
       "      <td>CITY OF LONDON</td>\n",
       "      <td>0</td>\n",
       "      <td>532680</td>\n",
       "      <td>181430</td>\n",
       "      <td>MOORGATE J/W GREAT SWAN ALLEY</td>\n",
       "      <td>3 Slight</td>\n",
       "      <td>1</td>\n",
       "      <td>1</td>\n",
       "      <td>08-Jan-14</td>\n",
       "      <td>...</td>\n",
       "      <td>3 T/Stag Jun</td>\n",
       "      <td>4 Give Way/Uncontrolled</td>\n",
       "      <td>C</td>\n",
       "      <td>0</td>\n",
       "      <td>0 No Xing Facility In 50m</td>\n",
       "      <td>1 Daylight</td>\n",
       "      <td>1 Fine</td>\n",
       "      <td>1 Road-Dry</td>\n",
       "      <td>0 None</td>\n",
       "      <td>0 None</td>\n",
       "    </tr>\n",
       "    <tr>\n",
       "      <th>2</th>\n",
       "      <td>0114CP00003</td>\n",
       "      <td>CITY OF LONDON</td>\n",
       "      <td>0</td>\n",
       "      <td>532090</td>\n",
       "      <td>181830</td>\n",
       "      <td>ALDERGATE STREET J/W LONG LANE</td>\n",
       "      <td>2 Serious</td>\n",
       "      <td>1</td>\n",
       "      <td>1</td>\n",
       "      <td>09-Jan-14</td>\n",
       "      <td>...</td>\n",
       "      <td>3 T/Stag Jun</td>\n",
       "      <td>2 Auto Sig</td>\n",
       "      <td>C</td>\n",
       "      <td>0</td>\n",
       "      <td>5 Pedn Phase At Ats</td>\n",
       "      <td>2 Dark</td>\n",
       "      <td>1 Fine</td>\n",
       "      <td>1 Road-Dry</td>\n",
       "      <td>0 None</td>\n",
       "      <td>0 None</td>\n",
       "    </tr>\n",
       "    <tr>\n",
       "      <th>3</th>\n",
       "      <td>0114CP00004</td>\n",
       "      <td>CITY OF LONDON</td>\n",
       "      <td>0</td>\n",
       "      <td>531770</td>\n",
       "      <td>180950</td>\n",
       "      <td>QUEEN VICTORIA STREET J/W PUDDLE DOCK</td>\n",
       "      <td>2 Serious</td>\n",
       "      <td>1</td>\n",
       "      <td>2</td>\n",
       "      <td>08-Jan-14</td>\n",
       "      <td>...</td>\n",
       "      <td>3 T/Stag Jun</td>\n",
       "      <td>2 Auto Sig</td>\n",
       "      <td>C</td>\n",
       "      <td>0</td>\n",
       "      <td>5 Pedn Phase At Ats</td>\n",
       "      <td>1 Daylight</td>\n",
       "      <td>1 Fine</td>\n",
       "      <td>1 Road-Dry</td>\n",
       "      <td>0 None</td>\n",
       "      <td>0 None</td>\n",
       "    </tr>\n",
       "    <tr>\n",
       "      <th>4</th>\n",
       "      <td>0114CP00005</td>\n",
       "      <td>CITY OF LONDON</td>\n",
       "      <td>0</td>\n",
       "      <td>533130</td>\n",
       "      <td>180920</td>\n",
       "      <td>FENCHURCH STREET J/W ROOD LANE</td>\n",
       "      <td>3 Slight</td>\n",
       "      <td>1</td>\n",
       "      <td>1</td>\n",
       "      <td>15-Jan-14</td>\n",
       "      <td>...</td>\n",
       "      <td>3 T/Stag Jun</td>\n",
       "      <td>4 Give Way/Uncontrolled</td>\n",
       "      <td>C</td>\n",
       "      <td>0</td>\n",
       "      <td>0 No Xing Facility In 50m</td>\n",
       "      <td>1 Daylight</td>\n",
       "      <td>1 Fine</td>\n",
       "      <td>1 Road-Dry</td>\n",
       "      <td>0 None</td>\n",
       "      <td>0 None</td>\n",
       "    </tr>\n",
       "  </tbody>\n",
       "</table>\n",
       "<p>5 rows × 27 columns</p>\n",
       "</div>"
      ],
      "text/plain": [
       "        AREFNO         Borough  Boro  Easting  Northing  \\\n",
       "0  0114CP00001  CITY OF LONDON     0   533540    181230   \n",
       "1  0114CP00002  CITY OF LONDON     0   532680    181430   \n",
       "2  0114CP00003  CITY OF LONDON     0   532090    181830   \n",
       "3  0114CP00004  CITY OF LONDON     0   531770    180950   \n",
       "4  0114CP00005  CITY OF LONDON     0   533130    180920   \n",
       "\n",
       "                                Location Accident Severity  \\\n",
       "0      ST BOTOLPH STREET J/W HOUNDSDITCH          3 Slight   \n",
       "1          MOORGATE J/W GREAT SWAN ALLEY          3 Slight   \n",
       "2         ALDERGATE STREET J/W LONG LANE         2 Serious   \n",
       "3  QUEEN VICTORIA STREET J/W PUDDLE DOCK         2 Serious   \n",
       "4         FENCHURCH STREET J/W ROOD LANE          3 Slight   \n",
       "\n",
       "   No. of Casualties in Acc.  No. of Vehicles in Acc. Accident Date  \\\n",
       "0                          1                        1     01-Jan-14   \n",
       "1                          1                        1     08-Jan-14   \n",
       "2                          1                        1     09-Jan-14   \n",
       "3                          1                        2     08-Jan-14   \n",
       "4                          1                        1     15-Jan-14   \n",
       "\n",
       "     ...     Junction Detail         Junction Control Road Class 2 Road No. 2  \\\n",
       "0    ...        3 T/Stag Jun  4 Give Way/Uncontrolled            A       1211   \n",
       "1    ...        3 T/Stag Jun  4 Give Way/Uncontrolled            C          0   \n",
       "2    ...        3 T/Stag Jun               2 Auto Sig            C          0   \n",
       "3    ...        3 T/Stag Jun               2 Auto Sig            C          0   \n",
       "4    ...        3 T/Stag Jun  4 Give Way/Uncontrolled            C          0   \n",
       "\n",
       "       Ped. Crossing Decoded Light Conditions (Banded) Weather Road Surface  \\\n",
       "0  0 No Xing Facility In 50m                    2 Dark  1 Fine   2 Road-Wet   \n",
       "1  0 No Xing Facility In 50m                1 Daylight  1 Fine   1 Road-Dry   \n",
       "2        5 Pedn Phase At Ats                    2 Dark  1 Fine   1 Road-Dry   \n",
       "3        5 Pedn Phase At Ats                1 Daylight  1 Fine   1 Road-Dry   \n",
       "4  0 No Xing Facility In 50m                1 Daylight  1 Fine   1 Road-Dry   \n",
       "\n",
       "  Special Conditions C/W Hazard  \n",
       "0             0 None     0 None  \n",
       "1             0 None     0 None  \n",
       "2             0 None     0 None  \n",
       "3             0 None     0 None  \n",
       "4             0 None     0 None  \n",
       "\n",
       "[5 rows x 27 columns]"
      ]
     },
     "execution_count": 2,
     "metadata": {},
     "output_type": "execute_result"
    }
   ],
   "source": [
    "df_att = pd.read_csv('./data/2014-gla-data-extract-attendant.csv')\n",
    "df_att.head()"
   ]
  },
  {
   "cell_type": "code",
   "execution_count": 4,
   "metadata": {},
   "outputs": [
    {
     "data": {
      "text/html": [
       "<div>\n",
       "<style>\n",
       "    .dataframe thead tr:only-child th {\n",
       "        text-align: right;\n",
       "    }\n",
       "\n",
       "    .dataframe thead th {\n",
       "        text-align: left;\n",
       "    }\n",
       "\n",
       "    .dataframe tbody tr th {\n",
       "        vertical-align: top;\n",
       "    }\n",
       "</style>\n",
       "<table border=\"1\" class=\"dataframe\">\n",
       "  <thead>\n",
       "    <tr style=\"text-align: right;\">\n",
       "      <th></th>\n",
       "      <th>AREFNO</th>\n",
       "      <th>Borough</th>\n",
       "      <th>Boro</th>\n",
       "      <th>Easting</th>\n",
       "      <th>Northing</th>\n",
       "      <th>CREFNO</th>\n",
       "      <th>Casualty Class</th>\n",
       "      <th>Casualty Sex</th>\n",
       "      <th>Casualty Age (Banded)</th>\n",
       "      <th>Casualty Age</th>\n",
       "      <th>No. of Casualties</th>\n",
       "      <th>Casualty Severity</th>\n",
       "      <th>Ped. Location</th>\n",
       "      <th>Ped. Movement</th>\n",
       "      <th>Mode of Travel</th>\n",
       "      <th></th>\n",
       "    </tr>\n",
       "  </thead>\n",
       "  <tbody>\n",
       "    <tr>\n",
       "      <th>0</th>\n",
       "      <td>0114CP00001</td>\n",
       "      <td>CITY OF LONDON</td>\n",
       "      <td>0</td>\n",
       "      <td>533540</td>\n",
       "      <td>181230</td>\n",
       "      <td>1</td>\n",
       "      <td>3 Pedestrian</td>\n",
       "      <td>1 Male</td>\n",
       "      <td>25-59</td>\n",
       "      <td>29</td>\n",
       "      <td>1</td>\n",
       "      <td>3 Slight</td>\n",
       "      <td>05 Crossing Road (Not On Xing)</td>\n",
       "      <td>9 Unknown Or Other</td>\n",
       "      <td>1 Pedestrian</td>\n",
       "      <td></td>\n",
       "    </tr>\n",
       "    <tr>\n",
       "      <th>1</th>\n",
       "      <td>0114CP00002</td>\n",
       "      <td>CITY OF LONDON</td>\n",
       "      <td>0</td>\n",
       "      <td>532680</td>\n",
       "      <td>181430</td>\n",
       "      <td>1</td>\n",
       "      <td>3 Pedestrian</td>\n",
       "      <td>1 Male</td>\n",
       "      <td>25-59</td>\n",
       "      <td>48</td>\n",
       "      <td>1</td>\n",
       "      <td>3 Slight</td>\n",
       "      <td>05 Crossing Road (Not On Xing)</td>\n",
       "      <td>9 Unknown Or Other</td>\n",
       "      <td>1 Pedestrian</td>\n",
       "      <td></td>\n",
       "    </tr>\n",
       "    <tr>\n",
       "      <th>2</th>\n",
       "      <td>0114CP00003</td>\n",
       "      <td>CITY OF LONDON</td>\n",
       "      <td>0</td>\n",
       "      <td>532090</td>\n",
       "      <td>181830</td>\n",
       "      <td>1</td>\n",
       "      <td>3 Pedestrian</td>\n",
       "      <td>1 Male</td>\n",
       "      <td>Unknown</td>\n",
       "      <td>0</td>\n",
       "      <td>1</td>\n",
       "      <td>2 Serious</td>\n",
       "      <td>01 Crossing Road On Ped Xing</td>\n",
       "      <td>3 From Drivers O/Side</td>\n",
       "      <td>1 Pedestrian</td>\n",
       "      <td></td>\n",
       "    </tr>\n",
       "    <tr>\n",
       "      <th>3</th>\n",
       "      <td>0114CP00004</td>\n",
       "      <td>CITY OF LONDON</td>\n",
       "      <td>0</td>\n",
       "      <td>531770</td>\n",
       "      <td>180950</td>\n",
       "      <td>1</td>\n",
       "      <td>1 Driver/Rider</td>\n",
       "      <td>1 Male</td>\n",
       "      <td>25-59</td>\n",
       "      <td>33</td>\n",
       "      <td>1</td>\n",
       "      <td>2 Serious</td>\n",
       "      <td>-2 Unknown</td>\n",
       "      <td>-2 N/A</td>\n",
       "      <td>3 Powered 2 Wheeler</td>\n",
       "      <td></td>\n",
       "    </tr>\n",
       "    <tr>\n",
       "      <th>4</th>\n",
       "      <td>0114CP00005</td>\n",
       "      <td>CITY OF LONDON</td>\n",
       "      <td>0</td>\n",
       "      <td>533130</td>\n",
       "      <td>180920</td>\n",
       "      <td>1</td>\n",
       "      <td>3 Pedestrian</td>\n",
       "      <td>1 Male</td>\n",
       "      <td>25-59</td>\n",
       "      <td>31</td>\n",
       "      <td>1</td>\n",
       "      <td>3 Slight</td>\n",
       "      <td>06 On Footpath - Verge</td>\n",
       "      <td>9 Unknown Or Other</td>\n",
       "      <td>1 Pedestrian</td>\n",
       "      <td></td>\n",
       "    </tr>\n",
       "  </tbody>\n",
       "</table>\n",
       "</div>"
      ],
      "text/plain": [
       "        AREFNO         Borough  Boro  Easting  Northing  CREFNO  \\\n",
       "0  0114CP00001  CITY OF LONDON     0   533540    181230       1   \n",
       "1  0114CP00002  CITY OF LONDON     0   532680    181430       1   \n",
       "2  0114CP00003  CITY OF LONDON     0   532090    181830       1   \n",
       "3  0114CP00004  CITY OF LONDON     0   531770    180950       1   \n",
       "4  0114CP00005  CITY OF LONDON     0   533130    180920       1   \n",
       "\n",
       "   Casualty Class Casualty Sex Casualty Age (Banded)  Casualty Age  \\\n",
       "0    3 Pedestrian       1 Male                 25-59            29   \n",
       "1    3 Pedestrian       1 Male                 25-59            48   \n",
       "2    3 Pedestrian       1 Male               Unknown             0   \n",
       "3  1 Driver/Rider       1 Male                 25-59            33   \n",
       "4    3 Pedestrian       1 Male                 25-59            31   \n",
       "\n",
       "   No. of Casualties Casualty Severity                   Ped. Location  \\\n",
       "0                  1          3 Slight  05 Crossing Road (Not On Xing)   \n",
       "1                  1          3 Slight  05 Crossing Road (Not On Xing)   \n",
       "2                  1         2 Serious    01 Crossing Road On Ped Xing   \n",
       "3                  1         2 Serious                      -2 Unknown   \n",
       "4                  1          3 Slight          06 On Footpath - Verge   \n",
       "\n",
       "           Ped. Movement       Mode of Travel     \n",
       "0     9 Unknown Or Other         1 Pedestrian     \n",
       "1     9 Unknown Or Other         1 Pedestrian     \n",
       "2  3 From Drivers O/Side         1 Pedestrian     \n",
       "3                 -2 N/A  3 Powered 2 Wheeler     \n",
       "4     9 Unknown Or Other         1 Pedestrian     "
      ]
     },
     "execution_count": 4,
     "metadata": {},
     "output_type": "execute_result"
    }
   ],
   "source": [
    "df_cas = pd.read_csv('./data/2014-gla-data-extract-casualty.csv')\n",
    "df_cas.head()"
   ]
  },
  {
   "cell_type": "code",
   "execution_count": 7,
   "metadata": {},
   "outputs": [
    {
     "data": {
      "text/html": [
       "<div>\n",
       "<style>\n",
       "    .dataframe thead tr:only-child th {\n",
       "        text-align: right;\n",
       "    }\n",
       "\n",
       "    .dataframe thead th {\n",
       "        text-align: left;\n",
       "    }\n",
       "\n",
       "    .dataframe tbody tr th {\n",
       "        vertical-align: top;\n",
       "    }\n",
       "</style>\n",
       "<table border=\"1\" class=\"dataframe\">\n",
       "  <thead>\n",
       "    <tr style=\"text-align: right;\">\n",
       "      <th></th>\n",
       "      <th>AREFNO</th>\n",
       "      <th>Borough</th>\n",
       "      <th>Boro</th>\n",
       "      <th>Easting</th>\n",
       "      <th>Northing</th>\n",
       "      <th>Vehicle Ref.</th>\n",
       "      <th>Vehicle Type</th>\n",
       "      <th>Vehicle Type (Banded)</th>\n",
       "      <th>Vehicle Manoeuvres</th>\n",
       "      <th>Vehicle Skidding</th>\n",
       "      <th>...</th>\n",
       "      <th>Junction Location</th>\n",
       "      <th>Object in C/W</th>\n",
       "      <th>Veh. Leaving C/W</th>\n",
       "      <th>Veh. off C/W</th>\n",
       "      <th>Veh. Impact</th>\n",
       "      <th>VJNYPURP DECODED</th>\n",
       "      <th>Driver Sex</th>\n",
       "      <th>Driver Age</th>\n",
       "      <th>Driver Age (Banded)</th>\n",
       "      <th></th>\n",
       "    </tr>\n",
       "  </thead>\n",
       "  <tbody>\n",
       "    <tr>\n",
       "      <th>0</th>\n",
       "      <td>0114CP00001</td>\n",
       "      <td>CITY OF LONDON</td>\n",
       "      <td>0</td>\n",
       "      <td>533540</td>\n",
       "      <td>181230</td>\n",
       "      <td>1</td>\n",
       "      <td>08 Taxi</td>\n",
       "      <td>4 Taxi</td>\n",
       "      <td>18 Going Ahead Other</td>\n",
       "      <td>0 No Skidding/Overturn</td>\n",
       "      <td>...</td>\n",
       "      <td>1 Jct App</td>\n",
       "      <td>00 None</td>\n",
       "      <td>0 Did Not Leave</td>\n",
       "      <td>00 None</td>\n",
       "      <td>1 Front Hit First</td>\n",
       "      <td>5 Other/Not Known</td>\n",
       "      <td>1 Male</td>\n",
       "      <td>55</td>\n",
       "      <td>35-64</td>\n",
       "      <td></td>\n",
       "    </tr>\n",
       "    <tr>\n",
       "      <th>1</th>\n",
       "      <td>0114CP00002</td>\n",
       "      <td>CITY OF LONDON</td>\n",
       "      <td>0</td>\n",
       "      <td>532680</td>\n",
       "      <td>181430</td>\n",
       "      <td>1</td>\n",
       "      <td>21 Gds =&gt; 7.5t</td>\n",
       "      <td>7 Goods vehicles</td>\n",
       "      <td>01 Reversing</td>\n",
       "      <td>0 No Skidding/Overturn</td>\n",
       "      <td>...</td>\n",
       "      <td>8 Jct Mid</td>\n",
       "      <td>00 None</td>\n",
       "      <td>0 Did Not Leave</td>\n",
       "      <td>00 None</td>\n",
       "      <td>2 Back Hit First</td>\n",
       "      <td>5 Other/Not Known</td>\n",
       "      <td>3 Not Traced</td>\n",
       "      <td>0</td>\n",
       "      <td>Unknown</td>\n",
       "      <td></td>\n",
       "    </tr>\n",
       "    <tr>\n",
       "      <th>2</th>\n",
       "      <td>0114CP00003</td>\n",
       "      <td>CITY OF LONDON</td>\n",
       "      <td>0</td>\n",
       "      <td>532090</td>\n",
       "      <td>181830</td>\n",
       "      <td>1</td>\n",
       "      <td>09 Car</td>\n",
       "      <td>3 Car</td>\n",
       "      <td>18 Going Ahead Other</td>\n",
       "      <td>0 No Skidding/Overturn</td>\n",
       "      <td>...</td>\n",
       "      <td>8 Jct Mid</td>\n",
       "      <td>00 None</td>\n",
       "      <td>0 Did Not Leave</td>\n",
       "      <td>00 None</td>\n",
       "      <td>1 Front Hit First</td>\n",
       "      <td>2 Comm To/From Work</td>\n",
       "      <td>1 Male</td>\n",
       "      <td>57</td>\n",
       "      <td>35-64</td>\n",
       "      <td></td>\n",
       "    </tr>\n",
       "    <tr>\n",
       "      <th>3</th>\n",
       "      <td>0114CP00004</td>\n",
       "      <td>CITY OF LONDON</td>\n",
       "      <td>0</td>\n",
       "      <td>531770</td>\n",
       "      <td>180950</td>\n",
       "      <td>1</td>\n",
       "      <td>09 Car</td>\n",
       "      <td>3 Car</td>\n",
       "      <td>18 Going Ahead Other</td>\n",
       "      <td>0 No Skidding/Overturn</td>\n",
       "      <td>...</td>\n",
       "      <td>1 Jct App</td>\n",
       "      <td>00 None</td>\n",
       "      <td>0 Did Not Leave</td>\n",
       "      <td>00 None</td>\n",
       "      <td>3 O/S Hit First</td>\n",
       "      <td>1 Jny Part of Work</td>\n",
       "      <td>1 Male</td>\n",
       "      <td>45</td>\n",
       "      <td>35-64</td>\n",
       "      <td></td>\n",
       "    </tr>\n",
       "    <tr>\n",
       "      <th>4</th>\n",
       "      <td>0114CP00004</td>\n",
       "      <td>CITY OF LONDON</td>\n",
       "      <td>0</td>\n",
       "      <td>531770</td>\n",
       "      <td>180950</td>\n",
       "      <td>2</td>\n",
       "      <td>03 M/C 50-125cc</td>\n",
       "      <td>2 Powered 2 wheeler</td>\n",
       "      <td>13 Overtake Move Veh O/S</td>\n",
       "      <td>0 No Skidding/Overturn</td>\n",
       "      <td>...</td>\n",
       "      <td>1 Jct App</td>\n",
       "      <td>00 None</td>\n",
       "      <td>0 Did Not Leave</td>\n",
       "      <td>00 None</td>\n",
       "      <td>4 N/S Hit First</td>\n",
       "      <td>2 Comm To/From Work</td>\n",
       "      <td>1 Male</td>\n",
       "      <td>33</td>\n",
       "      <td>25-34</td>\n",
       "      <td></td>\n",
       "    </tr>\n",
       "  </tbody>\n",
       "</table>\n",
       "<p>5 rows × 21 columns</p>\n",
       "</div>"
      ],
      "text/plain": [
       "        AREFNO         Borough  Boro  Easting  Northing  Vehicle Ref.  \\\n",
       "0  0114CP00001  CITY OF LONDON     0   533540    181230             1   \n",
       "1  0114CP00002  CITY OF LONDON     0   532680    181430             1   \n",
       "2  0114CP00003  CITY OF LONDON     0   532090    181830             1   \n",
       "3  0114CP00004  CITY OF LONDON     0   531770    180950             1   \n",
       "4  0114CP00004  CITY OF LONDON     0   531770    180950             2   \n",
       "\n",
       "      Vehicle Type Vehicle Type (Banded)        Vehicle Manoeuvres  \\\n",
       "0          08 Taxi                4 Taxi      18 Going Ahead Other   \n",
       "1   21 Gds => 7.5t      7 Goods vehicles              01 Reversing   \n",
       "2           09 Car                 3 Car      18 Going Ahead Other   \n",
       "3           09 Car                 3 Car      18 Going Ahead Other   \n",
       "4  03 M/C 50-125cc   2 Powered 2 wheeler  13 Overtake Move Veh O/S   \n",
       "\n",
       "         Vehicle Skidding ... Junction Location Object in C/W  \\\n",
       "0  0 No Skidding/Overturn ...         1 Jct App       00 None   \n",
       "1  0 No Skidding/Overturn ...         8 Jct Mid       00 None   \n",
       "2  0 No Skidding/Overturn ...         8 Jct Mid       00 None   \n",
       "3  0 No Skidding/Overturn ...         1 Jct App       00 None   \n",
       "4  0 No Skidding/Overturn ...         1 Jct App       00 None   \n",
       "\n",
       "  Veh. Leaving C/W Veh. off C/W        Veh. Impact     VJNYPURP DECODED  \\\n",
       "0  0 Did Not Leave      00 None  1 Front Hit First    5 Other/Not Known   \n",
       "1  0 Did Not Leave      00 None   2 Back Hit First    5 Other/Not Known   \n",
       "2  0 Did Not Leave      00 None  1 Front Hit First  2 Comm To/From Work   \n",
       "3  0 Did Not Leave      00 None    3 O/S Hit First   1 Jny Part of Work   \n",
       "4  0 Did Not Leave      00 None    4 N/S Hit First  2 Comm To/From Work   \n",
       "\n",
       "     Driver Sex Driver Age  Driver Age (Banded)     \n",
       "0        1 Male         55                35-64     \n",
       "1  3 Not Traced          0              Unknown     \n",
       "2        1 Male         57                35-64     \n",
       "3        1 Male         45                35-64     \n",
       "4        1 Male         33                25-34     \n",
       "\n",
       "[5 rows x 21 columns]"
      ]
     },
     "execution_count": 7,
     "metadata": {},
     "output_type": "execute_result"
    }
   ],
   "source": [
    "df_veh = pd.read_csv('./data/2014-gla-data-extract-vehicle.csv')\n",
    "df_veh.head()"
   ]
  },
  {
   "cell_type": "code",
   "execution_count": 9,
   "metadata": {},
   "outputs": [
    {
     "name": "stdout",
     "output_type": "stream",
     "text": [
      "len df_att:  25992\n",
      "len df_cas:  30785\n"
     ]
    },
    {
     "data": {
      "text/plain": [
       "30785"
      ]
     },
     "execution_count": 9,
     "metadata": {},
     "output_type": "execute_result"
    }
   ],
   "source": [
    "print ('len df_att: ', len(df_att))\n",
    "print ('len df_cas: ', len(df_cas))\n",
    "len(pd.merge(df_att, df_cas, on='AREFNO', how='inner'))"
   ]
  },
  {
   "cell_type": "markdown",
   "metadata": {},
   "source": [
    "More casualities than attendants entries -- more than one casuality per accident"
   ]
  },
  {
   "cell_type": "code",
   "execution_count": 11,
   "metadata": {},
   "outputs": [
    {
     "data": {
      "text/plain": [
       "0114RG40676    12\n",
       "0114XD80275    10\n",
       "0114SX20453     8\n",
       "0114VK39014     8\n",
       "0114TX20539     7\n",
       "0114YE80362     7\n",
       "0114YE89013     7\n",
       "0114PL60101     7\n",
       "0114JC30829     7\n",
       "0114GD10431     7\n",
       "Name: AREFNO, dtype: int64"
      ]
     },
     "execution_count": 11,
     "metadata": {},
     "output_type": "execute_result"
    }
   ],
   "source": [
    "df_cas.AREFNO.value_counts().sort_values(ascending=False).head(10)"
   ]
  },
  {
   "cell_type": "code",
   "execution_count": 12,
   "metadata": {},
   "outputs": [
    {
     "data": {
      "text/plain": [
       "0114GD10665    1\n",
       "0114CP00075    1\n",
       "0114RG40497    1\n",
       "0114YR90912    1\n",
       "0114CW11719    1\n",
       "0114SX20340    1\n",
       "0114TX20156    1\n",
       "0114YE80559    1\n",
       "0114JC30778    1\n",
       "0114HT20550    1\n",
       "Name: AREFNO, dtype: int64"
      ]
     },
     "execution_count": 12,
     "metadata": {},
     "output_type": "execute_result"
    }
   ],
   "source": [
    "df_att.AREFNO.value_counts().sort_values(ascending=False).head(10)"
   ]
  },
  {
   "cell_type": "markdown",
   "metadata": {},
   "source": [
    "Merge keeping the duplicates"
   ]
  },
  {
   "cell_type": "code",
   "execution_count": 13,
   "metadata": {
    "collapsed": true
   },
   "outputs": [],
   "source": [
    "df_crash = pd.merge(df_att, df_cas, on='AREFNO', how='inner')"
   ]
  },
  {
   "cell_type": "code",
   "execution_count": 14,
   "metadata": {},
   "outputs": [
    {
     "name": "stdout",
     "output_type": "stream",
     "text": [
      "len df_crash:  30785\n",
      "len df_veh:  46074\n"
     ]
    },
    {
     "data": {
      "text/plain": [
       "56406"
      ]
     },
     "execution_count": 14,
     "metadata": {},
     "output_type": "execute_result"
    }
   ],
   "source": [
    "print ('len df_crash: ', len(df_crash))\n",
    "print ('len df_veh: ', len(df_veh))\n",
    "len(pd.merge(df_crash, df_veh, on='AREFNO', how='inner'))"
   ]
  },
  {
   "cell_type": "markdown",
   "metadata": {},
   "source": [
    "Each accident has more than one vehicle. Merge to keep duplicates."
   ]
  },
  {
   "cell_type": "code",
   "execution_count": 15,
   "metadata": {
    "collapsed": true
   },
   "outputs": [],
   "source": [
    "df_crash = pd.merge(df_crash, df_veh, on='AREFNO', how='inner')"
   ]
  },
  {
   "cell_type": "code",
   "execution_count": 19,
   "metadata": {},
   "outputs": [
    {
     "data": {
      "text/plain": [
       "Index(['AREFNO', 'Borough_x', 'Boro_x', 'Easting_x', 'Northing_x', 'Location',\n",
       "       'Accident Severity', 'No. of Casualties in Acc.',\n",
       "       'No. of Vehicles in Acc.', 'Accident Date', 'Day', 'Time', 'Highway',\n",
       "       'Road Class 1', 'Road No. 1', 'Road Type', 'Speed Limit',\n",
       "       'Junction Detail', 'Junction Control', 'Road Class 2', 'Road No. 2',\n",
       "       'Ped. Crossing Decoded', 'Light Conditions (Banded)', 'Weather',\n",
       "       'Road Surface', 'Special Conditions', 'C/W Hazard', 'Borough_y',\n",
       "       'Boro_y', 'Easting_y', 'Northing_y', 'CREFNO', 'Casualty Class',\n",
       "       'Casualty Sex', 'Casualty Age (Banded)', 'Casualty Age',\n",
       "       'No. of Casualties', 'Casualty Severity', 'Ped. Location',\n",
       "       'Ped. Movement', 'Mode of Travel', ' _x', 'Borough', 'Boro', 'Easting',\n",
       "       'Northing', 'Vehicle Ref.', 'Vehicle Type', 'Vehicle Type (Banded)',\n",
       "       'Vehicle Manoeuvres', 'Vehicle Skidding', 'Restricted Lane',\n",
       "       'Junction Location', 'Object in C/W', 'Veh. Leaving C/W',\n",
       "       'Veh. off C/W', 'Veh. Impact', 'VJNYPURP DECODED', 'Driver Sex',\n",
       "       'Driver Age', 'Driver Age (Banded)', ' _y'],\n",
       "      dtype='object')"
      ]
     },
     "execution_count": 19,
     "metadata": {},
     "output_type": "execute_result"
    }
   ],
   "source": [
    "df_crash.columns"
   ]
  },
  {
   "cell_type": "markdown",
   "metadata": {},
   "source": [
    "***2) Train, Test split  ***"
   ]
  },
  {
   "cell_type": "code",
   "execution_count": 17,
   "metadata": {},
   "outputs": [
    {
     "data": {
      "text/plain": [
       "0"
      ]
     },
     "execution_count": 17,
     "metadata": {},
     "output_type": "execute_result"
    }
   ],
   "source": [
    "df_crash.isnull().sum().sum()"
   ]
  },
  {
   "cell_type": "code",
   "execution_count": 26,
   "metadata": {
    "collapsed": true
   },
   "outputs": [],
   "source": [
    "# Select X and y data\n",
    "\n",
    "y = df_crash['Accident Severity']\n",
    "\n",
    "X = df_crash[['No. of Casualties in Acc.',\n",
    "       'No. of Vehicles in Acc.', 'Day', 'Time', 'Highway',\n",
    "       'Road Class 1', 'Road No. 1', 'Road Type', 'Speed Limit',\n",
    "       'Junction Detail', 'Junction Control', 'Road Class 2', 'Road No. 2',\n",
    "       'Ped. Crossing Decoded', 'Light Conditions (Banded)', 'Weather',\n",
    "       'Road Surface', 'Special Conditions', 'C/W Hazard', 'Casualty Class',\n",
    "       'Casualty Sex', 'Casualty Age (Banded)', 'Casualty Age',\n",
    "       'No. of Casualties', 'Casualty Severity', 'Ped. Location',\n",
    "       'Ped. Movement', 'Mode of Travel', 'Vehicle Ref.', 'Vehicle Type',\n",
    "        'Vehicle Type (Banded)',\n",
    "       'Vehicle Manoeuvres', 'Vehicle Skidding', 'Restricted Lane',\n",
    "       'Junction Location', 'Object in C/W', 'Veh. Leaving C/W',\n",
    "       'Veh. off C/W', 'Veh. Impact', 'VJNYPURP DECODED', 'Driver Sex',\n",
    "       'Driver Age', 'Driver Age (Banded)']]"
   ]
  },
  {
   "cell_type": "code",
   "execution_count": 30,
   "metadata": {},
   "outputs": [
    {
     "name": "stdout",
     "output_type": "stream",
     "text": [
      "X shape:  (56406, 43)\n",
      "y shape:  (56406,)\n"
     ]
    }
   ],
   "source": [
    "print ('X shape: ', X.shape)\n",
    "print ('y shape: ', y.shape)"
   ]
  },
  {
   "cell_type": "code",
   "execution_count": 42,
   "metadata": {},
   "outputs": [
    {
     "name": "stdout",
     "output_type": "stream",
     "text": [
      "X shape:  (56406, 1630)\n"
     ]
    }
   ],
   "source": [
    "X=pd.get_dummies(X)\n",
    "print ('X shape: ', X.shape)"
   ]
  },
  {
   "cell_type": "code",
   "execution_count": 43,
   "metadata": {
    "collapsed": true
   },
   "outputs": [],
   "source": [
    "X_train, X_test, y_train, y_test = train_test_split(\n",
    "    X, y, test_size=0.4, random_state=0)"
   ]
  },
  {
   "cell_type": "markdown",
   "metadata": {},
   "source": [
    "***3) Hyper Paramter tuning for Random Forest Classifier  ***"
   ]
  },
  {
   "cell_type": "code",
   "execution_count": 33,
   "metadata": {},
   "outputs": [
    {
     "data": {
      "text/plain": [
       "3 Slight     52331\n",
       "2 Serious     3838\n",
       "1 Fatal        237\n",
       "Name: Accident Severity, dtype: int64"
      ]
     },
     "execution_count": 33,
     "metadata": {},
     "output_type": "execute_result"
    }
   ],
   "source": [
    "y.value_counts(dropna=False)"
   ]
  },
  {
   "cell_type": "code",
   "execution_count": 45,
   "metadata": {},
   "outputs": [
    {
     "ename": "KeyboardInterrupt",
     "evalue": "",
     "output_type": "error",
     "traceback": [
      "\u001b[0;31m---------------------------------------------------------------------------\u001b[0m",
      "\u001b[0;31mKeyboardInterrupt\u001b[0m                         Traceback (most recent call last)",
      "\u001b[0;32m<ipython-input-45-e21b4a5b8e80>\u001b[0m in \u001b[0;36m<module>\u001b[0;34m()\u001b[0m\n\u001b[1;32m      8\u001b[0m \u001b[0mrf\u001b[0m \u001b[0;34m=\u001b[0m \u001b[0mRandomForestClassifier\u001b[0m\u001b[0;34m(\u001b[0m\u001b[0mn_jobs\u001b[0m\u001b[0;34m=\u001b[0m\u001b[0;34m-\u001b[0m\u001b[0;36m1\u001b[0m\u001b[0;34m)\u001b[0m\u001b[0;31m#don't specifcy n_est in the intialization\u001b[0m\u001b[0;34m\u001b[0m\u001b[0m\n\u001b[1;32m      9\u001b[0m \u001b[0mgr\u001b[0m\u001b[0;34m=\u001b[0m\u001b[0mGridSearchCV\u001b[0m\u001b[0;34m(\u001b[0m\u001b[0mrf\u001b[0m\u001b[0;34m,\u001b[0m\u001b[0mparam_grid\u001b[0m\u001b[0;34m=\u001b[0m\u001b[0mparam_grid\u001b[0m\u001b[0;34m,\u001b[0m \u001b[0mcv\u001b[0m\u001b[0;34m=\u001b[0m\u001b[0;36m10\u001b[0m\u001b[0;34m)\u001b[0m\u001b[0;31m#pass in predictor, and gridded parameters\u001b[0m\u001b[0;34m\u001b[0m\u001b[0m\n\u001b[0;32m---> 10\u001b[0;31m \u001b[0mrs\u001b[0m\u001b[0;34m=\u001b[0m\u001b[0mgr\u001b[0m\u001b[0;34m.\u001b[0m\u001b[0mfit\u001b[0m\u001b[0;34m(\u001b[0m\u001b[0mX_train\u001b[0m\u001b[0;34m,\u001b[0m\u001b[0my_train\u001b[0m\u001b[0;34m)\u001b[0m\u001b[0;31m#run predictor with each parameter using training data\u001b[0m\u001b[0;34m\u001b[0m\u001b[0m\n\u001b[0m\u001b[1;32m     11\u001b[0m \u001b[0;31m#pred=rs.predict_proba(X_test)[:,1]\u001b[0m\u001b[0;34m\u001b[0m\u001b[0;34m\u001b[0m\u001b[0m\n\u001b[1;32m     12\u001b[0m \u001b[0;31m#print (roc_auc_score(np.array(y_test), pred))\u001b[0m\u001b[0;34m\u001b[0m\u001b[0;34m\u001b[0m\u001b[0m\n",
      "\u001b[0;32m~/anaconda3/lib/python3.6/site-packages/sklearn/model_selection/_search.py\u001b[0m in \u001b[0;36mfit\u001b[0;34m(self, X, y, groups, **fit_params)\u001b[0m\n\u001b[1;32m    636\u001b[0m                                   error_score=self.error_score)\n\u001b[1;32m    637\u001b[0m           for parameters, (train, test) in product(candidate_params,\n\u001b[0;32m--> 638\u001b[0;31m                                                    cv.split(X, y, groups)))\n\u001b[0m\u001b[1;32m    639\u001b[0m \u001b[0;34m\u001b[0m\u001b[0m\n\u001b[1;32m    640\u001b[0m         \u001b[0;31m# if one choose to see train score, \"out\" will contain train score info\u001b[0m\u001b[0;34m\u001b[0m\u001b[0;34m\u001b[0m\u001b[0m\n",
      "\u001b[0;32m~/anaconda3/lib/python3.6/site-packages/sklearn/externals/joblib/parallel.py\u001b[0m in \u001b[0;36m__call__\u001b[0;34m(self, iterable)\u001b[0m\n\u001b[1;32m    777\u001b[0m             \u001b[0;31m# was dispatched. In particular this covers the edge\u001b[0m\u001b[0;34m\u001b[0m\u001b[0;34m\u001b[0m\u001b[0m\n\u001b[1;32m    778\u001b[0m             \u001b[0;31m# case of Parallel used with an exhausted iterator.\u001b[0m\u001b[0;34m\u001b[0m\u001b[0;34m\u001b[0m\u001b[0m\n\u001b[0;32m--> 779\u001b[0;31m             \u001b[0;32mwhile\u001b[0m \u001b[0mself\u001b[0m\u001b[0;34m.\u001b[0m\u001b[0mdispatch_one_batch\u001b[0m\u001b[0;34m(\u001b[0m\u001b[0miterator\u001b[0m\u001b[0;34m)\u001b[0m\u001b[0;34m:\u001b[0m\u001b[0;34m\u001b[0m\u001b[0m\n\u001b[0m\u001b[1;32m    780\u001b[0m                 \u001b[0mself\u001b[0m\u001b[0;34m.\u001b[0m\u001b[0m_iterating\u001b[0m \u001b[0;34m=\u001b[0m \u001b[0;32mTrue\u001b[0m\u001b[0;34m\u001b[0m\u001b[0m\n\u001b[1;32m    781\u001b[0m             \u001b[0;32melse\u001b[0m\u001b[0;34m:\u001b[0m\u001b[0;34m\u001b[0m\u001b[0m\n",
      "\u001b[0;32m~/anaconda3/lib/python3.6/site-packages/sklearn/externals/joblib/parallel.py\u001b[0m in \u001b[0;36mdispatch_one_batch\u001b[0;34m(self, iterator)\u001b[0m\n\u001b[1;32m    623\u001b[0m                 \u001b[0;32mreturn\u001b[0m \u001b[0;32mFalse\u001b[0m\u001b[0;34m\u001b[0m\u001b[0m\n\u001b[1;32m    624\u001b[0m             \u001b[0;32melse\u001b[0m\u001b[0;34m:\u001b[0m\u001b[0;34m\u001b[0m\u001b[0m\n\u001b[0;32m--> 625\u001b[0;31m                 \u001b[0mself\u001b[0m\u001b[0;34m.\u001b[0m\u001b[0m_dispatch\u001b[0m\u001b[0;34m(\u001b[0m\u001b[0mtasks\u001b[0m\u001b[0;34m)\u001b[0m\u001b[0;34m\u001b[0m\u001b[0m\n\u001b[0m\u001b[1;32m    626\u001b[0m                 \u001b[0;32mreturn\u001b[0m \u001b[0;32mTrue\u001b[0m\u001b[0;34m\u001b[0m\u001b[0m\n\u001b[1;32m    627\u001b[0m \u001b[0;34m\u001b[0m\u001b[0m\n",
      "\u001b[0;32m~/anaconda3/lib/python3.6/site-packages/sklearn/externals/joblib/parallel.py\u001b[0m in \u001b[0;36m_dispatch\u001b[0;34m(self, batch)\u001b[0m\n\u001b[1;32m    586\u001b[0m         \u001b[0mdispatch_timestamp\u001b[0m \u001b[0;34m=\u001b[0m \u001b[0mtime\u001b[0m\u001b[0;34m.\u001b[0m\u001b[0mtime\u001b[0m\u001b[0;34m(\u001b[0m\u001b[0;34m)\u001b[0m\u001b[0;34m\u001b[0m\u001b[0m\n\u001b[1;32m    587\u001b[0m         \u001b[0mcb\u001b[0m \u001b[0;34m=\u001b[0m \u001b[0mBatchCompletionCallBack\u001b[0m\u001b[0;34m(\u001b[0m\u001b[0mdispatch_timestamp\u001b[0m\u001b[0;34m,\u001b[0m \u001b[0mlen\u001b[0m\u001b[0;34m(\u001b[0m\u001b[0mbatch\u001b[0m\u001b[0;34m)\u001b[0m\u001b[0;34m,\u001b[0m \u001b[0mself\u001b[0m\u001b[0;34m)\u001b[0m\u001b[0;34m\u001b[0m\u001b[0m\n\u001b[0;32m--> 588\u001b[0;31m         \u001b[0mjob\u001b[0m \u001b[0;34m=\u001b[0m \u001b[0mself\u001b[0m\u001b[0;34m.\u001b[0m\u001b[0m_backend\u001b[0m\u001b[0;34m.\u001b[0m\u001b[0mapply_async\u001b[0m\u001b[0;34m(\u001b[0m\u001b[0mbatch\u001b[0m\u001b[0;34m,\u001b[0m \u001b[0mcallback\u001b[0m\u001b[0;34m=\u001b[0m\u001b[0mcb\u001b[0m\u001b[0;34m)\u001b[0m\u001b[0;34m\u001b[0m\u001b[0m\n\u001b[0m\u001b[1;32m    589\u001b[0m         \u001b[0mself\u001b[0m\u001b[0;34m.\u001b[0m\u001b[0m_jobs\u001b[0m\u001b[0;34m.\u001b[0m\u001b[0mappend\u001b[0m\u001b[0;34m(\u001b[0m\u001b[0mjob\u001b[0m\u001b[0;34m)\u001b[0m\u001b[0;34m\u001b[0m\u001b[0m\n\u001b[1;32m    590\u001b[0m \u001b[0;34m\u001b[0m\u001b[0m\n",
      "\u001b[0;32m~/anaconda3/lib/python3.6/site-packages/sklearn/externals/joblib/_parallel_backends.py\u001b[0m in \u001b[0;36mapply_async\u001b[0;34m(self, func, callback)\u001b[0m\n\u001b[1;32m    109\u001b[0m     \u001b[0;32mdef\u001b[0m \u001b[0mapply_async\u001b[0m\u001b[0;34m(\u001b[0m\u001b[0mself\u001b[0m\u001b[0;34m,\u001b[0m \u001b[0mfunc\u001b[0m\u001b[0;34m,\u001b[0m \u001b[0mcallback\u001b[0m\u001b[0;34m=\u001b[0m\u001b[0;32mNone\u001b[0m\u001b[0;34m)\u001b[0m\u001b[0;34m:\u001b[0m\u001b[0;34m\u001b[0m\u001b[0m\n\u001b[1;32m    110\u001b[0m         \u001b[0;34m\"\"\"Schedule a func to be run\"\"\"\u001b[0m\u001b[0;34m\u001b[0m\u001b[0m\n\u001b[0;32m--> 111\u001b[0;31m         \u001b[0mresult\u001b[0m \u001b[0;34m=\u001b[0m \u001b[0mImmediateResult\u001b[0m\u001b[0;34m(\u001b[0m\u001b[0mfunc\u001b[0m\u001b[0;34m)\u001b[0m\u001b[0;34m\u001b[0m\u001b[0m\n\u001b[0m\u001b[1;32m    112\u001b[0m         \u001b[0;32mif\u001b[0m \u001b[0mcallback\u001b[0m\u001b[0;34m:\u001b[0m\u001b[0;34m\u001b[0m\u001b[0m\n\u001b[1;32m    113\u001b[0m             \u001b[0mcallback\u001b[0m\u001b[0;34m(\u001b[0m\u001b[0mresult\u001b[0m\u001b[0;34m)\u001b[0m\u001b[0;34m\u001b[0m\u001b[0m\n",
      "\u001b[0;32m~/anaconda3/lib/python3.6/site-packages/sklearn/externals/joblib/_parallel_backends.py\u001b[0m in \u001b[0;36m__init__\u001b[0;34m(self, batch)\u001b[0m\n\u001b[1;32m    330\u001b[0m         \u001b[0;31m# Don't delay the application, to avoid keeping the input\u001b[0m\u001b[0;34m\u001b[0m\u001b[0;34m\u001b[0m\u001b[0m\n\u001b[1;32m    331\u001b[0m         \u001b[0;31m# arguments in memory\u001b[0m\u001b[0;34m\u001b[0m\u001b[0;34m\u001b[0m\u001b[0m\n\u001b[0;32m--> 332\u001b[0;31m         \u001b[0mself\u001b[0m\u001b[0;34m.\u001b[0m\u001b[0mresults\u001b[0m \u001b[0;34m=\u001b[0m \u001b[0mbatch\u001b[0m\u001b[0;34m(\u001b[0m\u001b[0;34m)\u001b[0m\u001b[0;34m\u001b[0m\u001b[0m\n\u001b[0m\u001b[1;32m    333\u001b[0m \u001b[0;34m\u001b[0m\u001b[0m\n\u001b[1;32m    334\u001b[0m     \u001b[0;32mdef\u001b[0m \u001b[0mget\u001b[0m\u001b[0;34m(\u001b[0m\u001b[0mself\u001b[0m\u001b[0;34m)\u001b[0m\u001b[0;34m:\u001b[0m\u001b[0;34m\u001b[0m\u001b[0m\n",
      "\u001b[0;32m~/anaconda3/lib/python3.6/site-packages/sklearn/externals/joblib/parallel.py\u001b[0m in \u001b[0;36m__call__\u001b[0;34m(self)\u001b[0m\n\u001b[1;32m    129\u001b[0m \u001b[0;34m\u001b[0m\u001b[0m\n\u001b[1;32m    130\u001b[0m     \u001b[0;32mdef\u001b[0m \u001b[0m__call__\u001b[0m\u001b[0;34m(\u001b[0m\u001b[0mself\u001b[0m\u001b[0;34m)\u001b[0m\u001b[0;34m:\u001b[0m\u001b[0;34m\u001b[0m\u001b[0m\n\u001b[0;32m--> 131\u001b[0;31m         \u001b[0;32mreturn\u001b[0m \u001b[0;34m[\u001b[0m\u001b[0mfunc\u001b[0m\u001b[0;34m(\u001b[0m\u001b[0;34m*\u001b[0m\u001b[0margs\u001b[0m\u001b[0;34m,\u001b[0m \u001b[0;34m**\u001b[0m\u001b[0mkwargs\u001b[0m\u001b[0;34m)\u001b[0m \u001b[0;32mfor\u001b[0m \u001b[0mfunc\u001b[0m\u001b[0;34m,\u001b[0m \u001b[0margs\u001b[0m\u001b[0;34m,\u001b[0m \u001b[0mkwargs\u001b[0m \u001b[0;32min\u001b[0m \u001b[0mself\u001b[0m\u001b[0;34m.\u001b[0m\u001b[0mitems\u001b[0m\u001b[0;34m]\u001b[0m\u001b[0;34m\u001b[0m\u001b[0m\n\u001b[0m\u001b[1;32m    132\u001b[0m \u001b[0;34m\u001b[0m\u001b[0m\n\u001b[1;32m    133\u001b[0m     \u001b[0;32mdef\u001b[0m \u001b[0m__len__\u001b[0m\u001b[0;34m(\u001b[0m\u001b[0mself\u001b[0m\u001b[0;34m)\u001b[0m\u001b[0;34m:\u001b[0m\u001b[0;34m\u001b[0m\u001b[0m\n",
      "\u001b[0;32m~/anaconda3/lib/python3.6/site-packages/sklearn/externals/joblib/parallel.py\u001b[0m in \u001b[0;36m<listcomp>\u001b[0;34m(.0)\u001b[0m\n\u001b[1;32m    129\u001b[0m \u001b[0;34m\u001b[0m\u001b[0m\n\u001b[1;32m    130\u001b[0m     \u001b[0;32mdef\u001b[0m \u001b[0m__call__\u001b[0m\u001b[0;34m(\u001b[0m\u001b[0mself\u001b[0m\u001b[0;34m)\u001b[0m\u001b[0;34m:\u001b[0m\u001b[0;34m\u001b[0m\u001b[0m\n\u001b[0;32m--> 131\u001b[0;31m         \u001b[0;32mreturn\u001b[0m \u001b[0;34m[\u001b[0m\u001b[0mfunc\u001b[0m\u001b[0;34m(\u001b[0m\u001b[0;34m*\u001b[0m\u001b[0margs\u001b[0m\u001b[0;34m,\u001b[0m \u001b[0;34m**\u001b[0m\u001b[0mkwargs\u001b[0m\u001b[0;34m)\u001b[0m \u001b[0;32mfor\u001b[0m \u001b[0mfunc\u001b[0m\u001b[0;34m,\u001b[0m \u001b[0margs\u001b[0m\u001b[0;34m,\u001b[0m \u001b[0mkwargs\u001b[0m \u001b[0;32min\u001b[0m \u001b[0mself\u001b[0m\u001b[0;34m.\u001b[0m\u001b[0mitems\u001b[0m\u001b[0;34m]\u001b[0m\u001b[0;34m\u001b[0m\u001b[0m\n\u001b[0m\u001b[1;32m    132\u001b[0m \u001b[0;34m\u001b[0m\u001b[0m\n\u001b[1;32m    133\u001b[0m     \u001b[0;32mdef\u001b[0m \u001b[0m__len__\u001b[0m\u001b[0;34m(\u001b[0m\u001b[0mself\u001b[0m\u001b[0;34m)\u001b[0m\u001b[0;34m:\u001b[0m\u001b[0;34m\u001b[0m\u001b[0m\n",
      "\u001b[0;32m~/anaconda3/lib/python3.6/site-packages/sklearn/model_selection/_validation.py\u001b[0m in \u001b[0;36m_fit_and_score\u001b[0;34m(estimator, X, y, scorer, train, test, verbose, parameters, fit_params, return_train_score, return_parameters, return_n_test_samples, return_times, error_score)\u001b[0m\n\u001b[1;32m    469\u001b[0m         \u001b[0;32mif\u001b[0m \u001b[0mreturn_train_score\u001b[0m\u001b[0;34m:\u001b[0m\u001b[0;34m\u001b[0m\u001b[0m\n\u001b[1;32m    470\u001b[0m             train_scores = _score(estimator, X_train, y_train, scorer,\n\u001b[0;32m--> 471\u001b[0;31m                                   is_multimetric)\n\u001b[0m\u001b[1;32m    472\u001b[0m \u001b[0;34m\u001b[0m\u001b[0m\n\u001b[1;32m    473\u001b[0m     \u001b[0;32mif\u001b[0m \u001b[0mverbose\u001b[0m \u001b[0;34m>\u001b[0m \u001b[0;36m2\u001b[0m\u001b[0;34m:\u001b[0m\u001b[0;34m\u001b[0m\u001b[0m\n",
      "\u001b[0;32m~/anaconda3/lib/python3.6/site-packages/sklearn/model_selection/_validation.py\u001b[0m in \u001b[0;36m_score\u001b[0;34m(estimator, X_test, y_test, scorer, is_multimetric)\u001b[0m\n\u001b[1;32m    500\u001b[0m     \"\"\"\n\u001b[1;32m    501\u001b[0m     \u001b[0;32mif\u001b[0m \u001b[0mis_multimetric\u001b[0m\u001b[0;34m:\u001b[0m\u001b[0;34m\u001b[0m\u001b[0m\n\u001b[0;32m--> 502\u001b[0;31m         \u001b[0;32mreturn\u001b[0m \u001b[0m_multimetric_score\u001b[0m\u001b[0;34m(\u001b[0m\u001b[0mestimator\u001b[0m\u001b[0;34m,\u001b[0m \u001b[0mX_test\u001b[0m\u001b[0;34m,\u001b[0m \u001b[0my_test\u001b[0m\u001b[0;34m,\u001b[0m \u001b[0mscorer\u001b[0m\u001b[0;34m)\u001b[0m\u001b[0;34m\u001b[0m\u001b[0m\n\u001b[0m\u001b[1;32m    503\u001b[0m     \u001b[0;32melse\u001b[0m\u001b[0;34m:\u001b[0m\u001b[0;34m\u001b[0m\u001b[0m\n\u001b[1;32m    504\u001b[0m         \u001b[0;32mif\u001b[0m \u001b[0my_test\u001b[0m \u001b[0;32mis\u001b[0m \u001b[0;32mNone\u001b[0m\u001b[0;34m:\u001b[0m\u001b[0;34m\u001b[0m\u001b[0m\n",
      "\u001b[0;32m~/anaconda3/lib/python3.6/site-packages/sklearn/model_selection/_validation.py\u001b[0m in \u001b[0;36m_multimetric_score\u001b[0;34m(estimator, X_test, y_test, scorers)\u001b[0m\n\u001b[1;32m    530\u001b[0m             \u001b[0mscore\u001b[0m \u001b[0;34m=\u001b[0m \u001b[0mscorer\u001b[0m\u001b[0;34m(\u001b[0m\u001b[0mestimator\u001b[0m\u001b[0;34m,\u001b[0m \u001b[0mX_test\u001b[0m\u001b[0;34m)\u001b[0m\u001b[0;34m\u001b[0m\u001b[0m\n\u001b[1;32m    531\u001b[0m         \u001b[0;32melse\u001b[0m\u001b[0;34m:\u001b[0m\u001b[0;34m\u001b[0m\u001b[0m\n\u001b[0;32m--> 532\u001b[0;31m             \u001b[0mscore\u001b[0m \u001b[0;34m=\u001b[0m \u001b[0mscorer\u001b[0m\u001b[0;34m(\u001b[0m\u001b[0mestimator\u001b[0m\u001b[0;34m,\u001b[0m \u001b[0mX_test\u001b[0m\u001b[0;34m,\u001b[0m \u001b[0my_test\u001b[0m\u001b[0;34m)\u001b[0m\u001b[0;34m\u001b[0m\u001b[0m\n\u001b[0m\u001b[1;32m    533\u001b[0m \u001b[0;34m\u001b[0m\u001b[0m\n\u001b[1;32m    534\u001b[0m         \u001b[0;32mif\u001b[0m \u001b[0mhasattr\u001b[0m\u001b[0;34m(\u001b[0m\u001b[0mscore\u001b[0m\u001b[0;34m,\u001b[0m \u001b[0;34m'item'\u001b[0m\u001b[0;34m)\u001b[0m\u001b[0;34m:\u001b[0m\u001b[0;34m\u001b[0m\u001b[0m\n",
      "\u001b[0;32m~/anaconda3/lib/python3.6/site-packages/sklearn/metrics/scorer.py\u001b[0m in \u001b[0;36m_passthrough_scorer\u001b[0;34m(estimator, *args, **kwargs)\u001b[0m\n\u001b[1;32m    242\u001b[0m \u001b[0;32mdef\u001b[0m \u001b[0m_passthrough_scorer\u001b[0m\u001b[0;34m(\u001b[0m\u001b[0mestimator\u001b[0m\u001b[0;34m,\u001b[0m \u001b[0;34m*\u001b[0m\u001b[0margs\u001b[0m\u001b[0;34m,\u001b[0m \u001b[0;34m**\u001b[0m\u001b[0mkwargs\u001b[0m\u001b[0;34m)\u001b[0m\u001b[0;34m:\u001b[0m\u001b[0;34m\u001b[0m\u001b[0m\n\u001b[1;32m    243\u001b[0m     \u001b[0;34m\"\"\"Function that wraps estimator.score\"\"\"\u001b[0m\u001b[0;34m\u001b[0m\u001b[0m\n\u001b[0;32m--> 244\u001b[0;31m     \u001b[0;32mreturn\u001b[0m \u001b[0mestimator\u001b[0m\u001b[0;34m.\u001b[0m\u001b[0mscore\u001b[0m\u001b[0;34m(\u001b[0m\u001b[0;34m*\u001b[0m\u001b[0margs\u001b[0m\u001b[0;34m,\u001b[0m \u001b[0;34m**\u001b[0m\u001b[0mkwargs\u001b[0m\u001b[0;34m)\u001b[0m\u001b[0;34m\u001b[0m\u001b[0m\n\u001b[0m\u001b[1;32m    245\u001b[0m \u001b[0;34m\u001b[0m\u001b[0m\n\u001b[1;32m    246\u001b[0m \u001b[0;34m\u001b[0m\u001b[0m\n",
      "\u001b[0;32m~/anaconda3/lib/python3.6/site-packages/sklearn/base.py\u001b[0m in \u001b[0;36mscore\u001b[0;34m(self, X, y, sample_weight)\u001b[0m\n\u001b[1;32m    348\u001b[0m         \"\"\"\n\u001b[1;32m    349\u001b[0m         \u001b[0;32mfrom\u001b[0m \u001b[0;34m.\u001b[0m\u001b[0mmetrics\u001b[0m \u001b[0;32mimport\u001b[0m \u001b[0maccuracy_score\u001b[0m\u001b[0;34m\u001b[0m\u001b[0m\n\u001b[0;32m--> 350\u001b[0;31m         \u001b[0;32mreturn\u001b[0m \u001b[0maccuracy_score\u001b[0m\u001b[0;34m(\u001b[0m\u001b[0my\u001b[0m\u001b[0;34m,\u001b[0m \u001b[0mself\u001b[0m\u001b[0;34m.\u001b[0m\u001b[0mpredict\u001b[0m\u001b[0;34m(\u001b[0m\u001b[0mX\u001b[0m\u001b[0;34m)\u001b[0m\u001b[0;34m,\u001b[0m \u001b[0msample_weight\u001b[0m\u001b[0;34m=\u001b[0m\u001b[0msample_weight\u001b[0m\u001b[0;34m)\u001b[0m\u001b[0;34m\u001b[0m\u001b[0m\n\u001b[0m\u001b[1;32m    351\u001b[0m \u001b[0;34m\u001b[0m\u001b[0m\n\u001b[1;32m    352\u001b[0m \u001b[0;34m\u001b[0m\u001b[0m\n",
      "\u001b[0;32m~/anaconda3/lib/python3.6/site-packages/sklearn/ensemble/forest.py\u001b[0m in \u001b[0;36mpredict\u001b[0;34m(self, X)\u001b[0m\n\u001b[1;32m    534\u001b[0m             \u001b[0mThe\u001b[0m \u001b[0mpredicted\u001b[0m \u001b[0mclasses\u001b[0m\u001b[0;34m.\u001b[0m\u001b[0;34m\u001b[0m\u001b[0m\n\u001b[1;32m    535\u001b[0m         \"\"\"\n\u001b[0;32m--> 536\u001b[0;31m         \u001b[0mproba\u001b[0m \u001b[0;34m=\u001b[0m \u001b[0mself\u001b[0m\u001b[0;34m.\u001b[0m\u001b[0mpredict_proba\u001b[0m\u001b[0;34m(\u001b[0m\u001b[0mX\u001b[0m\u001b[0;34m)\u001b[0m\u001b[0;34m\u001b[0m\u001b[0m\n\u001b[0m\u001b[1;32m    537\u001b[0m \u001b[0;34m\u001b[0m\u001b[0m\n\u001b[1;32m    538\u001b[0m         \u001b[0;32mif\u001b[0m \u001b[0mself\u001b[0m\u001b[0;34m.\u001b[0m\u001b[0mn_outputs_\u001b[0m \u001b[0;34m==\u001b[0m \u001b[0;36m1\u001b[0m\u001b[0;34m:\u001b[0m\u001b[0;34m\u001b[0m\u001b[0m\n",
      "\u001b[0;32m~/anaconda3/lib/python3.6/site-packages/sklearn/ensemble/forest.py\u001b[0m in \u001b[0;36mpredict_proba\u001b[0;34m(self, X)\u001b[0m\n\u001b[1;32m    574\u001b[0m         \u001b[0mcheck_is_fitted\u001b[0m\u001b[0;34m(\u001b[0m\u001b[0mself\u001b[0m\u001b[0;34m,\u001b[0m \u001b[0;34m'estimators_'\u001b[0m\u001b[0;34m)\u001b[0m\u001b[0;34m\u001b[0m\u001b[0m\n\u001b[1;32m    575\u001b[0m         \u001b[0;31m# Check data\u001b[0m\u001b[0;34m\u001b[0m\u001b[0;34m\u001b[0m\u001b[0m\n\u001b[0;32m--> 576\u001b[0;31m         \u001b[0mX\u001b[0m \u001b[0;34m=\u001b[0m \u001b[0mself\u001b[0m\u001b[0;34m.\u001b[0m\u001b[0m_validate_X_predict\u001b[0m\u001b[0;34m(\u001b[0m\u001b[0mX\u001b[0m\u001b[0;34m)\u001b[0m\u001b[0;34m\u001b[0m\u001b[0m\n\u001b[0m\u001b[1;32m    577\u001b[0m \u001b[0;34m\u001b[0m\u001b[0m\n\u001b[1;32m    578\u001b[0m         \u001b[0;31m# Assign chunk of trees to jobs\u001b[0m\u001b[0;34m\u001b[0m\u001b[0;34m\u001b[0m\u001b[0m\n",
      "\u001b[0;32m~/anaconda3/lib/python3.6/site-packages/sklearn/ensemble/forest.py\u001b[0m in \u001b[0;36m_validate_X_predict\u001b[0;34m(self, X)\u001b[0m\n\u001b[1;32m    354\u001b[0m                                  \"call `fit` before exploiting the model.\")\n\u001b[1;32m    355\u001b[0m \u001b[0;34m\u001b[0m\u001b[0m\n\u001b[0;32m--> 356\u001b[0;31m         \u001b[0;32mreturn\u001b[0m \u001b[0mself\u001b[0m\u001b[0;34m.\u001b[0m\u001b[0mestimators_\u001b[0m\u001b[0;34m[\u001b[0m\u001b[0;36m0\u001b[0m\u001b[0;34m]\u001b[0m\u001b[0;34m.\u001b[0m\u001b[0m_validate_X_predict\u001b[0m\u001b[0;34m(\u001b[0m\u001b[0mX\u001b[0m\u001b[0;34m,\u001b[0m \u001b[0mcheck_input\u001b[0m\u001b[0;34m=\u001b[0m\u001b[0;32mTrue\u001b[0m\u001b[0;34m)\u001b[0m\u001b[0;34m\u001b[0m\u001b[0m\n\u001b[0m\u001b[1;32m    357\u001b[0m \u001b[0;34m\u001b[0m\u001b[0m\n\u001b[1;32m    358\u001b[0m     \u001b[0;34m@\u001b[0m\u001b[0mproperty\u001b[0m\u001b[0;34m\u001b[0m\u001b[0m\n",
      "\u001b[0;32m~/anaconda3/lib/python3.6/site-packages/sklearn/tree/tree.py\u001b[0m in \u001b[0;36m_validate_X_predict\u001b[0;34m(self, X, check_input)\u001b[0m\n\u001b[1;32m    371\u001b[0m         \u001b[0;34m\"\"\"Validate X whenever one tries to predict, apply, predict_proba\"\"\"\u001b[0m\u001b[0;34m\u001b[0m\u001b[0m\n\u001b[1;32m    372\u001b[0m         \u001b[0;32mif\u001b[0m \u001b[0mcheck_input\u001b[0m\u001b[0;34m:\u001b[0m\u001b[0;34m\u001b[0m\u001b[0m\n\u001b[0;32m--> 373\u001b[0;31m             \u001b[0mX\u001b[0m \u001b[0;34m=\u001b[0m \u001b[0mcheck_array\u001b[0m\u001b[0;34m(\u001b[0m\u001b[0mX\u001b[0m\u001b[0;34m,\u001b[0m \u001b[0mdtype\u001b[0m\u001b[0;34m=\u001b[0m\u001b[0mDTYPE\u001b[0m\u001b[0;34m,\u001b[0m \u001b[0maccept_sparse\u001b[0m\u001b[0;34m=\u001b[0m\u001b[0;34m\"csr\"\u001b[0m\u001b[0;34m)\u001b[0m\u001b[0;34m\u001b[0m\u001b[0m\n\u001b[0m\u001b[1;32m    374\u001b[0m             if issparse(X) and (X.indices.dtype != np.intc or\n\u001b[1;32m    375\u001b[0m                                 X.indptr.dtype != np.intc):\n",
      "\u001b[0;32m~/anaconda3/lib/python3.6/site-packages/sklearn/utils/validation.py\u001b[0m in \u001b[0;36mcheck_array\u001b[0;34m(array, accept_sparse, dtype, order, copy, force_all_finite, ensure_2d, allow_nd, ensure_min_samples, ensure_min_features, warn_on_dtype, estimator)\u001b[0m\n\u001b[1;32m    400\u001b[0m                                       force_all_finite)\n\u001b[1;32m    401\u001b[0m     \u001b[0;32melse\u001b[0m\u001b[0;34m:\u001b[0m\u001b[0;34m\u001b[0m\u001b[0m\n\u001b[0;32m--> 402\u001b[0;31m         \u001b[0marray\u001b[0m \u001b[0;34m=\u001b[0m \u001b[0mnp\u001b[0m\u001b[0;34m.\u001b[0m\u001b[0marray\u001b[0m\u001b[0;34m(\u001b[0m\u001b[0marray\u001b[0m\u001b[0;34m,\u001b[0m \u001b[0mdtype\u001b[0m\u001b[0;34m=\u001b[0m\u001b[0mdtype\u001b[0m\u001b[0;34m,\u001b[0m \u001b[0morder\u001b[0m\u001b[0;34m=\u001b[0m\u001b[0morder\u001b[0m\u001b[0;34m,\u001b[0m \u001b[0mcopy\u001b[0m\u001b[0;34m=\u001b[0m\u001b[0mcopy\u001b[0m\u001b[0;34m)\u001b[0m\u001b[0;34m\u001b[0m\u001b[0m\n\u001b[0m\u001b[1;32m    403\u001b[0m \u001b[0;34m\u001b[0m\u001b[0m\n\u001b[1;32m    404\u001b[0m         \u001b[0;32mif\u001b[0m \u001b[0mensure_2d\u001b[0m\u001b[0;34m:\u001b[0m\u001b[0;34m\u001b[0m\u001b[0m\n",
      "\u001b[0;31mKeyboardInterrupt\u001b[0m: "
     ]
    }
   ],
   "source": [
    "from sklearn.ensemble import RandomForestClassifier\n",
    "param_grid ={'n_estimators':np.arange(1,52,3),\n",
    "             'max_leaf_nodes':np.arange(2,30,3),\n",
    "            'min_samples_leaf':np.arange(1,10,2),\n",
    "            'min_samples_split':np.arange(2,20,2),\n",
    "            'max_depth':[None, 2, 5, 10, 20]} #choose a grid of parameters\n",
    "\n",
    "rf = RandomForestClassifier(n_jobs=-1)#don't specifcy n_est in the intialization\n",
    "gr=GridSearchCV(rf,param_grid=param_grid, cv=10)#pass in predictor, and gridded parameters\n",
    "rs=gr.fit(X_train,y_train)#run predictor with each parameter using training data\n",
    "#pred=rs.predict_proba(X_test)[:,1]\n",
    "#print (roc_auc_score(np.array(y_test), pred))\n",
    "print (rs.best_params_) #will output the best parameter\n",
    "print (rs.best_score_) #will output the best parameter"
   ]
  },
  {
   "cell_type": "markdown",
   "metadata": {},
   "source": [
    "***4) Feature Importance  ***"
   ]
  },
  {
   "cell_type": "markdown",
   "metadata": {},
   "source": [
    "***5) Next: Visualize a decision tree  ***"
   ]
  },
  {
   "cell_type": "code",
   "execution_count": null,
   "metadata": {
    "collapsed": true
   },
   "outputs": [],
   "source": []
  }
 ],
 "metadata": {
  "kernelspec": {
   "display_name": "Python 3",
   "language": "python",
   "name": "python3"
  },
  "language_info": {
   "codemirror_mode": {
    "name": "ipython",
    "version": 3
   },
   "file_extension": ".py",
   "mimetype": "text/x-python",
   "name": "python",
   "nbconvert_exporter": "python",
   "pygments_lexer": "ipython3",
   "version": "3.6.2"
  }
 },
 "nbformat": 4,
 "nbformat_minor": 2
}
