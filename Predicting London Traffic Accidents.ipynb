{
 "cells": [
  {
   "cell_type": "code",
   "execution_count": 161,
   "metadata": {},
   "outputs": [
    {
     "name": "stdout",
     "output_type": "stream",
     "text": [
      "Populating the interactive namespace from numpy and matplotlib\n"
     ]
    }
   ],
   "source": [
    "import csv\n",
    "import matplotlib.pyplot as plt\n",
    "import numpy as np\n",
    "import pandas as pd\n",
    "import seaborn as sns\n",
    "from sklearn.decomposition import PCA\n",
    "from sklearn.preprocessing import scale\n",
    "from sklearn import preprocessing\n",
    "from sklearn import cluster\n",
    "from sklearn.cluster import birch\n",
    "\n",
    "from sklearn.model_selection import train_test_split\n",
    "from sklearn.tree import DecisionTreeClassifier\n",
    "from sklearn.tree import DecisionTreeRegressor\n",
    "from sklearn.ensemble import AdaBoostClassifier\n",
    "from sklearn.ensemble import AdaBoostRegressor\n",
    "from sklearn.ensemble import GradientBoostingClassifier\n",
    "from sklearn.ensemble import GradientBoostingRegressor\n",
    "from sklearn.ensemble import RandomForestClassifier\n",
    "from sklearn.ensemble import RandomForestRegressor\n",
    "import sklearn.metrics as sm\n",
    "\n",
    "\n",
    "% pylab inline"
   ]
  },
  {
   "cell_type": "code",
   "execution_count": 162,
   "metadata": {},
   "outputs": [],
   "source": [
    "count_pca_kmeans_outfname = './Data/Analysis/count_pca_kmeans.csv'\n",
    "dens_pca_kmeans_outfname = './Data/Analysis/dens_pca_kmeans.csv'\n",
    "\n",
    "count_pca_brch_outfname = './Data/Analysis/count_pca_brch.csv'\n",
    "dens_pca_brch_outfname = './Data/Analysis/dens_pca_brch.csv'\n",
    "\n",
    "count_pca_hier_outfname = './Data/Analysis/count_pca_hier.csv'\n",
    "dens_pca_hier_outfname = './Data/Analysis/dens_pca_hier.csv'"
   ]
  },
  {
   "cell_type": "code",
   "execution_count": 163,
   "metadata": {},
   "outputs": [
    {
     "data": {
      "text/html": [
       "<div>\n",
       "<style scoped>\n",
       "    .dataframe tbody tr th:only-of-type {\n",
       "        vertical-align: middle;\n",
       "    }\n",
       "\n",
       "    .dataframe tbody tr th {\n",
       "        vertical-align: top;\n",
       "    }\n",
       "\n",
       "    .dataframe thead th {\n",
       "        text-align: right;\n",
       "    }\n",
       "</style>\n",
       "<table border=\"1\" class=\"dataframe\">\n",
       "  <thead>\n",
       "    <tr style=\"text-align: right;\">\n",
       "      <th></th>\n",
       "      <th>NAME</th>\n",
       "      <th>GSS_CODE</th>\n",
       "      <th>HECTARES</th>\n",
       "      <th>NONLD_AREA</th>\n",
       "      <th>LB_GSS_CD</th>\n",
       "      <th>BOROUGH</th>\n",
       "      <th>POLY_ID</th>\n",
       "      <th>road_lengt</th>\n",
       "      <th>road_count</th>\n",
       "      <th>len_dens</th>\n",
       "      <th>...</th>\n",
       "      <th>sumjunc_co</th>\n",
       "      <th>buff_dens</th>\n",
       "      <th>transit_am</th>\n",
       "      <th>trans_dens</th>\n",
       "      <th>tree_cnt</th>\n",
       "      <th>tree_dens</th>\n",
       "      <th>bkjnc_amt</th>\n",
       "      <th>bkjnc_dens</th>\n",
       "      <th>acc_amt</th>\n",
       "      <th>acc_dens</th>\n",
       "    </tr>\n",
       "  </thead>\n",
       "  <tbody>\n",
       "    <tr>\n",
       "      <th>0</th>\n",
       "      <td>Chessington South</td>\n",
       "      <td>E05000405</td>\n",
       "      <td>755.173</td>\n",
       "      <td>0.0</td>\n",
       "      <td>E09000021</td>\n",
       "      <td>Kingston upon Thames</td>\n",
       "      <td>50840</td>\n",
       "      <td>38484.490745</td>\n",
       "      <td>463.0</td>\n",
       "      <td>50.9612</td>\n",
       "      <td>...</td>\n",
       "      <td>674.0</td>\n",
       "      <td>0.8925</td>\n",
       "      <td>47</td>\n",
       "      <td>0.0622</td>\n",
       "      <td>91</td>\n",
       "      <td>0.1205</td>\n",
       "      <td>18</td>\n",
       "      <td>0.0238</td>\n",
       "      <td>23</td>\n",
       "      <td>0.0305</td>\n",
       "    </tr>\n",
       "    <tr>\n",
       "      <th>1</th>\n",
       "      <td>Tolworth and Hook Rise</td>\n",
       "      <td>E05000414</td>\n",
       "      <td>259.464</td>\n",
       "      <td>0.0</td>\n",
       "      <td>E09000021</td>\n",
       "      <td>Kingston upon Thames</td>\n",
       "      <td>117160</td>\n",
       "      <td>31196.917857</td>\n",
       "      <td>331.0</td>\n",
       "      <td>120.2360</td>\n",
       "      <td>...</td>\n",
       "      <td>597.0</td>\n",
       "      <td>2.3009</td>\n",
       "      <td>21</td>\n",
       "      <td>0.0809</td>\n",
       "      <td>53</td>\n",
       "      <td>0.2043</td>\n",
       "      <td>20</td>\n",
       "      <td>0.0771</td>\n",
       "      <td>21</td>\n",
       "      <td>0.0809</td>\n",
       "    </tr>\n",
       "    <tr>\n",
       "      <th>2</th>\n",
       "      <td>Berrylands</td>\n",
       "      <td>E05000401</td>\n",
       "      <td>145.390</td>\n",
       "      <td>0.0</td>\n",
       "      <td>E09000021</td>\n",
       "      <td>Kingston upon Thames</td>\n",
       "      <td>50449</td>\n",
       "      <td>19631.396026</td>\n",
       "      <td>208.0</td>\n",
       "      <td>135.0258</td>\n",
       "      <td>...</td>\n",
       "      <td>262.0</td>\n",
       "      <td>1.8020</td>\n",
       "      <td>24</td>\n",
       "      <td>0.1651</td>\n",
       "      <td>0</td>\n",
       "      <td>0.0000</td>\n",
       "      <td>5</td>\n",
       "      <td>0.0344</td>\n",
       "      <td>9</td>\n",
       "      <td>0.0619</td>\n",
       "    </tr>\n",
       "    <tr>\n",
       "      <th>3</th>\n",
       "      <td>Alexandra</td>\n",
       "      <td>E05000400</td>\n",
       "      <td>268.506</td>\n",
       "      <td>0.0</td>\n",
       "      <td>E09000021</td>\n",
       "      <td>Kingston upon Thames</td>\n",
       "      <td>50456</td>\n",
       "      <td>29485.084687</td>\n",
       "      <td>300.0</td>\n",
       "      <td>109.8116</td>\n",
       "      <td>...</td>\n",
       "      <td>462.0</td>\n",
       "      <td>1.7206</td>\n",
       "      <td>38</td>\n",
       "      <td>0.1415</td>\n",
       "      <td>74</td>\n",
       "      <td>0.2756</td>\n",
       "      <td>18</td>\n",
       "      <td>0.0670</td>\n",
       "      <td>9</td>\n",
       "      <td>0.0335</td>\n",
       "    </tr>\n",
       "    <tr>\n",
       "      <th>4</th>\n",
       "      <td>Beverley</td>\n",
       "      <td>E05000402</td>\n",
       "      <td>187.821</td>\n",
       "      <td>0.0</td>\n",
       "      <td>E09000021</td>\n",
       "      <td>Kingston upon Thames</td>\n",
       "      <td>117161</td>\n",
       "      <td>20609.220105</td>\n",
       "      <td>226.0</td>\n",
       "      <td>109.7280</td>\n",
       "      <td>...</td>\n",
       "      <td>293.0</td>\n",
       "      <td>1.5600</td>\n",
       "      <td>28</td>\n",
       "      <td>0.1491</td>\n",
       "      <td>0</td>\n",
       "      <td>0.0000</td>\n",
       "      <td>12</td>\n",
       "      <td>0.0639</td>\n",
       "      <td>14</td>\n",
       "      <td>0.0745</td>\n",
       "    </tr>\n",
       "  </tbody>\n",
       "</table>\n",
       "<p>5 rows × 25 columns</p>\n",
       "</div>"
      ],
      "text/plain": [
       "                     NAME   GSS_CODE  HECTARES  NONLD_AREA  LB_GSS_CD  \\\n",
       "0       Chessington South  E05000405   755.173         0.0  E09000021   \n",
       "1  Tolworth and Hook Rise  E05000414   259.464         0.0  E09000021   \n",
       "2              Berrylands  E05000401   145.390         0.0  E09000021   \n",
       "3               Alexandra  E05000400   268.506         0.0  E09000021   \n",
       "4                Beverley  E05000402   187.821         0.0  E09000021   \n",
       "\n",
       "                BOROUGH  POLY_ID    road_lengt  road_count  len_dens  \\\n",
       "0  Kingston upon Thames    50840  38484.490745       463.0   50.9612   \n",
       "1  Kingston upon Thames   117160  31196.917857       331.0  120.2360   \n",
       "2  Kingston upon Thames    50449  19631.396026       208.0  135.0258   \n",
       "3  Kingston upon Thames    50456  29485.084687       300.0  109.8116   \n",
       "4  Kingston upon Thames   117161  20609.220105       226.0  109.7280   \n",
       "\n",
       "     ...     sumjunc_co  buff_dens  transit_am  trans_dens  tree_cnt  \\\n",
       "0    ...          674.0     0.8925          47      0.0622        91   \n",
       "1    ...          597.0     2.3009          21      0.0809        53   \n",
       "2    ...          262.0     1.8020          24      0.1651         0   \n",
       "3    ...          462.0     1.7206          38      0.1415        74   \n",
       "4    ...          293.0     1.5600          28      0.1491         0   \n",
       "\n",
       "   tree_dens  bkjnc_amt  bkjnc_dens  acc_amt  acc_dens  \n",
       "0     0.1205         18      0.0238       23    0.0305  \n",
       "1     0.2043         20      0.0771       21    0.0809  \n",
       "2     0.0000          5      0.0344        9    0.0619  \n",
       "3     0.2756         18      0.0670        9    0.0335  \n",
       "4     0.0000         12      0.0639       14    0.0745  \n",
       "\n",
       "[5 rows x 25 columns]"
      ]
     },
     "execution_count": 163,
     "metadata": {},
     "output_type": "execute_result"
    }
   ],
   "source": [
    "lhr_fname = './Data/Analysis/London_Road_Accident_Features.csv'\n",
    "\n",
    "lhr_df = pd.read_csv(lhr_fname)\n",
    "lhr_df.head()"
   ]
  },
  {
   "cell_type": "code",
   "execution_count": 164,
   "metadata": {},
   "outputs": [
    {
     "data": {
      "text/plain": [
       "Index([u'NAME', u'GSS_CODE', u'HECTARES', u'NONLD_AREA', u'LB_GSS_CD',\n",
       "       u'BOROUGH', u'POLY_ID', u'road_lengt', u'road_count', u'len_dens',\n",
       "       u'road_dens', u'traffic_am', u'traf_dens', u'junc_amt', u'junc_dens',\n",
       "       u'sumjunc_co', u'buff_dens', u'transit_am', u'trans_dens', u'tree_cnt',\n",
       "       u'tree_dens', u'bkjnc_amt', u'bkjnc_dens', u'acc_amt', u'acc_dens'],\n",
       "      dtype='object')"
      ]
     },
     "execution_count": 164,
     "metadata": {},
     "output_type": "execute_result"
    }
   ],
   "source": [
    "lhr_df.columns"
   ]
  },
  {
   "cell_type": "code",
   "execution_count": 165,
   "metadata": {},
   "outputs": [],
   "source": [
    "# setting the Wards and GSS Codes aside for later incorporation in to the \n",
    "Ward = lhr_df.iloc[:,0].as_matrix()\n",
    "GSS = lhr_df.iloc[:,1].as_matrix()"
   ]
  },
  {
   "cell_type": "markdown",
   "metadata": {},
   "source": [
    "## Clustering analysis for the counts"
   ]
  },
  {
   "cell_type": "code",
   "execution_count": 166,
   "metadata": {},
   "outputs": [
    {
     "data": {
      "text/html": [
       "<div>\n",
       "<style scoped>\n",
       "    .dataframe tbody tr th:only-of-type {\n",
       "        vertical-align: middle;\n",
       "    }\n",
       "\n",
       "    .dataframe tbody tr th {\n",
       "        vertical-align: top;\n",
       "    }\n",
       "\n",
       "    .dataframe thead th {\n",
       "        text-align: right;\n",
       "    }\n",
       "</style>\n",
       "<table border=\"1\" class=\"dataframe\">\n",
       "  <thead>\n",
       "    <tr style=\"text-align: right;\">\n",
       "      <th></th>\n",
       "      <th>NAME</th>\n",
       "      <th>GSS_CODE</th>\n",
       "      <th>HECTARES</th>\n",
       "      <th>BOROUGH</th>\n",
       "      <th>road_lengt</th>\n",
       "      <th>road_count</th>\n",
       "      <th>traffic_am</th>\n",
       "      <th>junc_amt</th>\n",
       "      <th>sumjunc_co</th>\n",
       "      <th>transit_am</th>\n",
       "      <th>tree_cnt</th>\n",
       "      <th>bkjnc_amt</th>\n",
       "      <th>acc_amt</th>\n",
       "    </tr>\n",
       "  </thead>\n",
       "  <tbody>\n",
       "    <tr>\n",
       "      <th>0</th>\n",
       "      <td>Chessington South</td>\n",
       "      <td>E05000405</td>\n",
       "      <td>755.173</td>\n",
       "      <td>Kingston upon Thames</td>\n",
       "      <td>38484.490745</td>\n",
       "      <td>463.0</td>\n",
       "      <td>43068</td>\n",
       "      <td>245</td>\n",
       "      <td>674.0</td>\n",
       "      <td>47</td>\n",
       "      <td>91</td>\n",
       "      <td>18</td>\n",
       "      <td>23</td>\n",
       "    </tr>\n",
       "    <tr>\n",
       "      <th>1</th>\n",
       "      <td>Tolworth and Hook Rise</td>\n",
       "      <td>E05000414</td>\n",
       "      <td>259.464</td>\n",
       "      <td>Kingston upon Thames</td>\n",
       "      <td>31196.917857</td>\n",
       "      <td>331.0</td>\n",
       "      <td>225717</td>\n",
       "      <td>170</td>\n",
       "      <td>597.0</td>\n",
       "      <td>21</td>\n",
       "      <td>53</td>\n",
       "      <td>20</td>\n",
       "      <td>21</td>\n",
       "    </tr>\n",
       "    <tr>\n",
       "      <th>2</th>\n",
       "      <td>Berrylands</td>\n",
       "      <td>E05000401</td>\n",
       "      <td>145.390</td>\n",
       "      <td>Kingston upon Thames</td>\n",
       "      <td>19631.396026</td>\n",
       "      <td>208.0</td>\n",
       "      <td>1618</td>\n",
       "      <td>106</td>\n",
       "      <td>262.0</td>\n",
       "      <td>24</td>\n",
       "      <td>0</td>\n",
       "      <td>5</td>\n",
       "      <td>9</td>\n",
       "    </tr>\n",
       "    <tr>\n",
       "      <th>3</th>\n",
       "      <td>Alexandra</td>\n",
       "      <td>E05000400</td>\n",
       "      <td>268.506</td>\n",
       "      <td>Kingston upon Thames</td>\n",
       "      <td>29485.084687</td>\n",
       "      <td>300.0</td>\n",
       "      <td>177625</td>\n",
       "      <td>165</td>\n",
       "      <td>462.0</td>\n",
       "      <td>38</td>\n",
       "      <td>74</td>\n",
       "      <td>18</td>\n",
       "      <td>9</td>\n",
       "    </tr>\n",
       "    <tr>\n",
       "      <th>4</th>\n",
       "      <td>Beverley</td>\n",
       "      <td>E05000402</td>\n",
       "      <td>187.821</td>\n",
       "      <td>Kingston upon Thames</td>\n",
       "      <td>20609.220105</td>\n",
       "      <td>226.0</td>\n",
       "      <td>0</td>\n",
       "      <td>108</td>\n",
       "      <td>293.0</td>\n",
       "      <td>28</td>\n",
       "      <td>0</td>\n",
       "      <td>12</td>\n",
       "      <td>14</td>\n",
       "    </tr>\n",
       "  </tbody>\n",
       "</table>\n",
       "</div>"
      ],
      "text/plain": [
       "                     NAME   GSS_CODE  HECTARES               BOROUGH  \\\n",
       "0       Chessington South  E05000405   755.173  Kingston upon Thames   \n",
       "1  Tolworth and Hook Rise  E05000414   259.464  Kingston upon Thames   \n",
       "2              Berrylands  E05000401   145.390  Kingston upon Thames   \n",
       "3               Alexandra  E05000400   268.506  Kingston upon Thames   \n",
       "4                Beverley  E05000402   187.821  Kingston upon Thames   \n",
       "\n",
       "     road_lengt  road_count  traffic_am  junc_amt  sumjunc_co  transit_am  \\\n",
       "0  38484.490745       463.0       43068       245       674.0          47   \n",
       "1  31196.917857       331.0      225717       170       597.0          21   \n",
       "2  19631.396026       208.0        1618       106       262.0          24   \n",
       "3  29485.084687       300.0      177625       165       462.0          38   \n",
       "4  20609.220105       226.0           0       108       293.0          28   \n",
       "\n",
       "   tree_cnt  bkjnc_amt  acc_amt  \n",
       "0        91         18       23  \n",
       "1        53         20       21  \n",
       "2         0          5        9  \n",
       "3        74         18        9  \n",
       "4         0         12       14  "
      ]
     },
     "execution_count": 166,
     "metadata": {},
     "output_type": "execute_result"
    }
   ],
   "source": [
    "lhr_count_df = lhr_df[['NAME', 'GSS_CODE', 'HECTARES', 'BOROUGH', 'road_lengt', 'road_count','traffic_am', \n",
    "                       'junc_amt', 'sumjunc_co', 'transit_am', 'tree_cnt', 'bkjnc_amt', 'acc_amt']]\n",
    "lhr_count_df.head()"
   ]
  },
  {
   "cell_type": "code",
   "execution_count": 167,
   "metadata": {},
   "outputs": [
    {
     "data": {
      "text/plain": [
       "Index([u'NAME', u'GSS_CODE', u'HECTARES', u'BOROUGH', u'road_lengt',\n",
       "       u'road_count', u'traffic_am', u'junc_amt', u'sumjunc_co', u'transit_am',\n",
       "       u'tree_cnt', u'bkjnc_amt', u'acc_amt'],\n",
       "      dtype='object')"
      ]
     },
     "execution_count": 167,
     "metadata": {},
     "output_type": "execute_result"
    }
   ],
   "source": [
    "lhr_count_df.columns"
   ]
  },
  {
   "cell_type": "code",
   "execution_count": 168,
   "metadata": {},
   "outputs": [
    {
     "data": {
      "text/plain": [
       "NAME           object\n",
       "GSS_CODE       object\n",
       "HECTARES      float64\n",
       "BOROUGH        object\n",
       "road_lengt    float64\n",
       "road_count    float64\n",
       "traffic_am      int64\n",
       "junc_amt        int64\n",
       "sumjunc_co    float64\n",
       "transit_am      int64\n",
       "tree_cnt        int64\n",
       "bkjnc_amt       int64\n",
       "acc_amt         int64\n",
       "dtype: object"
      ]
     },
     "execution_count": 168,
     "metadata": {},
     "output_type": "execute_result"
    }
   ],
   "source": [
    "lhr_count_df.dtypes"
   ]
  },
  {
   "cell_type": "code",
   "execution_count": 169,
   "metadata": {},
   "outputs": [
    {
     "name": "stderr",
     "output_type": "stream",
     "text": [
      "/Users/tylerrwoh/anaconda2/lib/python2.7/site-packages/ipykernel_launcher.py:3: SettingWithCopyWarning: \n",
      "A value is trying to be set on a copy of a slice from a DataFrame.\n",
      "Try using .loc[row_indexer,col_indexer] = value instead\n",
      "\n",
      "See the caveats in the documentation: http://pandas.pydata.org/pandas-docs/stable/indexing.html#indexing-view-versus-copy\n",
      "  This is separate from the ipykernel package so we can avoid doing imports until\n",
      "/Users/tylerrwoh/anaconda2/lib/python2.7/site-packages/ipykernel_launcher.py:4: SettingWithCopyWarning: \n",
      "A value is trying to be set on a copy of a slice from a DataFrame.\n",
      "Try using .loc[row_indexer,col_indexer] = value instead\n",
      "\n",
      "See the caveats in the documentation: http://pandas.pydata.org/pandas-docs/stable/indexing.html#indexing-view-versus-copy\n",
      "  after removing the cwd from sys.path.\n",
      "/Users/tylerrwoh/anaconda2/lib/python2.7/site-packages/ipykernel_launcher.py:5: SettingWithCopyWarning: \n",
      "A value is trying to be set on a copy of a slice from a DataFrame.\n",
      "Try using .loc[row_indexer,col_indexer] = value instead\n",
      "\n",
      "See the caveats in the documentation: http://pandas.pydata.org/pandas-docs/stable/indexing.html#indexing-view-versus-copy\n",
      "  \"\"\"\n"
     ]
    }
   ],
   "source": [
    "# converts string values to index values for use in the anlaysis\n",
    "label_encoder = preprocessing.LabelEncoder()\n",
    "lhr_count_df['NAME'] = label_encoder.fit_transform(lhr_count_df['NAME'])\n",
    "lhr_count_df['GSS_CODE'] = label_encoder.fit_transform(lhr_count_df['GSS_CODE'])\n",
    "lhr_count_df['BOROUGH'] = label_encoder.fit_transform(lhr_count_df['BOROUGH'])"
   ]
  },
  {
   "cell_type": "code",
   "execution_count": 170,
   "metadata": {},
   "outputs": [
    {
     "data": {
      "text/html": [
       "<div>\n",
       "<style scoped>\n",
       "    .dataframe tbody tr th:only-of-type {\n",
       "        vertical-align: middle;\n",
       "    }\n",
       "\n",
       "    .dataframe tbody tr th {\n",
       "        vertical-align: top;\n",
       "    }\n",
       "\n",
       "    .dataframe thead th {\n",
       "        text-align: right;\n",
       "    }\n",
       "</style>\n",
       "<table border=\"1\" class=\"dataframe\">\n",
       "  <thead>\n",
       "    <tr style=\"text-align: right;\">\n",
       "      <th></th>\n",
       "      <th>NAME</th>\n",
       "      <th>GSS_CODE</th>\n",
       "      <th>HECTARES</th>\n",
       "      <th>BOROUGH</th>\n",
       "      <th>road_lengt</th>\n",
       "      <th>road_count</th>\n",
       "      <th>traffic_am</th>\n",
       "      <th>junc_amt</th>\n",
       "      <th>sumjunc_co</th>\n",
       "      <th>transit_am</th>\n",
       "      <th>tree_cnt</th>\n",
       "      <th>bkjnc_amt</th>\n",
       "      <th>acc_amt</th>\n",
       "    </tr>\n",
       "  </thead>\n",
       "  <tbody>\n",
       "    <tr>\n",
       "      <th>0</th>\n",
       "      <td>111</td>\n",
       "      <td>404</td>\n",
       "      <td>755.173</td>\n",
       "      <td>20</td>\n",
       "      <td>38484.490745</td>\n",
       "      <td>463.0</td>\n",
       "      <td>43068</td>\n",
       "      <td>245</td>\n",
       "      <td>674.0</td>\n",
       "      <td>47</td>\n",
       "      <td>91</td>\n",
       "      <td>18</td>\n",
       "      <td>23</td>\n",
       "    </tr>\n",
       "    <tr>\n",
       "      <th>1</th>\n",
       "      <td>550</td>\n",
       "      <td>413</td>\n",
       "      <td>259.464</td>\n",
       "      <td>20</td>\n",
       "      <td>31196.917857</td>\n",
       "      <td>331.0</td>\n",
       "      <td>225717</td>\n",
       "      <td>170</td>\n",
       "      <td>597.0</td>\n",
       "      <td>21</td>\n",
       "      <td>53</td>\n",
       "      <td>20</td>\n",
       "      <td>21</td>\n",
       "    </tr>\n",
       "    <tr>\n",
       "      <th>2</th>\n",
       "      <td>35</td>\n",
       "      <td>400</td>\n",
       "      <td>145.390</td>\n",
       "      <td>20</td>\n",
       "      <td>19631.396026</td>\n",
       "      <td>208.0</td>\n",
       "      <td>1618</td>\n",
       "      <td>106</td>\n",
       "      <td>262.0</td>\n",
       "      <td>24</td>\n",
       "      <td>0</td>\n",
       "      <td>5</td>\n",
       "      <td>9</td>\n",
       "    </tr>\n",
       "    <tr>\n",
       "      <th>3</th>\n",
       "      <td>10</td>\n",
       "      <td>399</td>\n",
       "      <td>268.506</td>\n",
       "      <td>20</td>\n",
       "      <td>29485.084687</td>\n",
       "      <td>300.0</td>\n",
       "      <td>177625</td>\n",
       "      <td>165</td>\n",
       "      <td>462.0</td>\n",
       "      <td>38</td>\n",
       "      <td>74</td>\n",
       "      <td>18</td>\n",
       "      <td>9</td>\n",
       "    </tr>\n",
       "    <tr>\n",
       "      <th>4</th>\n",
       "      <td>38</td>\n",
       "      <td>401</td>\n",
       "      <td>187.821</td>\n",
       "      <td>20</td>\n",
       "      <td>20609.220105</td>\n",
       "      <td>226.0</td>\n",
       "      <td>0</td>\n",
       "      <td>108</td>\n",
       "      <td>293.0</td>\n",
       "      <td>28</td>\n",
       "      <td>0</td>\n",
       "      <td>12</td>\n",
       "      <td>14</td>\n",
       "    </tr>\n",
       "  </tbody>\n",
       "</table>\n",
       "</div>"
      ],
      "text/plain": [
       "   NAME  GSS_CODE  HECTARES  BOROUGH    road_lengt  road_count  traffic_am  \\\n",
       "0   111       404   755.173       20  38484.490745       463.0       43068   \n",
       "1   550       413   259.464       20  31196.917857       331.0      225717   \n",
       "2    35       400   145.390       20  19631.396026       208.0        1618   \n",
       "3    10       399   268.506       20  29485.084687       300.0      177625   \n",
       "4    38       401   187.821       20  20609.220105       226.0           0   \n",
       "\n",
       "   junc_amt  sumjunc_co  transit_am  tree_cnt  bkjnc_amt  acc_amt  \n",
       "0       245       674.0          47        91         18       23  \n",
       "1       170       597.0          21        53         20       21  \n",
       "2       106       262.0          24         0          5        9  \n",
       "3       165       462.0          38        74         18        9  \n",
       "4       108       293.0          28         0         12       14  "
      ]
     },
     "execution_count": 170,
     "metadata": {},
     "output_type": "execute_result"
    }
   ],
   "source": [
    "lhr_count_df.head()"
   ]
  },
  {
   "cell_type": "code",
   "execution_count": 171,
   "metadata": {},
   "outputs": [],
   "source": [
    "count_df_x = lhr_count_df.iloc[:,:-1]\n",
    "count_df_y = lhr_count_df.iloc[:,-1]"
   ]
  },
  {
   "cell_type": "code",
   "execution_count": 172,
   "metadata": {},
   "outputs": [
    {
     "data": {
      "text/html": [
       "<div>\n",
       "<style scoped>\n",
       "    .dataframe tbody tr th:only-of-type {\n",
       "        vertical-align: middle;\n",
       "    }\n",
       "\n",
       "    .dataframe tbody tr th {\n",
       "        vertical-align: top;\n",
       "    }\n",
       "\n",
       "    .dataframe thead th {\n",
       "        text-align: right;\n",
       "    }\n",
       "</style>\n",
       "<table border=\"1\" class=\"dataframe\">\n",
       "  <thead>\n",
       "    <tr style=\"text-align: right;\">\n",
       "      <th></th>\n",
       "      <th>NAME</th>\n",
       "      <th>GSS_CODE</th>\n",
       "      <th>HECTARES</th>\n",
       "      <th>BOROUGH</th>\n",
       "      <th>road_lengt</th>\n",
       "      <th>road_count</th>\n",
       "      <th>traffic_am</th>\n",
       "      <th>junc_amt</th>\n",
       "      <th>sumjunc_co</th>\n",
       "      <th>transit_am</th>\n",
       "      <th>tree_cnt</th>\n",
       "      <th>bkjnc_amt</th>\n",
       "    </tr>\n",
       "  </thead>\n",
       "  <tbody>\n",
       "    <tr>\n",
       "      <th>0</th>\n",
       "      <td>111</td>\n",
       "      <td>404</td>\n",
       "      <td>755.173</td>\n",
       "      <td>20</td>\n",
       "      <td>38484.490745</td>\n",
       "      <td>463.0</td>\n",
       "      <td>43068</td>\n",
       "      <td>245</td>\n",
       "      <td>674.0</td>\n",
       "      <td>47</td>\n",
       "      <td>91</td>\n",
       "      <td>18</td>\n",
       "    </tr>\n",
       "    <tr>\n",
       "      <th>1</th>\n",
       "      <td>550</td>\n",
       "      <td>413</td>\n",
       "      <td>259.464</td>\n",
       "      <td>20</td>\n",
       "      <td>31196.917857</td>\n",
       "      <td>331.0</td>\n",
       "      <td>225717</td>\n",
       "      <td>170</td>\n",
       "      <td>597.0</td>\n",
       "      <td>21</td>\n",
       "      <td>53</td>\n",
       "      <td>20</td>\n",
       "    </tr>\n",
       "    <tr>\n",
       "      <th>2</th>\n",
       "      <td>35</td>\n",
       "      <td>400</td>\n",
       "      <td>145.390</td>\n",
       "      <td>20</td>\n",
       "      <td>19631.396026</td>\n",
       "      <td>208.0</td>\n",
       "      <td>1618</td>\n",
       "      <td>106</td>\n",
       "      <td>262.0</td>\n",
       "      <td>24</td>\n",
       "      <td>0</td>\n",
       "      <td>5</td>\n",
       "    </tr>\n",
       "    <tr>\n",
       "      <th>3</th>\n",
       "      <td>10</td>\n",
       "      <td>399</td>\n",
       "      <td>268.506</td>\n",
       "      <td>20</td>\n",
       "      <td>29485.084687</td>\n",
       "      <td>300.0</td>\n",
       "      <td>177625</td>\n",
       "      <td>165</td>\n",
       "      <td>462.0</td>\n",
       "      <td>38</td>\n",
       "      <td>74</td>\n",
       "      <td>18</td>\n",
       "    </tr>\n",
       "    <tr>\n",
       "      <th>4</th>\n",
       "      <td>38</td>\n",
       "      <td>401</td>\n",
       "      <td>187.821</td>\n",
       "      <td>20</td>\n",
       "      <td>20609.220105</td>\n",
       "      <td>226.0</td>\n",
       "      <td>0</td>\n",
       "      <td>108</td>\n",
       "      <td>293.0</td>\n",
       "      <td>28</td>\n",
       "      <td>0</td>\n",
       "      <td>12</td>\n",
       "    </tr>\n",
       "  </tbody>\n",
       "</table>\n",
       "</div>"
      ],
      "text/plain": [
       "   NAME  GSS_CODE  HECTARES  BOROUGH    road_lengt  road_count  traffic_am  \\\n",
       "0   111       404   755.173       20  38484.490745       463.0       43068   \n",
       "1   550       413   259.464       20  31196.917857       331.0      225717   \n",
       "2    35       400   145.390       20  19631.396026       208.0        1618   \n",
       "3    10       399   268.506       20  29485.084687       300.0      177625   \n",
       "4    38       401   187.821       20  20609.220105       226.0           0   \n",
       "\n",
       "   junc_amt  sumjunc_co  transit_am  tree_cnt  bkjnc_amt  \n",
       "0       245       674.0          47        91         18  \n",
       "1       170       597.0          21        53         20  \n",
       "2       106       262.0          24         0          5  \n",
       "3       165       462.0          38        74         18  \n",
       "4       108       293.0          28         0         12  "
      ]
     },
     "execution_count": 172,
     "metadata": {},
     "output_type": "execute_result"
    }
   ],
   "source": [
    "count_df_x.head()"
   ]
  },
  {
   "cell_type": "code",
   "execution_count": 173,
   "metadata": {
    "scrolled": true
   },
   "outputs": [],
   "source": [
    "count_X = count_df_x.as_matrix()\n",
    "count_Y = count_df_y.as_matrix()"
   ]
  },
  {
   "cell_type": "code",
   "execution_count": 174,
   "metadata": {},
   "outputs": [],
   "source": [
    "# --------------------\n",
    "# Normalizing data\n",
    "# --------------------\n",
    "count_Xtmax = np.amax(count_X,axis=0)\n",
    "count_X = np.divide(count_X,count_Xtmax)"
   ]
  },
  {
   "cell_type": "code",
   "execution_count": 175,
   "metadata": {},
   "outputs": [
    {
     "data": {
      "text/plain": [
       "<matplotlib.axes._subplots.AxesSubplot at 0x1a20b53a10>"
      ]
     },
     "execution_count": 175,
     "metadata": {},
     "output_type": "execute_result"
    },
    {
     "data": {
      "image/png": "[encoded data removed]",
      "text/plain": [
       "<Figure size 720x720 with 2 Axes>"
      ]
     },
     "metadata": {},
     "output_type": "display_data"
    }
   ],
   "source": [
    "fig, ax = plt.subplots(1,1, sharex=True, figsize=(10,10))\n",
    "\n",
    "sns.heatmap(lhr_count_df.iloc[:,:-1].corr(), vmax=1., square=False, cmap='Blues', ax=ax)"
   ]
  },
  {
   "cell_type": "code",
   "execution_count": 176,
   "metadata": {},
   "outputs": [
    {
     "data": {
      "text/plain": [
       "PCA(copy=True, iterated_power='auto', n_components=12, random_state=None,\n",
       "  svd_solver='full', tol=0.0, whiten=False)"
      ]
     },
     "execution_count": 176,
     "metadata": {},
     "output_type": "execute_result"
    }
   ],
   "source": [
    "count_X = scale(count_X)\n",
    "count_pca = PCA(n_components=12, svd_solver='full')\n",
    "count_pca.fit(count_X)"
   ]
  },
  {
   "cell_type": "code",
   "execution_count": 177,
   "metadata": {},
   "outputs": [],
   "source": [
    "#The amount of variance that each PC explains\n",
    "var= count_pca.explained_variance_ratio_"
   ]
  },
  {
   "cell_type": "code",
   "execution_count": 178,
   "metadata": {},
   "outputs": [
    {
     "name": "stdout",
     "output_type": "stream",
     "text": [
      "Explained Variance Ratios\n",
      "[  46.13   63.16   72.14   80.24   86.36   91.83   96.1    98.93   99.77\n",
      "   99.92   99.98  100.01]\n"
     ]
    }
   ],
   "source": [
    "#Cumulative Variance explains\n",
    "print(\"Explained Variance Ratios\")\n",
    "count_var1=np.cumsum(np.round(count_pca.explained_variance_ratio_, decimals=4)*100)\n",
    "print(count_var1)"
   ]
  },
  {
   "cell_type": "code",
   "execution_count": 179,
   "metadata": {},
   "outputs": [
    {
     "data": {
      "text/plain": [
       "[<matplotlib.lines.Line2D at 0x1a212087d0>]"
      ]
     },
     "execution_count": 179,
     "metadata": {},
     "output_type": "execute_result"
    },
    {
     "data": {
      "image/png": "[encoded data removed]",
      "text/plain": [
       "<Figure size 432x288 with 1 Axes>"
      ]
     },
     "metadata": {},
     "output_type": "display_data"
    }
   ],
   "source": [
    "plt.plot(count_var1)"
   ]
  },
  {
   "cell_type": "code",
   "execution_count": 180,
   "metadata": {},
   "outputs": [],
   "source": [
    "#Looking at above plot I'm taking 7 variables\n",
    "count_pca = PCA(n_components=7)\n",
    "count_pca.fit(count_X)\n",
    "count_Xpca = count_pca.fit_transform(count_X)\n",
    "# creating a second for the Birch clustering\n",
    "count_Xk = count_Xpca\n",
    "count_Xb = count_Xpca\n",
    "count_Xh = count_Xpca"
   ]
  },
  {
   "cell_type": "code",
   "execution_count": 181,
   "metadata": {},
   "outputs": [
    {
     "data": {
      "text/plain": [
       "[<matplotlib.lines.Line2D at 0x1a220ec090>]"
      ]
     },
     "execution_count": 181,
     "metadata": {},
     "output_type": "execute_result"
    },
    {
     "data": {
      "image/png": "[encoded data removed]",
      "text/plain": [
       "<Figure size 432x288 with 1 Axes>"
      ]
     },
     "metadata": {},
     "output_type": "display_data"
    }
   ],
   "source": [
    "count_Ks = range(1, 20)\n",
    "count_km = [cluster.KMeans(n_clusters=i) for i in count_Ks]\n",
    "count_score = [count_km[i].fit(count_Xk).score(count_Xk) for i in range(len(count_km))]\n",
    "plot(count_score)"
   ]
  },
  {
   "cell_type": "markdown",
   "metadata": {},
   "source": [
    "### Clustering"
   ]
  },
  {
   "cell_type": "code",
   "execution_count": 182,
   "metadata": {},
   "outputs": [
    {
     "name": "stdout",
     "output_type": "stream",
     "text": [
      "649\n",
      "   count_pca_kmeans_cluster                    Ward        GSS\n",
      "0                         3       Chessington South  E05000405\n",
      "1                         1  Tolworth and Hook Rise  E05000414\n",
      "2                         2              Berrylands  E05000401\n",
      "3                         1               Alexandra  E05000400\n",
      "4                         2                Beverley  E05000402\n",
      "                          GSS  Ward\n",
      "count_pca_kmeans_cluster           \n",
      "0                          69    69\n",
      "1                         251   251\n",
      "2                         146   146\n",
      "3                         182   182\n",
      "4                           1     1\n"
     ]
    }
   ],
   "source": [
    "# --------------------\n",
    "# Clustering - Kmeans\n",
    "# --------------------\n",
    "\n",
    "count_km = cluster.KMeans(n_clusters=5, random_state=0)\n",
    "count_km.fit(count_Xk)\n",
    "count_cl = count_km.labels_\n",
    "count_centroids = count_km.cluster_centers_\n",
    "\n",
    "count_results = pd.DataFrame(data=count_cl, columns=['count_pca_kmeans_cluster'])\n",
    "count_results['Ward'] = Ward\n",
    "count_results['GSS'] = GSS\n",
    "\n",
    "print(len(count_results))\n",
    "print(count_results.head())\n",
    "\n",
    "count_results.to_csv(count_pca_kmeans_outfname, index=False)\n",
    "\n",
    "print(count_results.pivot_table(index=['count_pca_kmeans_cluster'], aggfunc=np.count_nonzero))"
   ]
  },
  {
   "cell_type": "code",
   "execution_count": 183,
   "metadata": {},
   "outputs": [
    {
     "name": "stdout",
     "output_type": "stream",
     "text": [
      "649\n",
      "   count_pca_brch_cluster                    Ward        GSS\n",
      "0                       0       Chessington South  E05000405\n",
      "1                       2  Tolworth and Hook Rise  E05000414\n",
      "2                       2              Berrylands  E05000401\n",
      "3                       2               Alexandra  E05000400\n",
      "4                       2                Beverley  E05000402\n",
      "                        GSS  Ward\n",
      "count_pca_brch_cluster           \n",
      "0                       219   219\n",
      "1                        46    46\n",
      "2                       228   228\n",
      "3                         1     1\n",
      "4                       155   155\n"
     ]
    }
   ],
   "source": [
    "# --------------------\n",
    "# Clustering - Birch\n",
    "# --------------------\n",
    "\n",
    "count_brch = cluster.Birch(branching_factor=5, n_clusters=5, threshold=0.5, compute_labels=True)\n",
    "count_brch.fit(count_Xb)\n",
    "count_cl_brch = count_brch.labels_\n",
    "\n",
    "count_brch_results = pd.DataFrame(data=count_cl_brch, columns=['count_pca_brch_cluster'])\n",
    "count_brch_results['Ward'] = Ward\n",
    "count_brch_results['GSS'] = GSS\n",
    "\n",
    "print(len(count_brch_results))\n",
    "print(count_brch_results.head())\n",
    "print(count_brch_results.pivot_table(index=['count_pca_brch_cluster'], aggfunc=np.count_nonzero))\n",
    "\n",
    "count_brch_results.to_csv(count_pca_brch_outfname, index=False)"
   ]
  },
  {
   "cell_type": "code",
   "execution_count": 184,
   "metadata": {},
   "outputs": [
    {
     "name": "stdout",
     "output_type": "stream",
     "text": [
      "649\n",
      "   count_pca_hcl_cluster                    Ward        GSS\n",
      "0                      1       Chessington South  E05000405\n",
      "1                      3  Tolworth and Hook Rise  E05000414\n",
      "2                      3              Berrylands  E05000401\n",
      "3                      3               Alexandra  E05000400\n",
      "4                      3                Beverley  E05000402\n",
      "                       GSS  Ward\n",
      "count_pca_hcl_cluster           \n",
      "0                       46    46\n",
      "1                      238   238\n",
      "2                      135   135\n",
      "3                      229   229\n",
      "4                        1     1\n"
     ]
    }
   ],
   "source": [
    "# --------------------\n",
    "# Clustering - Hierarchical\n",
    "# --------------------\n",
    "\n",
    "count_hc = cluster.AgglomerativeClustering(n_clusters=5, linkage='ward')\n",
    "count_hc.fit(count_Xh)\n",
    "count_hcl = count_hc.labels_\n",
    "\n",
    "count_hcl_results = pd.DataFrame(data=count_hcl, columns=['count_pca_hcl_cluster'])\n",
    "count_hcl_results['Ward'] = Ward\n",
    "count_hcl_results['GSS'] = GSS\n",
    "\n",
    "print(len(count_hcl_results))\n",
    "print(count_hcl_results.head())\n",
    "print(count_hcl_results.pivot_table(index=['count_pca_hcl_cluster'], aggfunc=np.count_nonzero))\n",
    "\n",
    "count_hcl_results.to_csv(count_pca_hier_outfname, index=False)"
   ]
  },
  {
   "cell_type": "markdown",
   "metadata": {},
   "source": [
    "### Classifiers"
   ]
  },
  {
   "cell_type": "code",
   "execution_count": 185,
   "metadata": {},
   "outputs": [],
   "source": [
    "# --------------------\n",
    "# K-fold CV\n",
    "# --------------------\n",
    "count_X_train, count_X_test, count_Y_train, count_Y_test = train_test_split(count_Xpca, count_Y, \n",
    "                                                                            train_size=0.7, random_state=3)\n",
    "count_ts, = count_Y_test.shape"
   ]
  },
  {
   "cell_type": "code",
   "execution_count": 186,
   "metadata": {},
   "outputs": [
    {
     "name": "stdout",
     "output_type": "stream",
     "text": [
      "----------Decision Tree Classfication----------\n",
      "192 misclassified data out of 195 (0 %)\n",
      "----------Bagging Classfication----------\n",
      "188 misclassified data out of 195 (0 %)\n",
      "----------AdaBoosting Classfication----------\n",
      "189 misclassified data out of 195 (0 %)\n",
      "----------Gradient Boosting Classfication----------\n",
      "190 misclassified data out of 195 (0 %)\n",
      "----------Random Forest Classfication----------\n",
      "190 misclassified data out of 195 (0 %)\n"
     ]
    }
   ],
   "source": [
    "# --------------------\n",
    "# Decision Tree Classifier\n",
    "# --------------------\n",
    "# Train\n",
    "count_dtc = DecisionTreeClassifier()\n",
    "count_dtc.fit(count_X_train, count_Y_train)\n",
    "\n",
    "# Predicting\n",
    "count_dtc_pred = count_dtc.predict(count_X_test)\n",
    "\n",
    "# Finding mispredicted samples\n",
    "count_dtc_verror = np.asarray([int(count_dtc_pred[i] != count_Y_test[i]) for i in range(0,count_ts)])\n",
    "count_dtc_error = np.sum(count_dtc_verror)\n",
    "count_dtc_ccidx = np.where(count_dtc_verror == 0)\n",
    "count_dtc_mcidx = np.where(count_dtc_verror == 1)\n",
    "\n",
    "print(\"----------Decision Tree Classfication----------\")\n",
    "print(\"%s misclassified data out of %s (%s %s)\" % (count_dtc_error, count_ts, count_dtc_error/count_ts, '%'))\n",
    "\n",
    "# --------------------\n",
    "# Bagging Classifier\n",
    "# --------------------\n",
    "count_bagb = AdaBoostClassifier(DecisionTreeClassifier(max_depth=10), n_estimators=20)\n",
    "#adab = AdaBoostClassifier(DecisionTreeClassifier(max_depth=2), n_estimators=20,learning_rate=1.5,algorithm=\"SAMME\")\n",
    "count_bagb.fit(count_X_train,count_Y_train)\n",
    "\n",
    "# Predicting\n",
    "count_bagb_pred = count_bagb.predict(count_X_test)\n",
    "\n",
    "# Finding mispredicted samples\n",
    "count_bagb_verror = np.asarray([int(count_bagb_pred[i] != count_Y_test[i]) for i in range(0,count_ts)])\n",
    "count_bagb_error = np.sum(count_bagb_verror)\n",
    "count_bagb_ccidx = np.where(count_bagb_verror == 0)\n",
    "count_bagb_mcidx = np.where(count_bagb_verror == 1)\n",
    "\n",
    "print(\"----------Bagging Classfication----------\")\n",
    "print(\"%s misclassified data out of %s (%s %s)\" % (count_bagb_error, count_ts, count_bagb_error/count_ts, '%'))\n",
    "\n",
    "# --------------------\n",
    "# AdaBoost Classifier\n",
    "# --------------------\n",
    "count_adab = AdaBoostClassifier(DecisionTreeClassifier(max_depth=10), n_estimators=20)\n",
    "#adab = AdaBoostClassifier(DecisionTreeClassifier(max_depth=2), n_estimators=20,learning_rate=1.5,algorithm=\"SAMME\")\n",
    "count_adab.fit(count_X_train,count_Y_train)\n",
    "\n",
    "# Predicting\n",
    "count_adab_pred = count_adab.predict(count_X_test)\n",
    "\n",
    "# Finding mispredicted samples\n",
    "count_adab_verror = np.asarray([int(count_adab_pred[i] != count_Y_test[i]) for i in range(0,count_ts)])\n",
    "count_adab_error = np.sum(count_adab_verror)\n",
    "count_adab_ccidx = np.where(count_adab_verror == 0)\n",
    "count_adab_mcidx = np.where(count_adab_verror == 1)\n",
    "\n",
    "print(\"----------AdaBoosting Classfication----------\")\n",
    "print(\"%s misclassified data out of %s (%s %s)\" % (count_adab_error, count_ts, count_adab_error/count_ts, '%'))\n",
    "\n",
    "# --------------------\n",
    "# Gradient Boosting Classifier\n",
    "# --------------------\n",
    "count_gradb = GradientBoostingClassifier(max_depth=5, n_estimators=30)\n",
    "count_gradb.fit(count_X_train,count_Y_train)\n",
    "\n",
    "# Predicting\n",
    "count_gradb_pred = count_gradb.predict(count_X_test)\n",
    "\n",
    "# Finding mispredicted samples\n",
    "count_gradb_verror = np.asarray([int(count_gradb_pred[i] != count_Y_test[i]) for i in range(0,count_ts)])\n",
    "count_gradb_error = np.sum(count_gradb_verror)\n",
    "count_gradb_ccidx = np.where(count_gradb_verror == 0)\n",
    "count_gradb_mcidx = np.where(count_gradb_verror == 1)\n",
    "\n",
    "print(\"----------Gradient Boosting Classfication----------\")\n",
    "print(\"%s misclassified data out of %s (%s %s)\" % (count_gradb_error, count_ts, count_gradb_error/count_ts, '%'))\n",
    "\n",
    "# --------------------\n",
    "# Random Forest Classifier\n",
    "# --------------------\n",
    "count_rdf = RandomForestClassifier(max_depth=5, n_estimators=30)\n",
    "count_rdf.fit(count_X_train,count_Y_train)\n",
    "\n",
    "# Predicting\n",
    "count_rdf_pred = count_rdf.predict(count_X_test)\n",
    "\n",
    "# Finding mispredicted samples\n",
    "count_rdf_verror = np.asarray([int(count_rdf_pred[i] != count_Y_test[i]) for i in range(0,count_ts)])\n",
    "count_rdf_error = np.sum(count_rdf_verror)\n",
    "count_rdf_ccidx = np.where(count_rdf_verror == 0)\n",
    "count_rdf_mcidx = np.where(count_rdf_verror == 1)\n",
    "\n",
    "print(\"----------Random Forest Classfication----------\")\n",
    "print(\"%s misclassified data out of %s (%s %s)\" % (count_rdf_error, count_ts, count_rdf_error/count_ts, '%'))\n"
   ]
  },
  {
   "cell_type": "markdown",
   "metadata": {},
   "source": [
    "## Clustering analysis for the counts"
   ]
  },
  {
   "cell_type": "code",
   "execution_count": 187,
   "metadata": {},
   "outputs": [
    {
     "data": {
      "text/html": [
       "<div>\n",
       "<style scoped>\n",
       "    .dataframe tbody tr th:only-of-type {\n",
       "        vertical-align: middle;\n",
       "    }\n",
       "\n",
       "    .dataframe tbody tr th {\n",
       "        vertical-align: top;\n",
       "    }\n",
       "\n",
       "    .dataframe thead th {\n",
       "        text-align: right;\n",
       "    }\n",
       "</style>\n",
       "<table border=\"1\" class=\"dataframe\">\n",
       "  <thead>\n",
       "    <tr style=\"text-align: right;\">\n",
       "      <th></th>\n",
       "      <th>NAME</th>\n",
       "      <th>GSS_CODE</th>\n",
       "      <th>HECTARES</th>\n",
       "      <th>BOROUGH</th>\n",
       "      <th>len_dens</th>\n",
       "      <th>road_dens</th>\n",
       "      <th>traf_dens</th>\n",
       "      <th>junc_dens</th>\n",
       "      <th>buff_dens</th>\n",
       "      <th>trans_dens</th>\n",
       "      <th>tree_dens</th>\n",
       "      <th>bkjnc_dens</th>\n",
       "      <th>acc_dens</th>\n",
       "    </tr>\n",
       "  </thead>\n",
       "  <tbody>\n",
       "    <tr>\n",
       "      <th>0</th>\n",
       "      <td>Chessington South</td>\n",
       "      <td>E05000405</td>\n",
       "      <td>755.173</td>\n",
       "      <td>Kingston upon Thames</td>\n",
       "      <td>50.9612</td>\n",
       "      <td>0.6131</td>\n",
       "      <td>57.0306</td>\n",
       "      <td>0.3244</td>\n",
       "      <td>0.8925</td>\n",
       "      <td>0.0622</td>\n",
       "      <td>0.1205</td>\n",
       "      <td>0.0238</td>\n",
       "      <td>0.0305</td>\n",
       "    </tr>\n",
       "    <tr>\n",
       "      <th>1</th>\n",
       "      <td>Tolworth and Hook Rise</td>\n",
       "      <td>E05000414</td>\n",
       "      <td>259.464</td>\n",
       "      <td>Kingston upon Thames</td>\n",
       "      <td>120.2360</td>\n",
       "      <td>1.2757</td>\n",
       "      <td>869.9357</td>\n",
       "      <td>0.6552</td>\n",
       "      <td>2.3009</td>\n",
       "      <td>0.0809</td>\n",
       "      <td>0.2043</td>\n",
       "      <td>0.0771</td>\n",
       "      <td>0.0809</td>\n",
       "    </tr>\n",
       "    <tr>\n",
       "      <th>2</th>\n",
       "      <td>Berrylands</td>\n",
       "      <td>E05000401</td>\n",
       "      <td>145.390</td>\n",
       "      <td>Kingston upon Thames</td>\n",
       "      <td>135.0258</td>\n",
       "      <td>1.4306</td>\n",
       "      <td>11.1287</td>\n",
       "      <td>0.7291</td>\n",
       "      <td>1.8020</td>\n",
       "      <td>0.1651</td>\n",
       "      <td>0.0000</td>\n",
       "      <td>0.0344</td>\n",
       "      <td>0.0619</td>\n",
       "    </tr>\n",
       "    <tr>\n",
       "      <th>3</th>\n",
       "      <td>Alexandra</td>\n",
       "      <td>E05000400</td>\n",
       "      <td>268.506</td>\n",
       "      <td>Kingston upon Thames</td>\n",
       "      <td>109.8116</td>\n",
       "      <td>1.1173</td>\n",
       "      <td>661.5308</td>\n",
       "      <td>0.6145</td>\n",
       "      <td>1.7206</td>\n",
       "      <td>0.1415</td>\n",
       "      <td>0.2756</td>\n",
       "      <td>0.0670</td>\n",
       "      <td>0.0335</td>\n",
       "    </tr>\n",
       "    <tr>\n",
       "      <th>4</th>\n",
       "      <td>Beverley</td>\n",
       "      <td>E05000402</td>\n",
       "      <td>187.821</td>\n",
       "      <td>Kingston upon Thames</td>\n",
       "      <td>109.7280</td>\n",
       "      <td>1.2033</td>\n",
       "      <td>0.0000</td>\n",
       "      <td>0.5750</td>\n",
       "      <td>1.5600</td>\n",
       "      <td>0.1491</td>\n",
       "      <td>0.0000</td>\n",
       "      <td>0.0639</td>\n",
       "      <td>0.0745</td>\n",
       "    </tr>\n",
       "  </tbody>\n",
       "</table>\n",
       "</div>"
      ],
      "text/plain": [
       "                     NAME   GSS_CODE  HECTARES               BOROUGH  \\\n",
       "0       Chessington South  E05000405   755.173  Kingston upon Thames   \n",
       "1  Tolworth and Hook Rise  E05000414   259.464  Kingston upon Thames   \n",
       "2              Berrylands  E05000401   145.390  Kingston upon Thames   \n",
       "3               Alexandra  E05000400   268.506  Kingston upon Thames   \n",
       "4                Beverley  E05000402   187.821  Kingston upon Thames   \n",
       "\n",
       "   len_dens  road_dens  traf_dens  junc_dens  buff_dens  trans_dens  \\\n",
       "0   50.9612     0.6131    57.0306     0.3244     0.8925      0.0622   \n",
       "1  120.2360     1.2757   869.9357     0.6552     2.3009      0.0809   \n",
       "2  135.0258     1.4306    11.1287     0.7291     1.8020      0.1651   \n",
       "3  109.8116     1.1173   661.5308     0.6145     1.7206      0.1415   \n",
       "4  109.7280     1.2033     0.0000     0.5750     1.5600      0.1491   \n",
       "\n",
       "   tree_dens  bkjnc_dens  acc_dens  \n",
       "0     0.1205      0.0238    0.0305  \n",
       "1     0.2043      0.0771    0.0809  \n",
       "2     0.0000      0.0344    0.0619  \n",
       "3     0.2756      0.0670    0.0335  \n",
       "4     0.0000      0.0639    0.0745  "
      ]
     },
     "execution_count": 187,
     "metadata": {},
     "output_type": "execute_result"
    }
   ],
   "source": [
    "lhr_dens_df = lhr_df[['NAME', 'GSS_CODE', 'HECTARES', 'BOROUGH', 'len_dens', 'road_dens', 'traf_dens', \n",
    "                      'junc_dens', 'buff_dens', 'trans_dens', 'tree_dens', 'bkjnc_dens', 'acc_dens']]\n",
    "lhr_dens_df.head()"
   ]
  },
  {
   "cell_type": "code",
   "execution_count": 188,
   "metadata": {},
   "outputs": [
    {
     "name": "stderr",
     "output_type": "stream",
     "text": [
      "/Users/tylerrwoh/anaconda2/lib/python2.7/site-packages/ipykernel_launcher.py:3: SettingWithCopyWarning: \n",
      "A value is trying to be set on a copy of a slice from a DataFrame.\n",
      "Try using .loc[row_indexer,col_indexer] = value instead\n",
      "\n",
      "See the caveats in the documentation: http://pandas.pydata.org/pandas-docs/stable/indexing.html#indexing-view-versus-copy\n",
      "  This is separate from the ipykernel package so we can avoid doing imports until\n",
      "/Users/tylerrwoh/anaconda2/lib/python2.7/site-packages/ipykernel_launcher.py:4: SettingWithCopyWarning: \n",
      "A value is trying to be set on a copy of a slice from a DataFrame.\n",
      "Try using .loc[row_indexer,col_indexer] = value instead\n",
      "\n",
      "See the caveats in the documentation: http://pandas.pydata.org/pandas-docs/stable/indexing.html#indexing-view-versus-copy\n",
      "  after removing the cwd from sys.path.\n",
      "/Users/tylerrwoh/anaconda2/lib/python2.7/site-packages/ipykernel_launcher.py:5: SettingWithCopyWarning: \n",
      "A value is trying to be set on a copy of a slice from a DataFrame.\n",
      "Try using .loc[row_indexer,col_indexer] = value instead\n",
      "\n",
      "See the caveats in the documentation: http://pandas.pydata.org/pandas-docs/stable/indexing.html#indexing-view-versus-copy\n",
      "  \"\"\"\n"
     ]
    }
   ],
   "source": [
    "# converts string values to index values for use in the anlaysis\n",
    "label_encoder = preprocessing.LabelEncoder()\n",
    "lhr_dens_df['NAME'] = label_encoder.fit_transform(lhr_dens_df['NAME'])\n",
    "lhr_dens_df['GSS_CODE'] = label_encoder.fit_transform(lhr_dens_df['GSS_CODE'])\n",
    "lhr_dens_df['BOROUGH'] = label_encoder.fit_transform(lhr_dens_df['BOROUGH'])"
   ]
  },
  {
   "cell_type": "code",
   "execution_count": 189,
   "metadata": {},
   "outputs": [
    {
     "data": {
      "text/html": [
       "<div>\n",
       "<style scoped>\n",
       "    .dataframe tbody tr th:only-of-type {\n",
       "        vertical-align: middle;\n",
       "    }\n",
       "\n",
       "    .dataframe tbody tr th {\n",
       "        vertical-align: top;\n",
       "    }\n",
       "\n",
       "    .dataframe thead th {\n",
       "        text-align: right;\n",
       "    }\n",
       "</style>\n",
       "<table border=\"1\" class=\"dataframe\">\n",
       "  <thead>\n",
       "    <tr style=\"text-align: right;\">\n",
       "      <th></th>\n",
       "      <th>NAME</th>\n",
       "      <th>GSS_CODE</th>\n",
       "      <th>HECTARES</th>\n",
       "      <th>BOROUGH</th>\n",
       "      <th>len_dens</th>\n",
       "      <th>road_dens</th>\n",
       "      <th>traf_dens</th>\n",
       "      <th>junc_dens</th>\n",
       "      <th>buff_dens</th>\n",
       "      <th>trans_dens</th>\n",
       "      <th>tree_dens</th>\n",
       "      <th>bkjnc_dens</th>\n",
       "      <th>acc_dens</th>\n",
       "    </tr>\n",
       "  </thead>\n",
       "  <tbody>\n",
       "    <tr>\n",
       "      <th>0</th>\n",
       "      <td>111</td>\n",
       "      <td>404</td>\n",
       "      <td>755.173</td>\n",
       "      <td>20</td>\n",
       "      <td>50.9612</td>\n",
       "      <td>0.6131</td>\n",
       "      <td>57.0306</td>\n",
       "      <td>0.3244</td>\n",
       "      <td>0.8925</td>\n",
       "      <td>0.0622</td>\n",
       "      <td>0.1205</td>\n",
       "      <td>0.0238</td>\n",
       "      <td>0.0305</td>\n",
       "    </tr>\n",
       "    <tr>\n",
       "      <th>1</th>\n",
       "      <td>550</td>\n",
       "      <td>413</td>\n",
       "      <td>259.464</td>\n",
       "      <td>20</td>\n",
       "      <td>120.2360</td>\n",
       "      <td>1.2757</td>\n",
       "      <td>869.9357</td>\n",
       "      <td>0.6552</td>\n",
       "      <td>2.3009</td>\n",
       "      <td>0.0809</td>\n",
       "      <td>0.2043</td>\n",
       "      <td>0.0771</td>\n",
       "      <td>0.0809</td>\n",
       "    </tr>\n",
       "    <tr>\n",
       "      <th>2</th>\n",
       "      <td>35</td>\n",
       "      <td>400</td>\n",
       "      <td>145.390</td>\n",
       "      <td>20</td>\n",
       "      <td>135.0258</td>\n",
       "      <td>1.4306</td>\n",
       "      <td>11.1287</td>\n",
       "      <td>0.7291</td>\n",
       "      <td>1.8020</td>\n",
       "      <td>0.1651</td>\n",
       "      <td>0.0000</td>\n",
       "      <td>0.0344</td>\n",
       "      <td>0.0619</td>\n",
       "    </tr>\n",
       "    <tr>\n",
       "      <th>3</th>\n",
       "      <td>10</td>\n",
       "      <td>399</td>\n",
       "      <td>268.506</td>\n",
       "      <td>20</td>\n",
       "      <td>109.8116</td>\n",
       "      <td>1.1173</td>\n",
       "      <td>661.5308</td>\n",
       "      <td>0.6145</td>\n",
       "      <td>1.7206</td>\n",
       "      <td>0.1415</td>\n",
       "      <td>0.2756</td>\n",
       "      <td>0.0670</td>\n",
       "      <td>0.0335</td>\n",
       "    </tr>\n",
       "    <tr>\n",
       "      <th>4</th>\n",
       "      <td>38</td>\n",
       "      <td>401</td>\n",
       "      <td>187.821</td>\n",
       "      <td>20</td>\n",
       "      <td>109.7280</td>\n",
       "      <td>1.2033</td>\n",
       "      <td>0.0000</td>\n",
       "      <td>0.5750</td>\n",
       "      <td>1.5600</td>\n",
       "      <td>0.1491</td>\n",
       "      <td>0.0000</td>\n",
       "      <td>0.0639</td>\n",
       "      <td>0.0745</td>\n",
       "    </tr>\n",
       "  </tbody>\n",
       "</table>\n",
       "</div>"
      ],
      "text/plain": [
       "   NAME  GSS_CODE  HECTARES  BOROUGH  len_dens  road_dens  traf_dens  \\\n",
       "0   111       404   755.173       20   50.9612     0.6131    57.0306   \n",
       "1   550       413   259.464       20  120.2360     1.2757   869.9357   \n",
       "2    35       400   145.390       20  135.0258     1.4306    11.1287   \n",
       "3    10       399   268.506       20  109.8116     1.1173   661.5308   \n",
       "4    38       401   187.821       20  109.7280     1.2033     0.0000   \n",
       "\n",
       "   junc_dens  buff_dens  trans_dens  tree_dens  bkjnc_dens  acc_dens  \n",
       "0     0.3244     0.8925      0.0622     0.1205      0.0238    0.0305  \n",
       "1     0.6552     2.3009      0.0809     0.2043      0.0771    0.0809  \n",
       "2     0.7291     1.8020      0.1651     0.0000      0.0344    0.0619  \n",
       "3     0.6145     1.7206      0.1415     0.2756      0.0670    0.0335  \n",
       "4     0.5750     1.5600      0.1491     0.0000      0.0639    0.0745  "
      ]
     },
     "execution_count": 189,
     "metadata": {},
     "output_type": "execute_result"
    }
   ],
   "source": [
    "lhr_dens_df.head()"
   ]
  },
  {
   "cell_type": "code",
   "execution_count": 190,
   "metadata": {},
   "outputs": [],
   "source": [
    "dens_df_x = lhr_dens_df.iloc[:,:-1]\n",
    "dens_df_y = lhr_dens_df.iloc[:,-1]"
   ]
  },
  {
   "cell_type": "code",
   "execution_count": 191,
   "metadata": {},
   "outputs": [
    {
     "data": {
      "text/html": [
       "<div>\n",
       "<style scoped>\n",
       "    .dataframe tbody tr th:only-of-type {\n",
       "        vertical-align: middle;\n",
       "    }\n",
       "\n",
       "    .dataframe tbody tr th {\n",
       "        vertical-align: top;\n",
       "    }\n",
       "\n",
       "    .dataframe thead th {\n",
       "        text-align: right;\n",
       "    }\n",
       "</style>\n",
       "<table border=\"1\" class=\"dataframe\">\n",
       "  <thead>\n",
       "    <tr style=\"text-align: right;\">\n",
       "      <th></th>\n",
       "      <th>NAME</th>\n",
       "      <th>GSS_CODE</th>\n",
       "      <th>HECTARES</th>\n",
       "      <th>BOROUGH</th>\n",
       "      <th>len_dens</th>\n",
       "      <th>road_dens</th>\n",
       "      <th>traf_dens</th>\n",
       "      <th>junc_dens</th>\n",
       "      <th>buff_dens</th>\n",
       "      <th>trans_dens</th>\n",
       "      <th>tree_dens</th>\n",
       "      <th>bkjnc_dens</th>\n",
       "    </tr>\n",
       "  </thead>\n",
       "  <tbody>\n",
       "    <tr>\n",
       "      <th>0</th>\n",
       "      <td>111</td>\n",
       "      <td>404</td>\n",
       "      <td>755.173</td>\n",
       "      <td>20</td>\n",
       "      <td>50.9612</td>\n",
       "      <td>0.6131</td>\n",
       "      <td>57.0306</td>\n",
       "      <td>0.3244</td>\n",
       "      <td>0.8925</td>\n",
       "      <td>0.0622</td>\n",
       "      <td>0.1205</td>\n",
       "      <td>0.0238</td>\n",
       "    </tr>\n",
       "    <tr>\n",
       "      <th>1</th>\n",
       "      <td>550</td>\n",
       "      <td>413</td>\n",
       "      <td>259.464</td>\n",
       "      <td>20</td>\n",
       "      <td>120.2360</td>\n",
       "      <td>1.2757</td>\n",
       "      <td>869.9357</td>\n",
       "      <td>0.6552</td>\n",
       "      <td>2.3009</td>\n",
       "      <td>0.0809</td>\n",
       "      <td>0.2043</td>\n",
       "      <td>0.0771</td>\n",
       "    </tr>\n",
       "    <tr>\n",
       "      <th>2</th>\n",
       "      <td>35</td>\n",
       "      <td>400</td>\n",
       "      <td>145.390</td>\n",
       "      <td>20</td>\n",
       "      <td>135.0258</td>\n",
       "      <td>1.4306</td>\n",
       "      <td>11.1287</td>\n",
       "      <td>0.7291</td>\n",
       "      <td>1.8020</td>\n",
       "      <td>0.1651</td>\n",
       "      <td>0.0000</td>\n",
       "      <td>0.0344</td>\n",
       "    </tr>\n",
       "    <tr>\n",
       "      <th>3</th>\n",
       "      <td>10</td>\n",
       "      <td>399</td>\n",
       "      <td>268.506</td>\n",
       "      <td>20</td>\n",
       "      <td>109.8116</td>\n",
       "      <td>1.1173</td>\n",
       "      <td>661.5308</td>\n",
       "      <td>0.6145</td>\n",
       "      <td>1.7206</td>\n",
       "      <td>0.1415</td>\n",
       "      <td>0.2756</td>\n",
       "      <td>0.0670</td>\n",
       "    </tr>\n",
       "    <tr>\n",
       "      <th>4</th>\n",
       "      <td>38</td>\n",
       "      <td>401</td>\n",
       "      <td>187.821</td>\n",
       "      <td>20</td>\n",
       "      <td>109.7280</td>\n",
       "      <td>1.2033</td>\n",
       "      <td>0.0000</td>\n",
       "      <td>0.5750</td>\n",
       "      <td>1.5600</td>\n",
       "      <td>0.1491</td>\n",
       "      <td>0.0000</td>\n",
       "      <td>0.0639</td>\n",
       "    </tr>\n",
       "  </tbody>\n",
       "</table>\n",
       "</div>"
      ],
      "text/plain": [
       "   NAME  GSS_CODE  HECTARES  BOROUGH  len_dens  road_dens  traf_dens  \\\n",
       "0   111       404   755.173       20   50.9612     0.6131    57.0306   \n",
       "1   550       413   259.464       20  120.2360     1.2757   869.9357   \n",
       "2    35       400   145.390       20  135.0258     1.4306    11.1287   \n",
       "3    10       399   268.506       20  109.8116     1.1173   661.5308   \n",
       "4    38       401   187.821       20  109.7280     1.2033     0.0000   \n",
       "\n",
       "   junc_dens  buff_dens  trans_dens  tree_dens  bkjnc_dens  \n",
       "0     0.3244     0.8925      0.0622     0.1205      0.0238  \n",
       "1     0.6552     2.3009      0.0809     0.2043      0.0771  \n",
       "2     0.7291     1.8020      0.1651     0.0000      0.0344  \n",
       "3     0.6145     1.7206      0.1415     0.2756      0.0670  \n",
       "4     0.5750     1.5600      0.1491     0.0000      0.0639  "
      ]
     },
     "execution_count": 191,
     "metadata": {},
     "output_type": "execute_result"
    }
   ],
   "source": [
    "dens_df_x.head()"
   ]
  },
  {
   "cell_type": "code",
   "execution_count": 192,
   "metadata": {},
   "outputs": [],
   "source": [
    "dens_X = dens_df_x.as_matrix()\n",
    "dens_Y = dens_df_y.as_matrix()"
   ]
  },
  {
   "cell_type": "code",
   "execution_count": 193,
   "metadata": {},
   "outputs": [],
   "source": [
    "# --------------------\n",
    "# Normalizing data\n",
    "# --------------------\n",
    "dens_Xtmax = np.amax(dens_X,axis=0)\n",
    "dens_X = np.divide(dens_X,dens_Xtmax)"
   ]
  },
  {
   "cell_type": "code",
   "execution_count": 194,
   "metadata": {},
   "outputs": [
    {
     "data": {
      "text/plain": [
       "<matplotlib.axes._subplots.AxesSubplot at 0x10d5a65d0>"
      ]
     },
     "execution_count": 194,
     "metadata": {},
     "output_type": "execute_result"
    },
    {
     "data": {
      "image/png": "[encoded data removed]",
      "text/plain": [
       "<Figure size 720x720 with 2 Axes>"
      ]
     },
     "metadata": {},
     "output_type": "display_data"
    }
   ],
   "source": [
    "fig, ax = plt.subplots(1,1, sharex=True, figsize=(10,10))\n",
    "\n",
    "sns.heatmap(lhr_dens_df.iloc[:,:-1].corr(), vmax=1., square=False, cmap='Blues', ax=ax)"
   ]
  },
  {
   "cell_type": "code",
   "execution_count": 195,
   "metadata": {},
   "outputs": [
    {
     "data": {
      "text/plain": [
       "PCA(copy=True, iterated_power='auto', n_components=12, random_state=None,\n",
       "  svd_solver='full', tol=0.0, whiten=False)"
      ]
     },
     "execution_count": 195,
     "metadata": {},
     "output_type": "execute_result"
    }
   ],
   "source": [
    "dens_X = scale(dens_X)\n",
    "dens_pca = PCA(n_components=12, svd_solver='full')\n",
    "dens_pca.fit(dens_X)"
   ]
  },
  {
   "cell_type": "code",
   "execution_count": 196,
   "metadata": {},
   "outputs": [
    {
     "name": "stdout",
     "output_type": "stream",
     "text": [
      "Explained Variance Ratios\n",
      "[ 41.26  59.61  68.09  76.37  84.11  90.35  95.2   98.58  99.59  99.84\n",
      "  99.96  99.98]\n"
     ]
    }
   ],
   "source": [
    "#Cumulative Variance explains\n",
    "print(\"Explained Variance Ratios\")\n",
    "dens_var1=np.cumsum(np.round(dens_pca.explained_variance_ratio_, decimals=4)*100)\n",
    "print(dens_var1)"
   ]
  },
  {
   "cell_type": "code",
   "execution_count": 197,
   "metadata": {},
   "outputs": [
    {
     "data": {
      "text/plain": [
       "[<matplotlib.lines.Line2D at 0x1a2118a6d0>]"
      ]
     },
     "execution_count": 197,
     "metadata": {},
     "output_type": "execute_result"
    },
    {
     "data": {
      "image/png": "[encoded data removed]",
      "text/plain": [
       "<Figure size 432x288 with 1 Axes>"
      ]
     },
     "metadata": {},
     "output_type": "display_data"
    }
   ],
   "source": [
    "plt.plot(dens_var1)"
   ]
  },
  {
   "cell_type": "code",
   "execution_count": 198,
   "metadata": {},
   "outputs": [],
   "source": [
    "#Looking at above plot I'm taking 7 variables\n",
    "dens_pca = PCA(n_components=7)\n",
    "dens_pca.fit(dens_X)\n",
    "dens_Xpca = dens_pca.fit_transform(dens_X)\n",
    "# creating a second for the Birch clustering\n",
    "dens_Xk = dens_Xpca\n",
    "dens_Xb = dens_Xpca\n",
    "dens_Xh = dens_Xpca"
   ]
  },
  {
   "cell_type": "code",
   "execution_count": 199,
   "metadata": {},
   "outputs": [
    {
     "data": {
      "text/plain": [
       "[<matplotlib.lines.Line2D at 0x1a2249c950>]"
      ]
     },
     "execution_count": 199,
     "metadata": {},
     "output_type": "execute_result"
    },
    {
     "data": {
      "image/png": "[encoded data removed]",
      "text/plain": [
       "<Figure size 432x288 with 1 Axes>"
      ]
     },
     "metadata": {},
     "output_type": "display_data"
    }
   ],
   "source": [
    "dens_Ks = range(1, 20)\n",
    "dens_km = [cluster.KMeans(n_clusters=i) for i in dens_Ks]\n",
    "dens_score = [dens_km[i].fit(dens_Xk).score(dens_Xk) for i in range(len(dens_km))]\n",
    "plot(dens_score)"
   ]
  },
  {
   "cell_type": "code",
   "execution_count": 200,
   "metadata": {},
   "outputs": [
    {
     "name": "stdout",
     "output_type": "stream",
     "text": [
      "649\n",
      "   dens_pca_kmeans_cluster                    Ward        GSS\n",
      "0                        4       Chessington South  E05000405\n",
      "1                        1  Tolworth and Hook Rise  E05000414\n",
      "2                        1              Berrylands  E05000401\n",
      "3                        1               Alexandra  E05000400\n",
      "4                        1                Beverley  E05000402\n",
      "                         GSS  Ward\n",
      "dens_pca_kmeans_cluster           \n",
      "0                        243   243\n",
      "1                        185   185\n",
      "2                        135   135\n",
      "3                         25    25\n",
      "4                         61    61\n"
     ]
    }
   ],
   "source": [
    "# --------------------\n",
    "# Clustering - Kmeans\n",
    "# --------------------\n",
    "\n",
    "dens_km = cluster.KMeans(n_clusters=5, random_state=0)\n",
    "dens_km.fit(dens_Xk)\n",
    "dens_cl = dens_km.labels_\n",
    "dens_centroids = dens_km.cluster_centers_\n",
    "\n",
    "dens_results = pd.DataFrame(data=dens_cl, columns=['dens_pca_kmeans_cluster'])\n",
    "dens_results['Ward'] = Ward\n",
    "dens_results['GSS'] = GSS\n",
    "\n",
    "print(len(dens_results))\n",
    "print(dens_results.head())\n",
    "\n",
    "dens_results.to_csv(dens_pca_kmeans_outfname, index=False)\n",
    "\n",
    "print(dens_results.pivot_table(index=['dens_pca_kmeans_cluster'], aggfunc=np.count_nonzero))"
   ]
  },
  {
   "cell_type": "code",
   "execution_count": 201,
   "metadata": {},
   "outputs": [
    {
     "name": "stdout",
     "output_type": "stream",
     "text": [
      "649\n",
      "   dens_pca_brch_cluster                    Ward        GSS\n",
      "0                      2       Chessington South  E05000405\n",
      "1                      4  Tolworth and Hook Rise  E05000414\n",
      "2                      1              Berrylands  E05000401\n",
      "3                      2               Alexandra  E05000400\n",
      "4                      2                Beverley  E05000402\n",
      "                       GSS  Ward\n",
      "dens_pca_brch_cluster           \n",
      "0                       19    19\n",
      "1                      217   217\n",
      "2                       69    69\n",
      "3                      112   112\n",
      "4                      232   232\n"
     ]
    }
   ],
   "source": [
    "# --------------------\n",
    "# Clustering - Birch\n",
    "# --------------------\n",
    "\n",
    "dens_brch = cluster.Birch(branching_factor=5, n_clusters=5, threshold=0.5, compute_labels=True)\n",
    "dens_brch.fit(dens_Xb)\n",
    "dens_cl_brch = dens_brch.labels_\n",
    "\n",
    "dens_brch_results = pd.DataFrame(data=dens_cl_brch, columns=['dens_pca_brch_cluster'])\n",
    "dens_brch_results['Ward'] = Ward\n",
    "dens_brch_results['GSS'] = GSS\n",
    "\n",
    "print(len(dens_brch_results))\n",
    "print(dens_brch_results.head())\n",
    "print(dens_brch_results.pivot_table(index=['dens_pca_brch_cluster'], aggfunc=np.count_nonzero))\n",
    "\n",
    "dens_brch_results.to_csv(dens_pca_brch_outfname, index=False)"
   ]
  },
  {
   "cell_type": "code",
   "execution_count": 202,
   "metadata": {},
   "outputs": [
    {
     "name": "stdout",
     "output_type": "stream",
     "text": [
      "649\n",
      "   dens_pca_hcl_cluster                    Ward        GSS\n",
      "0                     4       Chessington South  E05000405\n",
      "1                     2  Tolworth and Hook Rise  E05000414\n",
      "2                     1              Berrylands  E05000401\n",
      "3                     4               Alexandra  E05000400\n",
      "4                     4                Beverley  E05000402\n",
      "                      GSS  Ward\n",
      "dens_pca_hcl_cluster           \n",
      "0                      20    20\n",
      "1                     228   228\n",
      "2                     191   191\n",
      "3                     109   109\n",
      "4                     101   101\n"
     ]
    }
   ],
   "source": [
    "# --------------------\n",
    "# Clustering - Hierarchical\n",
    "# --------------------\n",
    "\n",
    "dens_hc = cluster.AgglomerativeClustering(n_clusters=5, linkage='ward')\n",
    "dens_hc.fit(dens_Xh)\n",
    "dens_hcl = dens_hc.labels_\n",
    "\n",
    "dens_hcl_results = pd.DataFrame(data=dens_hcl, columns=['dens_pca_hcl_cluster'])\n",
    "dens_hcl_results['Ward'] = Ward\n",
    "dens_hcl_results['GSS'] = GSS\n",
    "\n",
    "print(len(dens_hcl_results))\n",
    "print(dens_hcl_results.head())\n",
    "print(dens_hcl_results.pivot_table(index=['dens_pca_hcl_cluster'], aggfunc=np.count_nonzero))\n",
    "\n",
    "dens_hcl_results.to_csv(dens_pca_hier_outfname, index=False)"
   ]
  },
  {
   "cell_type": "markdown",
   "metadata": {},
   "source": [
    "### Classifiers"
   ]
  },
  {
   "cell_type": "code",
   "execution_count": 203,
   "metadata": {},
   "outputs": [],
   "source": [
    "# --------------------\n",
    "# K-fold CV\n",
    "# --------------------\n",
    "dens_X_train, dens_X_test, dens_Y_train, dens_Y_test = train_test_split(dens_Xpca, dens_Y, \n",
    "                                                                            train_size=0.7, random_state=3)\n",
    "dens_ts, = dens_Y_test.shape"
   ]
  },
  {
   "cell_type": "code",
   "execution_count": 204,
   "metadata": {},
   "outputs": [
    {
     "name": "stdout",
     "output_type": "stream",
     "text": [
      "----------Decision Tree Classfication----------\n",
      "195 misclassified data out of 195 (1 %)\n",
      "----------Bagging Classfication----------\n",
      "195 misclassified data out of 195 (1 %)\n",
      "----------AdaBoosting Classfication----------\n",
      "195 misclassified data out of 195 (1 %)\n",
      "----------Gradient Boosting Classfication----------\n",
      "195 misclassified data out of 195 (1 %)\n",
      "----------Random Forest Classfication----------\n",
      "195 misclassified data out of 195 (1 %)\n"
     ]
    }
   ],
   "source": [
    "# --------------------\n",
    "# Decision Tree Regressor\n",
    "# --------------------\n",
    "# Train\n",
    "dens_dtc = DecisionTreeRegressor()\n",
    "dens_dtc.fit(dens_X_train, dens_Y_train)\n",
    "\n",
    "# Predicting\n",
    "dens_dtc_pred = dens_dtc.predict(dens_X_test)\n",
    "\n",
    "# Finding mispredicted samples\n",
    "dens_dtc_verror = np.asarray([int(dens_dtc_pred[i] != dens_Y_test[i]) for i in range(0,dens_ts)])\n",
    "dens_dtc_error = np.sum(dens_dtc_verror)\n",
    "dens_dtc_ccidx = np.where(dens_dtc_verror == 0)\n",
    "dens_dtc_mcidx = np.where(dens_dtc_verror == 1)\n",
    "\n",
    "print(\"----------Decision Tree Classfication----------\")\n",
    "print(\"%s misclassified data out of %s (%s %s)\" % (dens_dtc_error, dens_ts, dens_dtc_error/dens_ts, '%'))\n",
    "\n",
    "# --------------------\n",
    "# Bagging Regressor\n",
    "# --------------------\n",
    "dens_bagb = AdaBoostRegressor(DecisionTreeRegressor(max_depth=10), n_estimators=20)\n",
    "#adab = AdaBoostClassifier(DecisionTreeClassifier(max_depth=2), n_estimators=20,learning_rate=1.5,algorithm=\"SAMME\")\n",
    "dens_bagb.fit(dens_X_train,dens_Y_train)\n",
    "\n",
    "# Predicting\n",
    "dens_bagb_pred = dens_bagb.predict(dens_X_test)\n",
    "\n",
    "# Finding mispredicted samples\n",
    "dens_bagb_verror = np.asarray([int(dens_bagb_pred[i] != dens_Y_test[i]) for i in range(0,dens_ts)])\n",
    "dens_bagb_error = np.sum(dens_bagb_verror)\n",
    "dens_bagb_ccidx = np.where(dens_bagb_verror == 0)\n",
    "dens_bagb_mcidx = np.where(dens_bagb_verror == 1)\n",
    "\n",
    "print(\"----------Bagging Classfication----------\")\n",
    "print(\"%s misclassified data out of %s (%s %s)\" % (dens_bagb_error, dens_ts, dens_bagb_error/dens_ts, '%'))\n",
    "\n",
    "# --------------------\n",
    "# AdaBoost Classifier\n",
    "# --------------------\n",
    "dens_adab = AdaBoostRegressor(DecisionTreeRegressor(max_depth=10), n_estimators=20)\n",
    "#adab = AdaBoostClassifier(DecisionTreeClassifier(max_depth=2), n_estimators=20,learning_rate=1.5,algorithm=\"SAMME\")\n",
    "dens_adab.fit(dens_X_train,dens_Y_train)\n",
    "\n",
    "# Predicting\n",
    "dens_adab_pred = dens_adab.predict(dens_X_test)\n",
    "\n",
    "# Finding mispredicted samples\n",
    "dens_adab_verror = np.asarray([int(dens_adab_pred[i] != dens_Y_test[i]) for i in range(0,dens_ts)])\n",
    "dens_adab_error = np.sum(dens_adab_verror)\n",
    "dens_adab_ccidx = np.where(dens_adab_verror == 0)\n",
    "dens_adab_mcidx = np.where(dens_adab_verror == 1)\n",
    "\n",
    "print(\"----------AdaBoosting Classfication----------\")\n",
    "print(\"%s misclassified data out of %s (%s %s)\" % (dens_adab_error, dens_ts, dens_adab_error/dens_ts, '%'))\n",
    "\n",
    "# --------------------\n",
    "# Gradient Boosting Classifier\n",
    "# --------------------\n",
    "dens_gradb = GradientBoostingRegressor(max_depth=5, n_estimators=30)\n",
    "dens_gradb.fit(dens_X_train,dens_Y_train)\n",
    "\n",
    "# Predicting\n",
    "dens_gradb_pred = dens_gradb.predict(dens_X_test)\n",
    "\n",
    "# Finding mispredicted samples\n",
    "dens_gradb_verror = np.asarray([int(dens_gradb_pred[i] != dens_Y_test[i]) for i in range(0,dens_ts)])\n",
    "dens_gradb_error = np.sum(dens_gradb_verror)\n",
    "dens_gradb_ccidx = np.where(dens_gradb_verror == 0)\n",
    "dens_gradb_mcidx = np.where(dens_gradb_verror == 1)\n",
    "\n",
    "print(\"----------Gradient Boosting Classfication----------\")\n",
    "print(\"%s misclassified data out of %s (%s %s)\" % (dens_gradb_error, dens_ts, dens_gradb_error/dens_ts, '%'))\n",
    "\n",
    "# --------------------\n",
    "# Random Forest Classifier\n",
    "# --------------------\n",
    "dens_rdf = RandomForestRegressor(max_depth=5, n_estimators=30)\n",
    "dens_rdf.fit(dens_X_train,dens_Y_train)\n",
    "\n",
    "# Predicting\n",
    "dens_rdf_pred = dens_rdf.predict(dens_X_test)\n",
    "\n",
    "# Finding mispredicted samples\n",
    "dens_rdf_verror = np.asarray([int(dens_rdf_pred[i] != dens_Y_test[i]) for i in range(0,dens_ts)])\n",
    "dens_rdf_error = np.sum(dens_rdf_verror)\n",
    "dens_rdf_ccidx = np.where(dens_rdf_verror == 0)\n",
    "dens_rdf_mcidx = np.where(dens_rdf_verror == 1)\n",
    "\n",
    "print(\"----------Random Forest Classfication----------\")\n",
    "print(\"%s misclassified data out of %s (%s %s)\" % (dens_rdf_error, dens_ts, dens_rdf_error/dens_ts, '%'))\n"
   ]
  },
  {
   "cell_type": "code",
   "execution_count": null,
   "metadata": {},
   "outputs": [],
   "source": []
  }
 ],
 "metadata": {
  "kernelspec": {
   "display_name": "Python 2",
   "language": "python",
   "name": "python2"
  },
  "language_info": {
   "codemirror_mode": {
    "name": "ipython",
    "version": 2
   },
   "file_extension": ".py",
   "mimetype": "text/x-python",
   "name": "python",
   "nbconvert_exporter": "python",
   "pygments_lexer": "ipython2",
   "version": "2.7.14"
  }
 },
 "nbformat": 4,
 "nbformat_minor": 2
}
